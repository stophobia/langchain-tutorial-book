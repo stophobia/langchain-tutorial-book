{
 "cells": [
  {
   "cell_type": "markdown",
   "metadata": {},
   "source": [
    "# 환경 변수 로드"
   ]
  },
  {
   "cell_type": "code",
   "execution_count": 1,
   "metadata": {},
   "outputs": [
    {
     "data": {
      "text/plain": [
       "True"
      ]
     },
     "execution_count": 1,
     "metadata": {},
     "output_type": "execute_result"
    }
   ],
   "source": [
    "from dotenv import load_dotenv\n",
    "load_dotenv()"
   ]
  },
  {
   "cell_type": "markdown",
   "metadata": {},
   "source": [
    "# 1-1"
   ]
  },
  {
   "cell_type": "code",
   "execution_count": 3,
   "metadata": {},
   "outputs": [
    {
     "name": "stdout",
     "output_type": "stream",
     "text": [
      "김치찌개를 만드는 간단한 3단계 레시피를 소개합니다.\n",
      "\n",
      "### 재료\n",
      "- 잘 익은 김치 1컵\n",
      "- 돼지고기(삼겹살 또는 목살) 150g\n",
      "- 두부 1/2모\n",
      "- 대파 1대\n",
      "- 마늘 2쪽\n",
      "- 고춧가루 1큰술\n",
      "- 국간장 1큰술\n",
      "- 물 4컵\n",
      "- 소금, 후추 약간\n",
      "\n",
      "### 단계 1: 재료 준비\n",
      "1. 김치는 한 입 크기로 자르고, 돼지고기는 얇게 썰어 준비합니다.\n",
      "2. 두부는 깍둑썰기하고, 대파는 어슷하게 썰고 마늘은 다져줍니다.\n",
      "\n",
      "### 단계 2: 육수 끓이기\n",
      "1. 냄비에 돼지고기를 넣고 중불에서 약간 볶아 기름이 나올 때까지 조리합니다.\n",
      "2. 돼지고기가 익으면 김치를 넣고 2~3분 더 볶아줍니다.\n",
      "3. 고춧가루, 다진 마늘을 넣고 섞은 후, 물 4컵을 부어 끓입니다.\n",
      "\n",
      "### 단계 3: 끓이고 완성하기\n",
      "1. 국물이 끓기 시작하면 두부와 국간장을 넣고, 약한 불로 15분 정도 끓입니다.\n",
      "2. 마지막으로 대파를 넣고 소금과 후추로 간을 맞춘 후, 불을 끄고 그릇에 담아 제공합니다.\n",
      "\n",
      "이제 맛있는 김치찌개가 완성되었습니다! 밥과 함께 즐기세요.\n"
     ]
    }
   ],
   "source": [
    "from langchain_openai import ChatOpenAI\n",
    "\n",
    "# 채팅 모델 초기화\n",
    "llm = ChatOpenAI(model='gpt-4o-mini')\n",
    "\n",
    "# 모델에 직접 텍스트를 입력\n",
    "result = llm.invoke(\"김치찌개에 대한 레시피를 3단계로 설명해주세요.\")\n",
    "\n",
    "# 답변을 출력 \n",
    "print(result.content)"
   ]
  },
  {
   "cell_type": "markdown",
   "metadata": {},
   "source": [
    "# 1-2"
   ]
  },
  {
   "cell_type": "code",
   "execution_count": 6,
   "metadata": {},
   "outputs": [
    {
     "name": "stdout",
     "output_type": "stream",
     "text": [
      "답변:  비빔밥은 한국의 전통적인 혼합밥으로, 다양한 재료를 함께 비벼 먹는 요리입니다. 아래는 비빔밥을 만드는 3단계 레시피입니다.\n",
      "\n",
      "### 1단계: 재료 준비\n",
      "- **주재료**: 밥 (2인분), 시금치, 당근, 오이, 고사리, 숙주, 버섯, 계란, 고추장\n",
      "- **양념재료**: 간장, 마늘, sesame oil (참기름), 소금, 후춧가루\n",
      "\n",
      "### 2단계: 채소 손질 및 볶기\n",
      "1. **채소 손질**: 시금치는 깨끗이 씻어 데치고, 당근과 오이는 채 썰고, 고사리와 버섯은 각각 간장, 마늘, 참기름으로 볶아줍니다.\n",
      "2. **숙주**: 숙주는 데쳐서 소금, 참기름으로 간을 합니다.\n",
      "3. **계란**: 계란은 프라이팬에 기름을 두르고 후라이 해줍니다.\n",
      "\n",
      "### 3단계: 비빔밥 만들기\n",
      "1. **밥 담기**: 그릇에 따뜻한 밥을 담습니다.\n",
      "2. **재료 얹기**: 준비한 채소와 계란 프라이를 밥 위에 예쁘게 배열합니다.\n",
      "3. **비비기**: 고추장을 원하는 만큼 올리고, 참기름을 추가한 후, 잘 비벼서 맛있게 즐기세요!\n",
      "\n",
      "이렇게 간단하게 비빔밥을 만들 수 있습니다. 즐거운 식사 되세요!\n"
     ]
    }
   ],
   "source": [
    "from langchain_openai import ChatOpenAI\n",
    "from langchain_core.prompts import ChatPromptTemplate\n",
    "\n",
    "# 채팅 모델 초기화\n",
    "llm = ChatOpenAI(model='gpt-4o-mini')\n",
    "\n",
    "# 프롬프트 템플릿 정의\n",
    "prompt = ChatPromptTemplate.from_template(\"{food}에 대한 레시피를 3단계로 설명해주세요.\")\n",
    "\n",
    "# prompt + llm 조합으로 체인을 구성 \n",
    "chain = prompt | llm\n",
    "\n",
    "# 체인 실행\n",
    "result = chain.invoke({\"food\": \"비빔밥\"})\n",
    "\n",
    "# 결과 출력\n",
    "print(\"답변: \", result.content)"
   ]
  },
  {
   "cell_type": "markdown",
   "metadata": {},
   "source": [
    "# 1-3"
   ]
  },
  {
   "cell_type": "code",
   "execution_count": 8,
   "metadata": {},
   "outputs": [
    {
     "name": "stdout",
     "output_type": "stream",
     "text": [
      "배추, 돼지고기, 두부\n"
     ]
    }
   ],
   "source": [
    "from langchain_openai import ChatOpenAI\n",
    "from langchain_core.prompts import ChatPromptTemplate\n",
    "from langchain_core.output_parsers import StrOutputParser\n",
    "\n",
    "# 채팅 모델 초기화\n",
    "llm = ChatOpenAI(model='gpt-4o-mini')\n",
    "\n",
    "# 프롬프트 템플릿 정의\n",
    "prompt = ChatPromptTemplate.from_template(\n",
    "    \"\"\"\n",
    "    {음식}의 주재료를 3가지만 나열하세요.\n",
    "    각 재료는 쉼표로 구분하세요.\n",
    "    \"\"\"\n",
    "    )\n",
    "\n",
    "# 체인 생성\n",
    "chain = prompt | llm | StrOutputParser()\n",
    "\n",
    "# 체인 실행\n",
    "result = chain.invoke({\"음식\": \"김치찌개\"})\n",
    "print(result)"
   ]
  }
 ],
 "metadata": {
  "kernelspec": {
   "display_name": "langchain-book-AlsLlHcI-py3.11",
   "language": "python",
   "name": "python3"
  },
  "language_info": {
   "codemirror_mode": {
    "name": "ipython",
    "version": 3
   },
   "file_extension": ".py",
   "mimetype": "text/x-python",
   "name": "python",
   "nbconvert_exporter": "python",
   "pygments_lexer": "ipython3",
   "version": "3.11.8"
  }
 },
 "nbformat": 4,
 "nbformat_minor": 2
}
