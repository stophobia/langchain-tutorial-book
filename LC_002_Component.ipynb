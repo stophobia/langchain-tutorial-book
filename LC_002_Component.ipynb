{
 "cells": [
  {
   "cell_type": "markdown",
   "metadata": {},
   "source": [
    "# 환경 변수 로드"
   ]
  },
  {
   "cell_type": "code",
   "execution_count": 1,
   "metadata": {},
   "outputs": [
    {
     "data": {
      "text/plain": [
       "True"
      ]
     },
     "execution_count": 1,
     "metadata": {},
     "output_type": "execute_result"
    }
   ],
   "source": [
    "from dotenv import load_dotenv\n",
    "load_dotenv()"
   ]
  },
  {
   "cell_type": "markdown",
   "metadata": {},
   "source": [
    "# 2-1"
   ]
  },
  {
   "cell_type": "code",
   "execution_count": 4,
   "metadata": {},
   "outputs": [
    {
     "name": "stdout",
     "output_type": "stream",
     "text": [
      "\n",
      "\n",
      "한국의 수도는 서울입니다.\n"
     ]
    }
   ],
   "source": [
    "from langchain_openai import OpenAI\n",
    "\n",
    "# LLM 모델 초기화\n",
    "llm = OpenAI(model=\"gpt-3.5-turbo-instruct\")\n",
    "\n",
    "# 모델에 텍스트 생성 요청하기\n",
    "response = llm.invoke(\"한국의 수도는 어디인가요?\")\n",
    "\n",
    "# 응답 객체 출력 \n",
    "print(response)"
   ]
  },
  {
   "cell_type": "markdown",
   "metadata": {},
   "source": [
    "# 2-2"
   ]
  },
  {
   "cell_type": "code",
   "execution_count": 5,
   "metadata": {},
   "outputs": [
    {
     "name": "stdout",
     "output_type": "stream",
     "text": [
      "한국의 수도는 서울입니다.\n"
     ]
    }
   ],
   "source": [
    "from langchain_openai import ChatOpenAI\n",
    "\n",
    "# 채팅 모델 초기화\n",
    "chat_model = ChatOpenAI(model=\"gpt-4o-mini\")\n",
    "\n",
    "# 모델에 질문하기\n",
    "response = chat_model.invoke(\"한국의 수도는 어디인가요?\")\n",
    "\n",
    "print(response.content)"
   ]
  },
  {
   "cell_type": "markdown",
   "metadata": {},
   "source": [
    "# 2-3"
   ]
  },
  {
   "cell_type": "code",
   "execution_count": 11,
   "metadata": {},
   "outputs": [
    {
     "name": "stdout",
     "output_type": "stream",
     "text": [
      "자료형: \n",
      "--------------------------------------------------\n",
      "<class 'langchain_core.messages.ai.AIMessage'>\n",
      "==================================================\n",
      "응답 텍스트: \n",
      "--------------------------------------------------\n",
      "김치찌개를 만들기 위해 필요한 기본 재료는 다음과 같습니다:\n",
      "\n",
      "### 기본 재료:\n",
      "1. **김치** (잘 익은 김치가 좋습니다) - 1~2컵\n",
      "2. **돼지고기** (삼겹살이나 목살) - 200g (선택 사항)\n",
      "3. **두부** - 1/2 모 (선택 사항)\n",
      "4. **대파** - 1대\n",
      "5. **양파** - 1개\n",
      "6. **마늘** - 2~3쪽 (다져서)\n",
      "7. **고춧가루** - 1~2큰술 (기호에 따라 조절)\n",
      "8. **국간장** 또는 **소금** - 맛 조절용\n",
      "9. **물** - 4컵 (조절 가능)\n",
      "\n",
      "### 선택 재료:\n",
      "- **버섯** (표고버섯, 느타리버섯 등)\n",
      "- **청양고추** - 1~2개 (매운맛을 원하시면)\n",
      "\n",
      "### 기본 조리 도구:\n",
      "- 냄비\n",
      "- 나무 주걱 또는 주방용 스푼\n",
      "\n",
      "이제 재료가 준비되었으면, 요리 과정을 시작해볼까요?\n",
      "==================================================\n",
      "메타데이터: \n",
      "--------------------------------------------------\n",
      "{'token_usage': {'completion_tokens': 276, 'prompt_tokens': 84, 'total_tokens': 360, 'completion_tokens_details': {'reasoning_tokens': 0}}, 'model_name': 'gpt-4o-mini-2024-07-18', 'system_fingerprint': 'fp_1bb46167f9', 'finish_reason': 'stop', 'logprobs': None}\n",
      "==================================================\n"
     ]
    }
   ],
   "source": [
    "from langchain_core.messages import HumanMessage, AIMessage, SystemMessage\n",
    "from langchain_openai import ChatOpenAI\n",
    "\n",
    "# 채팅 모델 초기화\n",
    "chat_model = ChatOpenAI(model=\"gpt-4o-mini\")\n",
    "\n",
    "# 메시지 리스트 생성\n",
    "messages = [\n",
    "    SystemMessage(content=\"당신은 친절한 요리 전문가입니다.\"),\n",
    "    HumanMessage(content=\"김치찌개를 만들고 싶어요. 어떻게 시작해야 할까요?\"),\n",
    "    AIMessage(content=\"좋은 선택입니다. 먼저 필요한 재료부터 준비해볼까요?\"),\n",
    "    HumanMessage(content=\"네, 어떤 재료가 필요한가요?\")\n",
    "]\n",
    "\n",
    "# 모델에 메시지 전달하기\n",
    "response = chat_model.invoke(messages)\n",
    "\n",
    "# 응답 객체의 자료형 확인 \n",
    "print(\"자료형: \")\n",
    "print(\"-\"*50)\n",
    "print(type(response))\n",
    "print(\"=\"*50)\n",
    "\n",
    "# 응답 객체의 텍스트 부분 확인 \n",
    "print(\"응답 텍스트: \")\n",
    "print(\"-\"*50)\n",
    "print(response.content)\n",
    "print(\"=\"*50)\n",
    "\n",
    "# 응답 객체의 메타 데이터 확인 \n",
    "print(\"메타데이터: \")\n",
    "print(\"-\"*50)\n",
    "print(response.response_metadata)\n",
    "print(\"=\"*50)"
   ]
  },
  {
   "cell_type": "markdown",
   "metadata": {},
   "source": [
    "# 2-4"
   ]
  },
  {
   "cell_type": "code",
   "execution_count": 7,
   "metadata": {},
   "outputs": [
    {
     "data": {
      "text/plain": [
       "StringPromptValue(text='김치찌개의 주재료 3가지를 알려주세요.')"
      ]
     },
     "execution_count": 7,
     "metadata": {},
     "output_type": "execute_result"
    }
   ],
   "source": [
    "from langchain_core.prompts import PromptTemplate\n",
    "\n",
    "# 단순 문장 형태의 프롬프트 템플릿 생성 \n",
    "# {음식}은 나중에 실제 음식 이름으로 대체될 변수\n",
    "prompt_template = PromptTemplate.from_template(\n",
    "    \"{음식}의 주재료 3가지를 알려주세요.\"\n",
    "    )\n",
    "\n",
    "# 템플릿에 실제 값을 넣어 프롬프트 생성 \n",
    "# \"김치찌개\"가 {음식} 자리에 들어감\n",
    "result = prompt_template.invoke({\"음식\": \"김치찌개\"})\n",
    "\n",
    "# 생성된 프롬프트 출력\n",
    "result"
   ]
  },
  {
   "cell_type": "markdown",
   "metadata": {},
   "source": [
    "# 2-5"
   ]
  },
  {
   "cell_type": "code",
   "execution_count": 8,
   "metadata": {},
   "outputs": [
    {
     "data": {
      "text/plain": [
       "ChatPromptValue(messages=[SystemMessage(content='당신은 유능한 한국어 요리 전문가입니다.', additional_kwargs={}, response_metadata={}), HumanMessage(content='김치찌개 레시피를 5개의 간단한 단계로 설명해주세요.', additional_kwargs={}, response_metadata={})])"
      ]
     },
     "execution_count": 8,
     "metadata": {},
     "output_type": "execute_result"
    }
   ],
   "source": [
    "from langchain_core.prompts import ChatPromptTemplate\n",
    "\n",
    "# 대화 형식의 프롬프트 템플릿 생성\n",
    "prompt_template = ChatPromptTemplate.from_messages([\n",
    "    # 시스템 메시지: AI의 역할 정의\n",
    "    (\"system\", \"당신은 유능한 한국어 요리 전문가입니다.\"),\n",
    "    # 사용자 메시지: 실제 질문 형식. {음식}은 변수\n",
    "    (\"user\", \"{음식} 레시피를 5개의 간단한 단계로 설명해주세요.\")\n",
    "])\n",
    "\n",
    "# 템플릿에 실제 값을 넣어 프롬프트 생성\n",
    "# \"김치찌개\"가 {음식} 자리에 들어감\n",
    "result = prompt_template.invoke({\"음식\": \"김치찌개\"})\n",
    "\n",
    "# 생성된 프롬프트 출력\n",
    "result"
   ]
  },
  {
   "cell_type": "markdown",
   "metadata": {},
   "source": [
    "# 2-6"
   ]
  },
  {
   "cell_type": "code",
   "execution_count": 9,
   "metadata": {},
   "outputs": [
    {
     "data": {
      "text/plain": [
       "ChatPromptValue(messages=[SystemMessage(content='당신은 유능한 한국어 요리 전문가입니다.', additional_kwargs={}, response_metadata={}), HumanMessage(content='김치찌개 레시피를 알려주세요.', additional_kwargs={}, response_metadata={})])"
      ]
     },
     "execution_count": 9,
     "metadata": {},
     "output_type": "execute_result"
    }
   ],
   "source": [
    "from langchain_core.prompts import ChatPromptTemplate, MessagesPlaceholder\n",
    "from langchain_core.messages import HumanMessage\n",
    "\n",
    "# 대화 형식의 프롬프트 템플릿 생성\n",
    "prompt_template = ChatPromptTemplate.from_messages([\n",
    "    # 시스템 메시지: AI의 역할 정의\n",
    "    (\"system\", \"당신은 유능한 한국어 요리 전문가입니다.\"),\n",
    "    # MessagesPlaceholder: 여러 메시지를 삽입할 수 있는 위치 지정\n",
    "    MessagesPlaceholder(\"msgs\")\n",
    "])\n",
    "\n",
    "# 템플릿에 실제 값을 넣어 프롬프트 생성\n",
    "# HumanMessage 객체를 리스트로 만들어 \"msgs\" 자리에 삽입\n",
    "result = prompt_template.invoke({\n",
    "    \"msgs\": [HumanMessage(content=\"김치찌개 레시피를 알려주세요.\")]\n",
    "})\n",
    "\n",
    "# 생성된 프롬프트 출력\n",
    "result"
   ]
  },
  {
   "cell_type": "markdown",
   "metadata": {},
   "source": [
    "# 2-7"
   ]
  },
  {
   "cell_type": "code",
   "execution_count": 2,
   "metadata": {},
   "outputs": [
    {
     "name": "stdout",
     "output_type": "stream",
     "text": [
      "{'ingredients': ['김치 2컵', '물 4컵', '돼지고기 200g', '두부 1/2모', '대파 1대', '양파 1/2개', '고추장 2큰술', '고춧가루 1큰술', '다진마늘 1큰술', '소금 약간', '참기름 1큰술'], 'steps': ['냄비에 물을 붓고 김치를 넣어 끓인다.', '돼지고기, 대파, 양파, 고추장, 고춧가루, 다진마늘을 넣고 끓인다.', '두부를 넣고 끓인다.', '소금과 참기름을 넣고 간을 맞춘다.', '끓인 김치찌개를 그릇에 담아 맛있게 즐긴다.']}\n",
      "\n",
      "재료:\n",
      "['김치 2컵', '물 4컵', '돼지고기 200g', '두부 1/2모', '대파 1대', '양파 1/2개', '고추장 2큰술', '고춧가루 1큰술', '다진마늘 1큰술', '소금 약간', '참기름 1큰술']\n",
      "\n",
      "조리 단계:\n",
      "['냄비에 물을 붓고 김치를 넣어 끓인다.', '돼지고기, 대파, 양파, 고추장, 고춧가루, 다진마늘을 넣고 끓인다.', '두부를 넣고 끓인다.', '소금과 참기름을 넣고 간을 맞춘다.', '끓인 김치찌개를 그릇에 담아 맛있게 즐긴다.']\n"
     ]
    }
   ],
   "source": [
    "from langchain_core.output_parsers import JsonOutputParser\n",
    "from langchain_core.prompts import PromptTemplate\n",
    "from langchain_openai import ChatOpenAI\n",
    "from pydantic import BaseModel, Field\n",
    "\n",
    "# ChatOpenAI 모델 초기화\n",
    "model = ChatOpenAI(temperature=0)\n",
    "\n",
    "# 데이터 구조 정의 - AI의 응답을 파싱할 때 사용됨\n",
    "class Recipe(BaseModel):\n",
    "    ingredients: list[str] = Field(description=\"요리에 필요한 재료 목록\")\n",
    "    steps: list[str] = Field(description=\"요리 과정을 순서대로 나열\")\n",
    "\n",
    "# JsonOutputParser는 AI의 응답을 JSON 형식으로 변환하고, Recipe 클래스 구조에 맞게 파싱함\n",
    "parser = JsonOutputParser(pydantic_object=Recipe)\n",
    "\n",
    "# 프롬프트 템플릿 정의\n",
    "# {format_instructions}는 파서의 지침을 포함\n",
    "# {query}는 사용자의 실제 질문을 나타냄\n",
    "prompt = PromptTemplate(\n",
    "    template=\"다음 요리의 레시피를 알려주세요.\\n{format_instructions}\\n{query}\\n\",\n",
    "    input_variables=[\"query\"],\n",
    "    partial_variables={\"format_instructions\": parser.get_format_instructions()},\n",
    ")\n",
    "\n",
    "# 체인 구성 - 프롬프트 템플릿, AI 모델, 출력 파서를 순차적으로 연결\n",
    "chain = prompt | model | parser\n",
    "\n",
    "# 체인 실행\n",
    "# 사용자 쿼리를 입력으로 제공하고 결과를 얻음\n",
    "result = chain.invoke({\"query\": \"김치찌개 레시피를 알려주세요.\"})\n",
    "\n",
    "# 결과 출력 - 파싱된 JSON 형식의 레시피 정보가 출력됨\n",
    "print(result)\n",
    "\n",
    "# 재료 목록 출력 \n",
    "print(\"\\n재료:\")\n",
    "print(result[\"ingredients\"])\n",
    "\n",
    "# 조리 단계 출력 \n",
    "print(\"\\n조리 단계:\")\n",
    "print(result[\"steps\"])"
   ]
  },
  {
   "cell_type": "markdown",
   "metadata": {},
   "source": [
    "# 2-8"
   ]
  },
  {
   "cell_type": "code",
   "execution_count": 3,
   "metadata": {},
   "outputs": [
    {
     "name": "stdout",
     "output_type": "stream",
     "text": [
      "ingredients=['200g 김치', '100g 돼지고기 (삼겹살 또는 목살)', '1개 두부', '1개 양파', '2개 대파', '2컵 물', '2큰술 고추가루', '1큰술 된장', '1큰술 간장', '1작은술 다진 마늘', '소금, 후추'] steps=['1. 냄비에 돼지고기를 넣고 중불에서 볶아 기름이 나오도록 한다.', '2. 돼지고기가 반쯤 익으면 김치를 넣고 함께 볶는다.', '3. 김치가 익으면 물을 부어 끓인다.', '4. 끓기 시작하면 된장과 고추가루를 넣고 잘 저어준다.', '5. 양파와 대파를 썰어 넣고, 다진 마늘도 추가한다.', '6. 두부를 한입 크기로 썰어 넣고, 소금과 후추로 간을 맞춘다.', '7. 모든 재료가 잘 섞이고 끓어오르면 중불에서 10분 정도 더 끓인다.', '8. 그릇에 담아 따뜻하게 즐긴다.']\n",
      "\n",
      "재료:\n",
      "['200g 김치', '100g 돼지고기 (삼겹살 또는 목살)', '1개 두부', '1개 양파', '2개 대파', '2컵 물', '2큰술 고추가루', '1큰술 된장', '1큰술 간장', '1작은술 다진 마늘', '소금, 후추']\n",
      "\n",
      "조리 단계:\n",
      "['1. 냄비에 돼지고기를 넣고 중불에서 볶아 기름이 나오도록 한다.', '2. 돼지고기가 반쯤 익으면 김치를 넣고 함께 볶는다.', '3. 김치가 익으면 물을 부어 끓인다.', '4. 끓기 시작하면 된장과 고추가루를 넣고 잘 저어준다.', '5. 양파와 대파를 썰어 넣고, 다진 마늘도 추가한다.', '6. 두부를 한입 크기로 썰어 넣고, 소금과 후추로 간을 맞춘다.', '7. 모든 재료가 잘 섞이고 끓어오르면 중불에서 10분 정도 더 끓인다.', '8. 그릇에 담아 따뜻하게 즐긴다.']\n"
     ]
    }
   ],
   "source": [
    "from langchain_core.output_parsers import PydanticOutputParser\n",
    "from pydantic import BaseModel, Field\n",
    "from langchain_openai import ChatOpenAI\n",
    "from langchain_core.prompts import ChatPromptTemplate\n",
    "\n",
    "# Pydantic 모델 정의: AI의 응답을 이 구조로 파싱할 예정\n",
    "class Recipe(BaseModel):\n",
    "    ingredients: list[str] = Field(description=\"요리에 필요한 재료 목록\")\n",
    "    steps: list[str] = Field(description=\"순서대로 나열된 조리 단계\")\n",
    "\n",
    "# PydanticOutputParser 초기화: AI의 응답을 Recipe 모델 형식으로 파싱\n",
    "parser = PydanticOutputParser(pydantic_object=Recipe)\n",
    "\n",
    "# 프롬프트 템플릿 정의: AI에게 요리 레시피를 요청하는 메시지 구조 설정\n",
    "prompt_template = ChatPromptTemplate.from_messages([\n",
    "    (\"system\", \"당신은 유능한 한국어 요리 전문가입니다.\"),\n",
    "    (\"user\", \"{음식} 레시피를 알려주세요. {format_instructions}\")\n",
    "])\n",
    "\n",
    "# ChatOpenAI 모델 초기화\n",
    "model = ChatOpenAI(model=\"gpt-4o-mini\")\n",
    "\n",
    "# 체인 구성: 프롬프트 템플릿 -> AI 모델 -> 출력 파서\n",
    "chain = prompt_template | model | parser\n",
    "\n",
    "# 체인 실행: '김치찌개' 레시피 요청\n",
    "result = chain.invoke({\n",
    "    \"음식\": \"김치찌개\", \n",
    "    \"format_instructions\": parser.get_format_instructions()  \n",
    "})\n",
    "\n",
    "# 결과 출력\n",
    "print(result)\n",
    "print(\"\\n재료:\")\n",
    "print(result.ingredients)\n",
    "print(\"\\n조리 단계:\")\n",
    "print(result.steps)"
   ]
  },
  {
   "cell_type": "markdown",
   "metadata": {},
   "source": [
    "# 2-9"
   ]
  },
  {
   "cell_type": "code",
   "execution_count": 25,
   "metadata": {},
   "outputs": [
    {
     "name": "stdout",
     "output_type": "stream",
     "text": [
      "{'kimchi_jjigae': [{'ingredients': [{'item': '김치 (200g)'},\n",
      "                                    {'item': '돼지고기 (150g)'},\n",
      "                                    {'item': '두부 (1/2모)'},\n",
      "                                    {'item': '양파 (1개)'},\n",
      "                                    {'item': '대파 (1대)'},\n",
      "                                    {'item': '마늘 (3쪽)'},\n",
      "                                    {'item': '고춧가루 (2큰술)'},\n",
      "                                    {'item': '국간장 (1큰술)'},\n",
      "                                    {'item': '소금 (적당량)'},\n",
      "                                    {'item': '물 (4컵)'}]},\n",
      "                   {'steps': [{'step': '돼지고기는 한입 크기로 썰어줍니다.'},\n",
      "                              {'step': '양파와 대파는 채 썰고, 두부는 깍둑썰기합니다.'},\n",
      "                              {'step': '냄비에 돼지고기를 넣고 중불에서 볶아줍니다.'},\n",
      "                              {'step': '고기가 익기 시작하면 김치를 넣고 함께 볶습니다.'},\n",
      "                              {'step': '고춧가루와 다진 마늘을 넣고 잘 섞어줍니다.'},\n",
      "                              {'step': '물 4컵을 붓고 끓입니다.'},\n",
      "                              {'step': '국간장과 소금으로 간을 맞춥니다.'},\n",
      "                              {'step': '두부와 양파, 대파를 넣고 중불에서 10분 정도 끓입니다.'},\n",
      "                              {'step': '모든 재료가 잘 익으면 불을 끄고 그릇에 담아냅니다.'}]}]}\n"
     ]
    }
   ],
   "source": [
    "from pprint import pprint\n",
    "from langchain_core.output_parsers import XMLOutputParser\n",
    "from langchain_openai import ChatOpenAI\n",
    "from langchain_core.prompts import ChatPromptTemplate\n",
    "\n",
    "# XMLOutputParser 초기화\n",
    "parser = XMLOutputParser()\n",
    "\n",
    "# 프롬프트 템플릿 정의\n",
    "prompt_template = ChatPromptTemplate.from_messages([\n",
    "    (\"system\", \"당신은 유능한 한국어 요리 전문가입니다. XML 형식으로 응답해주세요.\"),\n",
    "    (\"user\", \"\"\"{음식} 레시피를 알려주세요. \n",
    "    재료는 <ingredients></ingredients> 태그로, \n",
    "    각 재료는 <item></item> 태그로 감싸주세요.\n",
    "    조리 단계는 <steps></steps> 태그로,\n",
    "    각 단계는 <step></step> 태그로 감싸주세요.\n",
    "    {format_instructions}\"\"\")\n",
    "])\n",
    "\n",
    "# ChatOpenAI 모델 초기화\n",
    "model = ChatOpenAI(model=\"gpt-4o-mini\")\n",
    "\n",
    "# 체인 구성\n",
    "chain = prompt_template | model | parser\n",
    "\n",
    "# 체인 실행\n",
    "result = chain.invoke({\n",
    "    \"음식\": \"김치찌개\",\n",
    "    \"format_instructions\": parser.get_format_instructions()\n",
    "})\n",
    "\n",
    "# 결과 출력\n",
    "pprint(result)"
   ]
  },
  {
   "cell_type": "markdown",
   "metadata": {},
   "source": [
    "# 2-10"
   ]
  },
  {
   "cell_type": "code",
   "execution_count": 17,
   "metadata": {},
   "outputs": [
    {
     "name": "stdout",
     "output_type": "stream",
     "text": [
      "김치찌개에 사용할 육수는 여러 가지 방법으로 만들 수 있습니다. 가장 기본적인 육수는 멸치와 다시마를 사용하는 방법입니다. 아래에 간단한 멸치 다시마 육수 만드는 법을 소개합니다.\n",
      "\n",
      "### 멸치 다시마 육수 레시피\n",
      "\n",
      "#### 재료:\n",
      "- 건멸치: 20g (약 1/2컵)\n",
      "- 다시마: 10g (약 1장)\n",
      "- 물: 1리터\n",
      "\n",
      "#### 만드는 방법:\n",
      "1. **재료 준비**: 건멸치의 내장을 제거하고, 다시마는 가위로 잘라 준비합니다.\n",
      "   \n",
      "2. **물 끓이기**: 냄비에 물을 넣고 중불로 가열합니다.\n",
      "\n",
      "3. **멸치 넣기**: 물이 끓기 시작하면 건멸치를 넣고 약 5분간 끓입니다. 이때 강한 불에서 끓이면 멸치가 쓴맛을 낼 수 있으니 주의하세요.\n",
      "\n",
      "4. **다시마 넣기**: 멸치를 끓인 후 다시마를 넣고 10분 정도 더 끓입니다. 다시마는 너무 오래 끓이면 쓴맛이 나므로 끓기 시작한 후 10분 정도 후에 건져내세요.\n",
      "\n",
      "5. **육수 완성**: 멸치와 다시마를 모두 건져내고, 육수는 체에 걸러서 사용하면 됩니다.\n",
      "\n",
      "이 육수는 김치찌개 외에도 다양한 국물 요리에 사용할 수 있습니다. 육수를 미리 만들어 두면 맛있는 김치찌개를 더욱 쉽게 만들 수 있습니다. 즐거운 요리 되세요!\n"
     ]
    }
   ],
   "source": [
    "from langchain_community.chat_message_histories import ChatMessageHistory\n",
    "from langchain_core.output_parsers import StrOutputParser\n",
    "\n",
    "# 채팅 기록을 관리하기 위한 ChatMessageHistory 객체 생성\n",
    "history = ChatMessageHistory()\n",
    "\n",
    "# 사용자의 첫 번째 메시지를 채팅 기록에 추가\n",
    "history.add_user_message(\"김치찌개 레시피를 알려주세요.\")\n",
    "\n",
    "# AI의 첫 번째 응답을 채팅 기록에 추가\n",
    "history.add_ai_message(\"네, 먼저 재료부터 설명해드릴게요...\")\n",
    "\n",
    "# 프롬프트 템플릿 정의\n",
    "prompt_template = ChatPromptTemplate.from_messages([\n",
    "    # AI의 역할을 정의하는 시스템 메시지\n",
    "    (\"system\", \"당신은 유능한 한국어 조리사입니다.\"),\n",
    "    # 이전 대화 기록을 삽입할 위치 지정\n",
    "    MessagesPlaceholder(variable_name=\"history\"),\n",
    "    # 새로운 사용자 입력을 위한 템플릿\n",
    "    (\"user\", \"{input}\")\n",
    "])\n",
    "\n",
    "# 프롬프트 템플릿, AI 모델, 문자열 출력 파서를 체인으로 연결\n",
    "chain = prompt_template | model | StrOutputParser()\n",
    "\n",
    "# 체인 실행: 이전 대화 기록과 새로운 질문을 입력으로 제공\n",
    "result = chain.invoke({\n",
    "    \"history\": history.messages,  # 이전 대화 기록\n",
    "    \"input\": \"육수는 어떻게 만들어야 하나요?\"  # 새로운 사용자 질문\n",
    "})\n",
    "\n",
    "# 생성된 응답 출력\n",
    "print(result)"
   ]
  }
 ],
 "metadata": {
  "kernelspec": {
   "display_name": "langchain-book-AlsLlHcI-py3.11",
   "language": "python",
   "name": "python3"
  },
  "language_info": {
   "codemirror_mode": {
    "name": "ipython",
    "version": 3
   },
   "file_extension": ".py",
   "mimetype": "text/x-python",
   "name": "python",
   "nbconvert_exporter": "python",
   "pygments_lexer": "ipython3",
   "version": "3.11.8"
  }
 },
 "nbformat": 4,
 "nbformat_minor": 2
}
