{
 "cells": [
  {
   "cell_type": "markdown",
   "metadata": {},
   "source": [
    "# 환경 변수 로드"
   ]
  },
  {
   "cell_type": "code",
   "execution_count": 1,
   "metadata": {},
   "outputs": [
    {
     "data": {
      "text/plain": [
       "True"
      ]
     },
     "execution_count": 1,
     "metadata": {},
     "output_type": "execute_result"
    }
   ],
   "source": [
    "from dotenv import load_dotenv\n",
    "load_dotenv()"
   ]
  },
  {
   "cell_type": "markdown",
   "metadata": {},
   "source": [
    "# 4-1"
   ]
  },
  {
   "cell_type": "code",
   "execution_count": 4,
   "metadata": {},
   "outputs": [
    {
     "name": "stdout",
     "output_type": "stream",
     "text": [
      "로드된 문서의 수: 1\n"
     ]
    }
   ],
   "source": [
    "from langchain.document_loaders import TextLoader\n",
    "\n",
    "# 한국 음식 데이터가 저장된 텍스트 파일을 로드합니다.\n",
    "loader = TextLoader(\"./data/korean_food.txt\")\n",
    "\n",
    "# 로더를 사용하여 문서를 로드합니다.\n",
    "documents = loader.load()\n",
    "\n",
    "# 로드된 문서의 수를 출력합니다.\n",
    "print(f\"로드된 문서의 수: {len(documents)}\")"
   ]
  },
  {
   "cell_type": "markdown",
   "metadata": {},
   "source": [
    "# 4-2"
   ]
  },
  {
   "cell_type": "code",
   "execution_count": 5,
   "metadata": {},
   "outputs": [
    {
     "name": "stdout",
     "output_type": "stream",
     "text": [
      "첫 번째 문서의 내용:\n",
      "이름: 김치\n",
      "설명: 한국의 대표적인 발효 음식으로, 배추와 고춧가루를 주재료로 사용한다.\n",
      "특징: 유산균이 풍부하여 건강에 좋다. 배추김치, 깍두기, 열무김치 등 다양한 종류가 있다. 한국인의 식탁에서 빠지지 않는 반찬이며, 김치찌개, 김치전 등 다양한 요리의 재료로도 사용된다. UNESCO 인류무형문화유산으로 등재되었다.\n",
      "\n",
      "이름: 비빔밥\n",
      "설명: 밥 위에 다양한 나물과 고기를 올리고 고추장을 넣어 비벼 먹는 음식이다.\n",
      "특징: 곡류, 채소, 단백질이 균형 있게 구성되어 있어 영양가가 높다. 나물의 종류에 따라 다양한 비타민과 미네랄을 섭취할 수 있다. 지역에 따라 전주비빔밥, 진주비빔밥 등 특색 있는 비빔밥이 있다. 한국을 대표하는 건강식으로 해외에서도 인기가 높다.\n",
      "\n",
      "이름: 불고기\n",
      "설명: 얇게 썬 쇠고기를 달콤한 간장 양념에 재워 구운 요리이다.\n",
      "특징: 고구려 시대부터 즐겨먹던 음식으로, 원래 이름은 '마구'였다. 현대에 이르러 '불고기'라는 이름으로 널리 알려졌다. 한국을 대표하는 요리 중 하나로 외국인들에게도 인기가 높다. 불고기 피자, 불고기 버거 등 퓨전 요리의 재료로도 활용된다.\n",
      "\n",
      "이름: 삼겹살\n",
      "설명: 돼지고기의 삼겹살 부위를 구워 먹는 인기 있는 구이 요리이다.\n",
      "특징: 한국의 회식 문화와 밀접한 관련이 있으며, 보통 소주와 함께 즐긴다. 쌈장, 마늘, 상추 등과 함께 먹는 것이 일반적이다. 직접 구워 먹는 방식으로, 식당에서 사회적 교류의 중요한 매개체 역할을 한다. 최근에는 다양한 양념을 활용한 변형 요리도 인기를 얻고 있다.\n",
      "\n",
      "이름: 떡볶이\n",
      "설명: 떡과 고추장 소스를 볶아 만든 매콤달콤한 길거리 음식이다.\n",
      "특징: 원래는 궁중 요리 '궁중떡볶이'에서 유래했으며, 1950년대 이후 현재의 형태로 발전했다. 현재는 분식점이나 포장마차에서 쉽게 찾아볼 수 있는 대중적인 간식이다. 치즈떡볶이, 로제떡볶이 등 다양한 변형 요리도 인기가 있다. 한국의 대표적인 스트리트 푸드로 자리잡았다.\n",
      "\n",
      "이름: 삼계탕\n",
      "설명: 닭 속에 인삼과 찹쌀을 넣고 푹 끓인 보양식이다.\n",
      "특징: 단백질, 비타민, 미네랄이 풍부하며, 특히 여름철 원기 회복에 좋다고 알려져 있다. 한방 재료인 인삼, 대추, 밤 등이 들어가 건강에 좋은 음식으로 여겨진다. 특히 복날에 즐겨 먹는 전통이 있다. 외국인들에게도 인기 있는 한국의 대표적인 보양식이다.\n",
      "\n",
      "이름: 파전\n",
      "설명: 파를 주재료로 하여 부침개 형태로 만든 음식이다.\n",
      "특징: 해물파전, 김치전 등 다양한 종류가 있으며, 비 오는 날 즐겨 먹는 음식으로 유명하다. 막걸리와 함께 즐기는 것이 일반적이며, 바삭한 식감과 파의 향긋한 맛이 특징이다. 간단한 재료로 만들 수 있어 가정에서도 자주 만들어 먹는 음식이다.\n",
      "\n",
      "이름: 냉면\n",
      "설명: 차가운 국물에 메밀면을 말아 먹는 여름철 대표 음식이다.\n",
      "특징: 함흥냉면(비빔냉면)과 평양냉면(물냉면)이 대표적이며, 각각의 특징적인 맛과 식감이 있다. 평양냉면은 차갑고 깔끔한 육수가, 함흥냉면은 매콤한 양념이 특징이다. 여름철 더위를 식히는 데 인기 있는 음식이다. 최근에는 사계절 내내 즐기는 음식으로 자리잡았다.\n",
      "\n",
      "이름: 갈비\n",
      "설명: 소갈비를 양념해 구운 요리로, 한국식 바비큐의 대표주자이다.\n",
      "특징: 양념갈비, 생갈비, 찜갈비 등 다양한 조리법이 있으며, 특별한 날 즐겨 먹는 음식이다. 달콤한 양념과 부드러운 육질이 특징이며, 한국의 고급 요리 중 하나로 여겨진다. 외국인들에게도 인기가 높은 한식이다. 최근에는 돼지갈비도 인기를 얻고 있다.\n",
      "\n",
      "이름: 김밥\n",
      "설명: 김에 밥과 다양한 재료를 넣고 말아 만든 간편식이다.\n",
      "특징: 휴대가 간편하여 소풍이나 여행 시 자주 먹는다. 참치김밥, 치즈김밥, 불고기김밥 등 다양한 종류가 있다. 한국의 대표적인 패스트푸드로, 저렴한 가격에 영양가 있는 한 끼 식사로 인기가 높다. 최근에는 건강식 김밥, 특색있는 퓨전 김밥 등 다양한 변형이 등장하고 있다.\n",
      "\n",
      "--------------------------------------------------\n",
      "첫 번째 문서의 메타데이터:\n",
      "{'source': './data/korean_food.txt'}\n"
     ]
    }
   ],
   "source": [
    "# 첫 번째 문서의 내용을 출력합니다.\n",
    "print(\"첫 번째 문서의 내용:\")\n",
    "print(documents[0].page_content)\n",
    "print(\"\\n\"+\"-\"*50)\n",
    "\n",
    "# 메타데이터를 따로 출력\n",
    "print(\"첫 번째 문서의 메타데이터:\")\n",
    "print(documents[0].metadata)"
   ]
  },
  {
   "cell_type": "markdown",
   "metadata": {},
   "source": [
    "# 4-3"
   ]
  },
  {
   "cell_type": "code",
   "execution_count": 8,
   "metadata": {},
   "outputs": [
    {
     "name": "stdout",
     "output_type": "stream",
     "text": [
      "생성된 청크의 수: 30\n",
      "\n",
      "--------------------------------------------------\n",
      "첫 번째 청크의 내용:\n",
      "이름: 김치\n",
      "설명: 한국의 대표적인 발효 음식으로, 배추와 고춧가루를 주재료로 사용한다.\n",
      "\n",
      "--------------------------------------------------\n",
      "두 번째 청크의 내용:\n",
      "특징: 유산균이 풍부하여 건강에 좋다. 배추김치, 깍두기, 열무김치 등 다양한 종류가 있다. 한국인의 식탁에서 빠지지 않는 반찬이며, 김치찌개, 김치전 등 다양한 요리의 재료로도\n",
      "\n",
      "--------------------------------------------------\n"
     ]
    }
   ],
   "source": [
    "from langchain_text_splitters import RecursiveCharacterTextSplitter\n",
    "\n",
    "# 문서를 더 작은 청크로 분할\n",
    "text_splitter = RecursiveCharacterTextSplitter(\n",
    "    chunk_size=100,  # 각 청크의 최대 문자 수\n",
    "    chunk_overlap=20,  # 청크 간 겹치는 문자 수\n",
    "    length_function=len,  # 길이를 측정하는 함수\n",
    ")\n",
    "\n",
    "# 문서를 분할합니다.\n",
    "splits = text_splitter.split_documents(documents)\n",
    "\n",
    "# 분할된 청크의 수를 출력\n",
    "print(f\"생성된 청크의 수: {len(splits)}\")\n",
    "print(\"\\n\"+\"-\"*50)\n",
    "\n",
    "# 첫 번째 청크의 내용을 출력\n",
    "print(\"첫 번째 청크의 내용:\")\n",
    "print(splits[0].page_content)\n",
    "print(\"\\n\"+\"-\"*50)\n",
    "\n",
    "# 두 번째 청크의 내용을 출력\n",
    "print(\"두 번째 청크의 내용:\")\n",
    "print(splits[1].page_content)\n",
    "print(\"\\n\"+\"-\"*50)"
   ]
  },
  {
   "cell_type": "markdown",
   "metadata": {},
   "source": [
    "# 4-4"
   ]
  },
  {
   "cell_type": "code",
   "execution_count": 9,
   "metadata": {},
   "outputs": [
    {
     "name": "stdout",
     "output_type": "stream",
     "text": [
      "생성된 청크의 수: 23\n",
      "\n",
      "--------------------------------------------------\n",
      "1번째 청크의 내용:\n",
      "이름: 김치\n",
      "설명: 한국의 대표적인 발효 음식으로, 배추와 고춧가루를 주재료로 사용한다.\n",
      "\n",
      "--------------------------------------------------\n",
      "2번째 청크의 내용:\n",
      "특징: 유산균이 풍부하여 건강에 좋다. 배추김치, 깍두기, 열무김치 등 다양한 종류가 있다. 한국인의 식탁에서 빠지지 않는 반찬이며, 김치찌개, 김치전 등 다양한 요리의 재료로도 사용된다. UNESCO 인류무형문화유산으로 등재되었다.\n",
      "\n",
      "--------------------------------------------------\n",
      "3번째 청크의 내용:\n",
      "이름: 비빔밥\n",
      "설명: 밥 위에 다양한 나물과 고기를 올리고 고추장을 넣어 비벼 먹는 음식이다.\n",
      "\n",
      "--------------------------------------------------\n"
     ]
    }
   ],
   "source": [
    "from langchain_text_splitters import RecursiveCharacterTextSplitter\n",
    "\n",
    "# 문서를 더 작은 청크로 분할\n",
    "text_splitter = RecursiveCharacterTextSplitter(\n",
    "    chunk_size=150,  # 각 청크의 최대 문자 수를 늘림\n",
    "    chunk_overlap=30,  # 청크 간 겹치는 문자 수를 조금 늘림\n",
    "    length_function=len,\n",
    "    separators=[\n",
    "        \"\\n\\n\",  # 빈 줄로 구분\n",
    "        \"\\n\",    # 줄바꿈으로 구분\n",
    "        r\"(?<=\\. )\",  # 문장 끝 다음 공백\n",
    "        r\"(?<=이름: )\",  # '이름:' 다음\n",
    "        r\"(?<=설명: )\",  # '설명:' 다음\n",
    "        r\"(?<=특징: )\",  # '특징:' 다음\n",
    "        \" \",     # 공백으로 구분\n",
    "        \"\"       # 문자 단위로 구분\n",
    "    ]\n",
    ")\n",
    "\n",
    "# 문서를 분할합니다.\n",
    "splits = text_splitter.split_documents(documents)\n",
    "\n",
    "# 분할된 청크의 수를 출력\n",
    "print(f\"생성된 청크의 수: {len(splits)}\")\n",
    "print(\"\\n\"+\"-\"*50)\n",
    "\n",
    "# 처음 3개 청크의 내용을 출력\n",
    "for i in range(min(3, len(splits))):\n",
    "    print(f\"{i+1}번째 청크의 내용:\")\n",
    "    print(splits[i].page_content)\n",
    "    print(\"\\n\"+\"-\"*50)"
   ]
  },
  {
   "cell_type": "markdown",
   "metadata": {},
   "source": [
    "# 4-5"
   ]
  },
  {
   "cell_type": "code",
   "execution_count": 10,
   "metadata": {},
   "outputs": [
    {
     "name": "stdout",
     "output_type": "stream",
     "text": [
      "결합된 음식 항목 수: 10\n",
      "\n",
      "--------------------------------------------------\n",
      "1. 김치\n",
      "이름: 김치\n",
      "설명: 한국의 대표적인 발효 음식으로, 배추와 고춧가루를 주재료로 사용한다. 특징: 유산균이 풍부하여 건강에 좋다. 배추김치, 깍두기, 열무김치 등 다양한 종류가 있다. 한국인의 식탁에서 빠지지 않는 반찬이며, 김치찌개, 김치전 등 다양한 요리의 재료로도 사용된다. UNESCO 인류무형문화유산으로 등재되었다.\n",
      "--------------------------------------------------\n",
      "2. 비빔밥\n",
      "이름: 비빔밥\n",
      "설명: 밥 위에 다양한 나물과 고기를 올리고 고추장을 넣어 비벼 먹는 음식이다. 특징: 곡류, 채소, 단백질이 균형 있게 구성되어 있어 영양가가 높다. 나물의 종류에 따라 다양한 비타민과 미네랄을 섭취할 수 있다. 지역에 따라 전주비빔밥, 진주비빔밥 등 특색 있는 비빔밥이 있다. 한국을 대표하는 건강식으로 해외에서도 인기가 높다.\n",
      "--------------------------------------------------\n",
      "3. 불고기\n",
      "이름: 불고기\n",
      "설명: 얇게 썬 쇠고기를 달콤한 간장 양념에 재워 구운 요리이다. 특징: 고구려 시대부터 즐겨먹던 음식으로, 원래 이름은 '마구'였다. 현대에 이르러 '불고기'라는 이름으로 널리 알려졌다. 한국을 대표하는 요리 중 하나로 외국인들에게도 인기가 높다. 불고기 피자, 불고기 버거 등 퓨전 요리의 재료로도 활용된다.\n",
      "--------------------------------------------------\n",
      "4. 삼겹살\n",
      "이름: 삼겹살\n",
      "설명: 돼지고기의 삼겹살 부위를 구워 먹는 인기 있는 구이 요리이다. 특징: 한국의 회식 문화와 밀접한 관련이 있으며, 보통 소주와 함께 즐긴다. 쌈장, 마늘, 상추 등과 함께 먹는 것이 일반적이다. 직접 구워 먹는 방식으로, 식당에서 사회적 교류의 중요한 매개체 역할을 한다. 최근에는 다양한 양념을 활용한 변형 요리도 인기를 얻고 다양한 양념을 활용한 변형 요리도 인기를 얻고 있다.\n",
      "--------------------------------------------------\n",
      "5. 떡볶이\n",
      "이름: 떡볶이\n",
      "설명: 떡과 고추장 소스를 볶아 만든 매콤달콤한 길거리 음식이다. 특징: 원래는 궁중 요리 '궁중떡볶이'에서 유래했으며, 1950년대 이후 현재의 형태로 발전했다. 현재는 분식점이나 포장마차에서 쉽게 찾아볼 수 있는 대중적인 간식이다. 치즈떡볶이, 로제떡볶이 등 다양한 변형 요리도 인기가 있다. 한국의 대표적인 스트리트 푸드로 요리도 인기가 있다. 한국의 대표적인 스트리트 푸드로 자리잡았다.\n",
      "--------------------------------------------------\n",
      "6. 삼계탕\n",
      "이름: 삼계탕\n",
      "설명: 닭 속에 인삼과 찹쌀을 넣고 푹 끓인 보양식이다. 특징: 단백질, 비타민, 미네랄이 풍부하며, 특히 여름철 원기 회복에 좋다고 알려져 있다. 한방 재료인 인삼, 대추, 밤 등이 들어가 건강에 좋은 음식으로 여겨진다. 특히 복날에 즐겨 먹는 전통이 있다. 외국인들에게도 인기 있는 한국의 대표적인 보양식이다.\n",
      "--------------------------------------------------\n",
      "7. 파전\n",
      "이름: 파전\n",
      "설명: 파를 주재료로 하여 부침개 형태로 만든 음식이다. 특징: 해물파전, 김치전 등 다양한 종류가 있으며, 비 오는 날 즐겨 먹는 음식으로 유명하다. 막걸리와 함께 즐기는 것이 일반적이며, 바삭한 식감과 파의 향긋한 맛이 특징이다. 간단한 재료로 만들 수 있어 가정에서도 자주 만들어 먹는 음식이다.\n",
      "--------------------------------------------------\n",
      "8. 냉면\n",
      "이름: 냉면\n",
      "설명: 차가운 국물에 메밀면을 말아 먹는 여름철 대표 음식이다. 특징: 함흥냉면(비빔냉면)과 평양냉면(물냉면)이 대표적이며, 각각의 특징적인 맛과 식감이 있다. 평양냉면은 차갑고 깔끔한 육수가, 함흥냉면은 매콤한 양념이 특징이다. 여름철 더위를 식히는 데 인기 있는 음식이다. 최근에는 사계절 내내 즐기는 음식으로 자리잡았다.\n",
      "--------------------------------------------------\n",
      "9. 갈비\n",
      "이름: 갈비\n",
      "설명: 소갈비를 양념해 구운 요리로, 한국식 바비큐의 대표주자이다. 특징: 양념갈비, 생갈비, 찜갈비 등 다양한 조리법이 있으며, 특별한 날 즐겨 먹는 음식이다. 달콤한 양념과 부드러운 육질이 특징이며, 한국의 고급 요리 중 하나로 여겨진다. 외국인들에게도 인기가 높은 한식이다. 최근에는 돼지갈비도 인기를 얻고 있다.\n",
      "--------------------------------------------------\n",
      "10. 김밥\n",
      "이름: 김밥\n",
      "설명: 김에 밥과 다양한 재료를 넣고 말아 만든 간편식이다. 특징: 휴대가 간편하여 소풍이나 여행 시 자주 먹는다. 참치김밥, 치즈김밥, 불고기김밥 등 다양한 종류가 있다. 한국의 대표적인 패스트푸드로, 저렴한 가격에 영양가 있는 한 끼 식사로 인기가 높다. 최근에는 건강식 김밥, 특색있는 퓨전 김밥 등 다양한 변형이 등장하고 김밥, 특색있는 퓨전 김밥 등 다양한 변형이 등장하고 있다.\n",
      "--------------------------------------------------\n"
     ]
    }
   ],
   "source": [
    "# 음식 항목별로 청크를 결합하는 함수\n",
    "def combine_food_chunks(splits):\n",
    "    combined_chunks = []\n",
    "    current_food = \"\"\n",
    "    current_content = \"\"\n",
    "\n",
    "    for split in splits:\n",
    "        content = split.page_content\n",
    "        if content.startswith(\"이름:\"):\n",
    "            if current_food:\n",
    "                combined_chunks.append({\n",
    "                    \"name\": current_food, \n",
    "                    \"content\": current_content.strip()}\n",
    "                    )\n",
    "            current_food = content.split(\"이름:\")[1].split(\"\\n\")[0].strip()\n",
    "            current_content = content\n",
    "        else:\n",
    "            current_content += \" \" + content\n",
    "\n",
    "    # 마지막 음식 항목 추가\n",
    "    if current_food:\n",
    "        combined_chunks.append({\n",
    "            \"name\": current_food, \n",
    "            \"content\": current_content.strip()\n",
    "            })\n",
    "\n",
    "    return combined_chunks\n",
    "\n",
    "# 청크를 음식 항목별로 결합\n",
    "combined_food_chunks = combine_food_chunks(splits)\n",
    "\n",
    "# 결과 출력\n",
    "print(f\"결합된 음식 항목 수: {len(combined_food_chunks)}\")\n",
    "print(\"\\n\"+\"-\"*50)\n",
    "\n",
    "for i, food in enumerate(combined_food_chunks):\n",
    "    print(f\"{i+1}. {food['name']}\")\n",
    "    print(food['content'])\n",
    "    print(\"-\"*50)"
   ]
  },
  {
   "cell_type": "markdown",
   "metadata": {},
   "source": [
    "# 4-6"
   ]
  },
  {
   "cell_type": "code",
   "execution_count": 41,
   "metadata": {},
   "outputs": [
    {
     "name": "stdout",
     "output_type": "stream",
     "text": [
      "생성된 청크의 수: 9\n",
      "\n",
      "--------------------------------------------------\n",
      "1번째 청크의 내용:\n",
      "이름: 김치\n",
      "설명: 한국의 대표적인 발효 음식으로, 배추와 고춧가루를 주재료로 사용한다.\n",
      "특징: 유산균이 풍부하여 건강에 좋다. 배추김치, 깍두기, 열무김치 등 다양한 종류가 있다. 한국인의 식탁에서 빠지지 않는 반찬이며, 김치찌개, 김치전 등 다양한 요리의 재료로도 사용된다. UNESCO 인류무형문화유산으로 등재되었다. 이름: 비빔밥\n",
      "설명: 밥 위에 다양한 나물과 고기를 올리고 고추장을 넣어 비벼 먹는 음식이다.\n",
      "특징: 곡류, 채소, 단백질이 균형 있게 구성되어 있어 영양가가 높다. 나물의 종류에 따라 다양한 비타민과 미네랄을 섭취할 수 있다. 지역에 따라 전주비빔밥, 진주비빔밥 등 특색 있는 비빔밥이 있다. 한국을 대표하는 건강식으로 해외에서도 인기가 높다.\n",
      "\n",
      "--------------------------------------------------\n",
      "2번째 청크의 내용:\n",
      "이름: 불고기\n",
      "설명: 얇게 썬 쇠고기를 달콤한 간장 양념에 재워 구운 요리이다.\n",
      "특징: 고구려 시대부터 즐겨먹던 음식으로, 원래 이름은 '마구'였다. 현대에 이르러 '불고기'라는 이름으로 널리 알려졌다. 한국을 대표하는 요리 중 하나로 외국인들에게도 인기가 높다. 불고기 피자, 불고기 버거 등 퓨전 요리의 재료로도 활용된다.\n",
      "\n",
      "--------------------------------------------------\n",
      "3번째 청크의 내용:\n",
      "이름: 삼겹살\n",
      "설명: 돼지고기의 삼겹살 부위를 구워 먹는 인기 있는 구이 요리이다.\n",
      "특징: 한국의 회식 문화와 밀접한 관련이 있으며, 보통 소주와 함께 즐긴다. 쌈장, 마늘, 상추 등과 함께 먹는 것이 일반적이다. 직접 구워 먹는 방식으로, 식당에서 사회적 교류의 중요한 매개체 역할을 한다. 최근에는 다양한 양념을 활용한 변형 요리도 인기를 얻고 있다.\n",
      "\n",
      "--------------------------------------------------\n",
      "4번째 청크의 내용:\n",
      "이름: 떡볶이\n",
      "설명: 떡과 고추장 소스를 볶아 만든 매콤달콤한 길거리 음식이다.\n",
      "특징: 원래는 궁중 요리 '궁중떡볶이'에서 유래했으며, 1950년대 이후 현재의 형태로 발전했다. 현재는 분식점이나 포장마차에서 쉽게 찾아볼 수 있는 대중적인 간식이다. 치즈떡볶이, 로제떡볶이 등 다양한 변형 요리도 인기가 있다. 한국의 대표적인 스트리트 푸드로 자리잡았다.\n",
      "\n",
      "--------------------------------------------------\n",
      "5번째 청크의 내용:\n",
      "이름: 삼계탕\n",
      "설명: 닭 속에 인삼과 찹쌀을 넣고 푹 끓인 보양식이다.\n",
      "특징: 단백질, 비타민, 미네랄이 풍부하며, 특히 여름철 원기 회복에 좋다고 알려져 있다. 한방 재료인 인삼, 대추, 밤 등이 들어가 건강에 좋은 음식으로 여겨진다. 특히 복날에 즐겨 먹는 전통이 있다. 외국인들에게도 인기 있는 한국의 대표적인 보양식이다.\n",
      "\n",
      "--------------------------------------------------\n",
      "6번째 청크의 내용:\n",
      "이름: 파전\n",
      "설명: 파를 주재료로 하여 부침개 형태로 만든 음식이다.\n",
      "특징: 해물파전, 김치전 등 다양한 종류가 있으며, 비 오는 날 즐겨 먹는 음식으로 유명하다. 막걸리와 함께 즐기는 것이 일반적이며, 바삭한 식감과 파의 향긋한 맛이 특징이다. 간단한 재료로 만들 수 있어 가정에서도 자주 만들어 먹는 음식이다.\n",
      "\n",
      "--------------------------------------------------\n",
      "7번째 청크의 내용:\n",
      "이름: 냉면\n",
      "설명: 차가운 국물에 메밀면을 말아 먹는 여름철 대표 음식이다.\n",
      "특징: 함흥냉면(비빔냉면)과 평양냉면(물냉면)이 대표적이며, 각각의 특징적인 맛과 식감이 있다. 평양냉면은 차갑고 깔끔한 육수가, 함흥냉면은 매콤한 양념이 특징이다. 여름철 더위를 식히는 데 인기 있는 음식이다. 최근에는 사계절 내내 즐기는 음식으로 자리잡았다.\n",
      "\n",
      "--------------------------------------------------\n",
      "8번째 청크의 내용:\n",
      "이름: 갈비\n",
      "설명: 소갈비를 양념해 구운 요리로, 한국식 바비큐의 대표주자이다.\n",
      "특징: 양념갈비, 생갈비, 찜갈비 등 다양한 조리법이 있으며, 특별한 날 즐겨 먹는 음식이다. 달콤한 양념과 부드러운 육질이 특징이며, 한국의 고급 요리 중 하나로 여겨진다. 외국인들에게도 인기가 높은 한식이다. 최근에는 돼지갈비도 인기를 얻고 있다.\n",
      "\n",
      "--------------------------------------------------\n",
      "9번째 청크의 내용:\n",
      "이름: 김밥\n",
      "설명: 김에 밥과 다양한 재료를 넣고 말아 만든 간편식이다.\n",
      "특징: 휴대가 간편하여 소풍이나 여행 시 자주 먹는다. 참치김밥, 치즈김밥, 불고기김밥 등 다양한 종류가 있다. 한국의 대표적인 패스트푸드로, 저렴한 가격에 영양가 있는 한 끼 식사로 인기가 높다. 최근에는 건강식 김밥, 특색있는 퓨전 김밥 등 다양한 변형이 등장하고 있다.\n",
      "\n",
      "--------------------------------------------------\n"
     ]
    }
   ],
   "source": [
    "from langchain_huggingface.embeddings import HuggingFaceEmbeddings\n",
    "from langchain_experimental.text_splitter import SemanticChunker\n",
    "\n",
    "# Hugging Face의 임베딩 모델 생성\n",
    "embeddings = HuggingFaceEmbeddings(model_name=\"BAAI/bge-m3\")\n",
    "\n",
    "# 맥락 기반의 문서 분할 \n",
    "semantic_splitter = SemanticChunker(\n",
    "    embeddings=embeddings,\n",
    "    breakpoint_threshold_type=\"percentile\",  # 청크 분할 (기준)\n",
    "    breakpoint_threshold_amount=0.5,         # 청크 분할 (임곗값)\n",
    "    sentence_split_regex='\\n\\n'              # 문장 분할 정규식\n",
    "    )\n",
    "\n",
    "semantic_chunks = semantic_splitter.split_documents(documents)\n",
    "\n",
    "# 분할된 청크의 수를 출력\n",
    "print(f\"생성된 청크의 수: {len(semantic_chunks)}\")\n",
    "print(\"\\n\"+\"-\"*50)\n",
    "\n",
    "# 각 청크의 내용을 출력\n",
    "for i in range(len(semantic_chunks)):\n",
    "    print(f\"{i+1}번째 청크의 내용:\")\n",
    "    print(semantic_chunks[i].page_content)\n",
    "    print(\"\\n\"+\"-\"*50)"
   ]
  },
  {
   "cell_type": "markdown",
   "metadata": {},
   "source": [
    "# 4-7"
   ]
  },
  {
   "cell_type": "code",
   "execution_count": 42,
   "metadata": {},
   "outputs": [
    {
     "name": "stdout",
     "output_type": "stream",
     "text": [
      "client=<openai.resources.embeddings.Embeddings object at 0x36ddb5650> async_client=<openai.resources.embeddings.AsyncEmbeddings object at 0x36ddb6490> model='text-embedding-3-small' dimensions=None deployment='text-embedding-ada-002' openai_api_version=None openai_api_base=None openai_api_type=None openai_proxy=None embedding_ctx_length=8191 openai_api_key=SecretStr('**********') openai_organization=None allowed_special=None disallowed_special=None chunk_size=1000 max_retries=2 request_timeout=None headers=None tiktoken_enabled=True tiktoken_model_name=None show_progress_bar=False model_kwargs={} skip_empty=False default_headers=None default_query=None retry_min_seconds=4 retry_max_seconds=20 http_client=None http_async_client=None check_embedding_ctx_length=True\n",
      "모델의 컨텍스트 길이: 8191\n"
     ]
    }
   ],
   "source": [
    "from langchain_openai import OpenAIEmbeddings\n",
    "\n",
    "# OpenAI 임베딩 모델 생성\n",
    "embedding_generator = OpenAIEmbeddings(model=\"text-embedding-3-small\")\n",
    "\n",
    "# 임베딩 모델 정보 출력\n",
    "print(embedding_generator)\n",
    "\n",
    "# 임베딩 모델의 컨텍스트 길이 확인\n",
    "context_length = embedding_generator.embedding_ctx_length\n",
    "print(f\"모델의 컨텍스트 길이: {context_length}\")"
   ]
  },
  {
   "cell_type": "markdown",
   "metadata": {},
   "source": [
    "# 4-8"
   ]
  },
  {
   "cell_type": "code",
   "execution_count": 44,
   "metadata": {},
   "outputs": [
    {
     "name": "stdout",
     "output_type": "stream",
     "text": [
      "임베딩된 텍스트의 수: 5\n",
      "첫 번째 텍스트의 임베딩 벡터 크기: 1536\n"
     ]
    }
   ],
   "source": [
    "# 텍스트 데이터 목록\n",
    "texts = [\n",
    "    \"물리학은 물질과 에너지의 상호작용을 연구하는 학문이다.\",\n",
    "    \"화학은 물질의 성질과 변화를 다루는 과학이다.\",\n",
    "    \"생물학은 생명체의 구조, 기능, 성장 및 진화를 연구하는 분야이다.\",\n",
    "    \"지구과학은 지구의 구조와 과정을 연구하는 학문이다.\",\n",
    "    \"천문학은 우주와 그 안에 있는 천체를 연구하는 과학이다.\"\n",
    "]\n",
    "\n",
    "\n",
    "# 텍스트 데이터 임베딩 생성\n",
    "text_embeddings = embedding_generator.embed_documents(texts)\n",
    "\n",
    "# 임베딩 결과 확인\n",
    "print(f\"임베딩된 텍스트의 수: {len(text_embeddings)}\")\n",
    "print(f\"첫 번째 텍스트의 임베딩 벡터 크기: {len(text_embeddings[0])}\")"
   ]
  },
  {
   "cell_type": "markdown",
   "metadata": {},
   "source": [
    "# 4-9"
   ]
  },
  {
   "cell_type": "code",
   "execution_count": 45,
   "metadata": {},
   "outputs": [
    {
     "name": "stdout",
     "output_type": "stream",
     "text": [
      "질문 임베딩 벡터 크기: 1536\n"
     ]
    }
   ],
   "source": [
    "# 예시 질문 \n",
    "question = \"물리학의 기본 법칙은 무엇인가?\"\n",
    "\n",
    "# 질문 임베딩 생성\n",
    "question_embedding = embedding_generator.embed_query(question)\n",
    "\n",
    "# 질문 임베딩 결과 확인\n",
    "print(f\"질문 임베딩 벡터 크기: {len(question_embedding)}\")"
   ]
  },
  {
   "cell_type": "markdown",
   "metadata": {},
   "source": [
    "# 4-10"
   ]
  },
  {
   "cell_type": "code",
   "execution_count": 47,
   "metadata": {},
   "outputs": [
    {
     "name": "stdout",
     "output_type": "stream",
     "text": [
      "질문: 중력의 법칙은 무엇인가?\n",
      "가장 유사한 텍스트: 물리학은 물질과 에너지의 상호작용을 연구하는 학문이다.\n",
      "유사도 점수: 0.1859\n",
      "\n",
      "질문: DNA의 구조와 기능은 무엇인가?\n",
      "가장 유사한 텍스트: 생물학은 생명체의 구조, 기능, 성장 및 진화를 연구하는 분야이다.\n",
      "유사도 점수: 0.3406\n",
      "\n"
     ]
    }
   ],
   "source": [
    "from langchain_community.utils.math import cosine_similarity\n",
    "import numpy as np\n",
    "\n",
    "# 질문과 가장 유사한 텍스트 찾기 함수\n",
    "def find_closest_text(query, text_embeddings, texts):\n",
    "    # 질문 임베딩\n",
    "    query_embedding = embedding_generator.embed_query(query)\n",
    "    # 코사인 유사도 계산\n",
    "    similarity_scores = cosine_similarity([query_embedding], text_embeddings)[0]\n",
    "    # 가장 높은 유사도를 가진 텍스트 찾기\n",
    "    closest_idx = np.argmax(similarity_scores)\n",
    "    return texts[closest_idx], similarity_scores[closest_idx]\n",
    "\n",
    "# 테스트용 질문 목록\n",
    "questions = [\n",
    "    \"중력의 법칙은 무엇인가?\",\n",
    "    \"DNA의 구조와 기능은 무엇인가?\"\n",
    "]\n",
    "\n",
    "# 각 질문에 대해 가장 유사한 텍스트 찾고 출력\n",
    "for question in questions:\n",
    "    closest_text, similarity_score = find_closest_text(question, text_embeddings, texts)\n",
    "    print(f\"질문: {question}\")\n",
    "    print(f\"가장 유사한 텍스트: {closest_text}\")\n",
    "    print(f\"유사도 점수: {similarity_score:.4f}\\n\")"
   ]
  },
  {
   "cell_type": "markdown",
   "metadata": {},
   "source": [
    "# 4-11"
   ]
  },
  {
   "cell_type": "code",
   "execution_count": 63,
   "metadata": {},
   "outputs": [
    {
     "name": "stdout",
     "output_type": "stream",
     "text": [
      "client=SentenceTransformer(\n",
      "  (0): Transformer({'max_seq_length': 8192, 'do_lower_case': False}) with Transformer model: XLMRobertaModel \n",
      "  (1): Pooling({'word_embedding_dimension': 1024, 'pooling_mode_cls_token': True, 'pooling_mode_mean_tokens': False, 'pooling_mode_max_tokens': False, 'pooling_mode_mean_sqrt_len_tokens': False, 'pooling_mode_weightedmean_tokens': False, 'pooling_mode_lasttoken': False, 'include_prompt': True})\n",
      "  (2): Normalize()\n",
      ") model_name='BAAI/bge-m3' cache_folder=None model_kwargs={} encode_kwargs={} multi_process=False show_progress=False\n",
      "모델의 컨텍스트 길이: 8192\n"
     ]
    }
   ],
   "source": [
    "from langchain_huggingface.embeddings import HuggingFaceEmbeddings\n",
    "\n",
    "# Hugging Face 임베딩 모델 생성\n",
    "embedding_generator = HuggingFaceEmbeddings(model_name=\"BAAI/bge-m3\")\n",
    "\n",
    "# 임베딩 모델 정보 출력\n",
    "print(embedding_generator)\n",
    "\n",
    "# 임베딩 모델의 컨텍스트 길이 확인\n",
    "context_length = embedding_generator.client.max_seq_length\n",
    "print(f\"모델의 컨텍스트 길이: {context_length}\")"
   ]
  },
  {
   "cell_type": "markdown",
   "metadata": {},
   "source": [
    "# 4-12"
   ]
  },
  {
   "cell_type": "code",
   "execution_count": 64,
   "metadata": {},
   "outputs": [
    {
     "name": "stdout",
     "output_type": "stream",
     "text": [
      "임베딩된 텍스트의 수: 5\n",
      "첫 번째 텍스트의 임베딩 벡터 크기: 1024\n"
     ]
    }
   ],
   "source": [
    "# 텍스트 데이터 목록\n",
    "texts = [\n",
    "    \"물리학은 물질의 기본 원리를 연구하는 학문이다.\",\n",
    "    \"화학은 물질의 구성과 변화를 다루는 과학이다.\",\n",
    "    \"생물학은 생명체의 생리적 과정과 진화를 연구하는 분야이다.\",\n",
    "    \"지구과학은 지구의 구성과 변화 과정을 연구하는 학문이다.\",\n",
    "    \"천문학은 우주와 그 안의 천체를 연구하는 과학이다.\"\n",
    "]\n",
    "\n",
    "# 텍스트 데이터 임베딩 생성\n",
    "text_embeddings = embedding_generator.embed_documents(texts)\n",
    "\n",
    "# 임베딩 결과 확인\n",
    "print(f\"임베딩된 텍스트의 수: {len(text_embeddings)}\")\n",
    "print(f\"첫 번째 텍스트의 임베딩 벡터 크기: {len(text_embeddings[0])}\")"
   ]
  },
  {
   "cell_type": "markdown",
   "metadata": {},
   "source": [
    "# 4-13"
   ]
  },
  {
   "cell_type": "code",
   "execution_count": 65,
   "metadata": {},
   "outputs": [
    {
     "name": "stdout",
     "output_type": "stream",
     "text": [
      "질문 임베딩 벡터 크기: 1024\n"
     ]
    }
   ],
   "source": [
    "# 예시 질문 \n",
    "query = \"물리학의 주요 원리는 무엇인가?\"\n",
    "\n",
    "# 질문 임베딩 생성\n",
    "query_embedding = embedding_generator.embed_query(query)\n",
    "\n",
    "# 질문 임베딩 결과 확인\n",
    "print(f\"질문 임베딩 벡터 크기: {len(query_embedding)}\")"
   ]
  },
  {
   "cell_type": "markdown",
   "metadata": {},
   "source": [
    "# 4-14"
   ]
  },
  {
   "cell_type": "code",
   "execution_count": 68,
   "metadata": {},
   "outputs": [
    {
     "name": "stdout",
     "output_type": "stream",
     "text": [
      "질문: 중력의 법칙은 무엇인가?\n",
      "가장 유사한 텍스트: 물리학은 물질의 기본 원리를 연구하는 학문이다.\n",
      "유사도 점수: 0.5033\n",
      "\n",
      "질문: DNA의 구조와 기능은 무엇인가?\n",
      "가장 유사한 텍스트: 지구과학은 지구의 구성과 변화 과정을 연구하는 학문이다.\n",
      "유사도 점수: 0.4318\n",
      "\n"
     ]
    }
   ],
   "source": [
    "# 테스트용 질문 목록\n",
    "questions = [\n",
    "    \"중력의 법칙은 무엇인가?\",\n",
    "    \"DNA의 구조와 기능은 무엇인가?\"\n",
    "]\n",
    "\n",
    "# 각 질문에 대해 가장 유사한 텍스트 찾고 출력\n",
    "for question in questions:\n",
    "    closest_text, similarity_score = find_closest_text(question, text_embeddings, texts)\n",
    "    print(f\"질문: {question}\")\n",
    "    print(f\"가장 유사한 텍스트: {closest_text}\")\n",
    "    print(f\"유사도 점수: {similarity_score:.4f}\\n\")"
   ]
  },
  {
   "cell_type": "markdown",
   "metadata": {},
   "source": [
    "# 4-15"
   ]
  },
  {
   "cell_type": "code",
   "execution_count": 80,
   "metadata": {},
   "outputs": [
    {
     "name": "stdout",
     "output_type": "stream",
     "text": [
      "'korean_food' 벡터 저장소에 10 개의 음식 항목이 저장되었습니다.\n"
     ]
    }
   ],
   "source": [
    "from langchain_chroma import Chroma\n",
    "from langchain_core.documents import Document\n",
    "\n",
    "# 결합된 음식 청크를 벡터 저장소에 저장 (indexing)\n",
    "vectorstore = Chroma.from_documents(\n",
    "    documents=[\n",
    "        Document(\n",
    "            # 각 음식 청크를 Document 객체로 변환\n",
    "            page_content=food['content'],  # 음식의 내용\n",
    "            metadata={\"name\": food['name']}  # 음식의 이름을 메타데이터로 추가\n",
    "        ) for food in combined_food_chunks  # 청크 리스트를 Document로 변환\n",
    "    ],\n",
    "    embedding=embedding_generator,   # HuggingFace 모델을 사용하여 임베딩 생성\n",
    "    collection_name=\"korean_food\",   # 벡터 저장소의 이름을 \"korean_food\"로 지정\n",
    "    persist_directory=\"./chroma_db\"  # 벡터 저장소를 저장할 디렉토리 경로 지정\n",
    ")\n",
    "\n",
    "# 벡터 저장소가 성공적으로 생성되었음을 확인\n",
    "print(f\"'{vectorstore._collection_name}' 벡터 저장소에 \\\n",
    "{len(combined_food_chunks)} 개의 음식 항목이 저장되었습니다.\")"
   ]
  },
  {
   "cell_type": "markdown",
   "metadata": {},
   "source": [
    "# 4-16"
   ]
  },
  {
   "cell_type": "code",
   "execution_count": 81,
   "metadata": {},
   "outputs": [
    {
     "name": "stdout",
     "output_type": "stream",
     "text": [
      "벡터 저장소의 컬렉션 이름: korean_food\n",
      "벡터 저장소에 저장된 문서 수: 10\n"
     ]
    }
   ],
   "source": [
    "# 저장한 벡터스토어를 로드 (나중에 다시 사용할 경우)\n",
    "vectorstore = Chroma(\n",
    "    embedding_function=embedding_generator,\n",
    "    collection_name=\"korean_food\",\n",
    "    persist_directory=\"./chroma_db\",\n",
    "    )\n",
    "\n",
    "print(f\"벡터 저장소의 컬렉션 이름: {vectorstore._collection_name}\")\n",
    "print(f\"벡터 저장소에 저장된 문서 수: {vectorstore._collection.count()}\")"
   ]
  },
  {
   "cell_type": "markdown",
   "metadata": {},
   "source": [
    "# 4-17"
   ]
  },
  {
   "cell_type": "code",
   "execution_count": 87,
   "metadata": {},
   "outputs": [
    {
     "name": "stdout",
     "output_type": "stream",
     "text": [
      "* 이름: 김치\n",
      "설명: 한국의 대표적인 발효 음식으로, 배추와 고춧가루를 주재료로 사용한다. 특징: 유산균이 풍부하여 건강에 좋다. 배추김치, 깍두기, 열무김치 등 다양한 종류가 있다...\n",
      "* 이름: 김밥\n",
      "설명: 김에 밥과 다양한 재료를 넣고 말아 만든 간편식이다. 특징: 휴대가 간편하여 소풍이나 여행 시 자주 먹는다. 참치김밥, 치즈김밥, 불고기김밥 등 다양한 종류가 ...\n"
     ]
    }
   ],
   "source": [
    "# 유사도 검색 수행\n",
    "results = vectorstore.similarity_search(\n",
    "    \"김치에 대해 설명해주세요\",  # 검색할 쿼리 문장\n",
    "    k=2,  # 반환할 결과의 수\n",
    ")\n",
    "\n",
    "# 검색 결과 출력 - 각 문서의 내용 앞부분 100자 출력\n",
    "for doc in results:\n",
    "    print(f\"* {doc.page_content[:100]}...\") "
   ]
  },
  {
   "cell_type": "markdown",
   "metadata": {},
   "source": [
    "# 4-18"
   ]
  },
  {
   "cell_type": "code",
   "execution_count": 88,
   "metadata": {},
   "outputs": [
    {
     "name": "stdout",
     "output_type": "stream",
     "text": [
      "* 이름: 김치\n",
      "설명: 한국의 대표적인 발효 음식으로, 배추와 고춧가루를 주재료로 사용한다. 특징: 유산균이 풍부하여 건강에 좋다. 배추김치, 깍두기, 열무김치 등 다양한 종류가 있다...\n"
     ]
    }
   ],
   "source": [
    "# 유사도 검색 수행 - 필터링 조건을 추가 \n",
    "results = vectorstore.similarity_search(\n",
    "    \"김치에 대해 설명해주세요\",  # 검색할 쿼리 문장\n",
    "    k=2,  # 반환할 결과의 수\n",
    "    # 검색 결과 필터링 조건을 추가 \n",
    "    filter={\"name\": \"김치\"},  \n",
    ")\n",
    "\n",
    "# 검색 결과 출력 - 각 문서의 내용 앞부분 100자 출력\n",
    "for doc in results:\n",
    "    print(f\"* {doc.page_content[:100]}...\") "
   ]
  },
  {
   "cell_type": "markdown",
   "metadata": {},
   "source": [
    "# 4-19"
   ]
  },
  {
   "cell_type": "code",
   "execution_count": 89,
   "metadata": {},
   "outputs": [
    {
     "name": "stdout",
     "output_type": "stream",
     "text": [
      "* [유사도=0.6193] 이름: 비빔밥\n",
      "설명: 밥 위에 다양한 나물과 고기를 올리고 고추장을 넣어 비벼 먹는 음식이다. 특징: 곡류, 채소, 단백질이 균형 있게 구성되어 있어 영양가가 높다. 나물의 종류에...\n",
      "* [유사도=0.9808] 이름: 김밥\n",
      "설명: 김에 밥과 다양한 재료를 넣고 말아 만든 간편식이다. 특징: 휴대가 간편하여 소풍이나 여행 시 자주 먹는다. 참치김밥, 치즈김밥, 불고기김밥 등 다양한 종류가 ...\n"
     ]
    }
   ],
   "source": [
    "# 점수가 포함된 유사도 검색 수행\n",
    "results = vectorstore.similarity_search_with_score(\n",
    "    \"비빔밥의 영양성분은 무엇인가요?\",  # 검색할 쿼리 문장\n",
    "    k=2,  # 반환할 결과의 수\n",
    ")\n",
    "\n",
    "# 검색 결과와 유사도 점수 출력 - 각 문서의 내용 앞부분 100자 출력\n",
    "for doc, score in results:\n",
    "    print(f\"* [유사도={score:.4f}] {doc.page_content[:100]}...\") "
   ]
  },
  {
   "cell_type": "markdown",
   "metadata": {},
   "source": [
    "# 4-20"
   ]
  },
  {
   "cell_type": "code",
   "execution_count": 92,
   "metadata": {},
   "outputs": [
    {
     "name": "stdout",
     "output_type": "stream",
     "text": [
      "쿼리: 김치의 주재료는 무엇인가요?\n",
      "검색 결과:\n",
      "- 이름: 김치\n",
      "설명: 한국의 대표적인 발효 음식으로, 배추와 고춧가루를 주재료로 사용한다. 특징: 유산균이 풍부하여 건강에 좋다. 배추김치, 깍두기, 열무김치 등 다양한 종류가 있다. 한국인의 식탁에서 빠지지 않는 반찬이며, 김치찌개, 김치전 등 다양한 요리의 재료로도 사용된다. UNESCO 인류무형문화유산으로 등재되었다. [출처: 김치]\n",
      "--------------------------------------------------\n",
      "- 이름: 김밥\n",
      "설명: 김에 밥과 다양한 재료를 넣고 말아 만든 간편식이다. 특징: 휴대가 간편하여 소풍이나 여행 시 자주 먹는다. 참치김밥, 치즈김밥, 불고기김밥 등 다양한 종류가 있다. 한국의 대표적인 패스트푸드로, 저렴한 가격에 영양가 있는 한 끼 식사로 인기가 높다. 최근에는 건강식 김밥, 특색있는 퓨전 김밥 등 다양한 변형이 등장하고 김밥, 특색있는 퓨전 김밥 등 다양한 변형이 등장하고 있다. [출처: 김밥]\n",
      "--------------------------------------------------\n"
     ]
    }
   ],
   "source": [
    "# Top K 검색\n",
    "food_k_retriever = vectorstore.as_retriever(\n",
    "    search_kwargs={\"k\": 2},  # 상위 2개 문서 검색\n",
    ")\n",
    "\n",
    "query = \"김치의 주재료는 무엇인가요?\"  # 음식 관련 쿼리\n",
    "retrieved_food_docs = food_k_retriever.invoke(query)\n",
    "\n",
    "print(f\"쿼리: {query}\")\n",
    "print(\"검색 결과:\")\n",
    "for doc in retrieved_food_docs:\n",
    "    # 본문 내용 + 음식 이름으로 메타데이터 출력\n",
    "    print(f\"- {doc.page_content} [출처: {doc.metadata['name']}]\")  \n",
    "    print(\"-\"*50)"
   ]
  },
  {
   "cell_type": "markdown",
   "metadata": {},
   "source": [
    "# 4-21"
   ]
  },
  {
   "cell_type": "code",
   "execution_count": 93,
   "metadata": {},
   "outputs": [
    {
     "name": "stdout",
     "output_type": "stream",
     "text": [
      "쿼리: 김치의 주재료는 무엇인가요?\n",
      "검색 결과:\n",
      "- [유사도: 0.6684] [출처: 김치]\n",
      "이름: 김치\n",
      "설명: 한국의 대표적인 발효 음식으로, 배추와 고춧가루를 주재료로 사용한다. 특징: 유산균이 풍부하여 건강에 좋다. 배추김치, 깍두기, 열무김치 등 다양한 종류가 있다. 한국인의 식탁에서 빠지지 않는 반찬이며, 김치찌개, 김치전 등 다양한 요리의 재료로도 사용된다. UNESCO 인류무형문화유산으로 등재되었다.\n",
      "--------------------------------------------------\n"
     ]
    }
   ],
   "source": [
    "from langchain_community.utils.math import cosine_similarity\n",
    "\n",
    "# 유사도 기준 스코어 이상 문서 검색\n",
    "food_threshold_retriever = vectorstore.as_retriever(\n",
    "    search_type='similarity_score_threshold',\n",
    "    # 유사도 스코어가 0.5 이상인 문서 검색\n",
    "    search_kwargs={'score_threshold': 0.5, 'k': 2},  \n",
    ")\n",
    "\n",
    "query = \"김치의 주재료는 무엇인가요?\"\n",
    "retrieved_food_docs = food_threshold_retriever.invoke(query)\n",
    "\n",
    "print(f\"쿼리: {query}\")\n",
    "print(\"검색 결과:\")\n",
    "for doc in retrieved_food_docs:\n",
    "    score = cosine_similarity(\n",
    "        [embedding_generator.embed_query(query)],\n",
    "        [embedding_generator.embed_query(doc.page_content)]\n",
    "    )[0][0]\n",
    "    # 유사도 점수와 함께 출력     \n",
    "    print(f\"- [유사도: {score:.4f}] [출처: {doc.metadata['name']}]\")\n",
    "    print(f\"{doc.page_content}\")\n",
    "    print(\"-\"*50)"
   ]
  },
  {
   "cell_type": "markdown",
   "metadata": {},
   "source": [
    "# 4-22"
   ]
  },
  {
   "cell_type": "code",
   "execution_count": 95,
   "metadata": {},
   "outputs": [
    {
     "name": "stdout",
     "output_type": "stream",
     "text": [
      "쿼리: 김치의 주재료는 무엇인가요?\n",
      "검색 결과:\n",
      "- [유사도: 0.6684] [출처: 김치]\n",
      "이름: 김치\n",
      "설명: 한국의 대표적인 발효 음식으로, 배추와 고춧가루를 주재료로 사용한다. 특징: 유산균이 풍부하여 건강에 좋다. 배추김치, 깍두기, 열무김치 등 다양한 종류가 있다. 한국인의 식탁에서 빠지지 않는 반찬이며, 김치찌개, 김치전 등 다양한 요리의 재료로도 사용된다. UNESCO 인류무형문화유산으로 등재되었다.\n",
      "--------------------------------------------------\n",
      "- [유사도: 0.5540] [출처: 김밥]\n",
      "이름: 김밥\n",
      "설명: 김에 밥과 다양한 재료를 넣고 말아 만든 간편식이다. 특징: 휴대가 간편하여 소풍이나 여행 시 자주 먹는다. 참치김밥, 치즈김밥, 불고기김밥 등 다양한 종류가 있다. 한국의 대표적인 패스트푸드로, 저렴한 가격에 영양가 있는 한 끼 식사로 인기가 높다. 최근에는 건강식 김밥, 특색있는 퓨전 김밥 등 다양한 변형이 등장하고 김밥, 특색있는 퓨전 김밥 등 다양한 변형이 등장하고 있다.\n",
      "--------------------------------------------------\n",
      "- [유사도: 0.5058] [출처: 파전]\n",
      "이름: 파전\n",
      "설명: 파를 주재료로 하여 부침개 형태로 만든 음식이다. 특징: 해물파전, 김치전 등 다양한 종류가 있으며, 비 오는 날 즐겨 먹는 음식으로 유명하다. 막걸리와 함께 즐기는 것이 일반적이며, 바삭한 식감과 파의 향긋한 맛이 특징이다. 간단한 재료로 만들 수 있어 가정에서도 자주 만들어 먹는 음식이다.\n",
      "--------------------------------------------------\n"
     ]
    }
   ],
   "source": [
    "# MMR - 다양성 고려\n",
    "food_mmr_retriever = vectorstore.as_retriever(\n",
    "    search_type='mmr',\n",
    "    search_kwargs={\n",
    "        'k': 3,                 # 검색할 문서의 수\n",
    "        'fetch_k': 5,           # MMR 알고리즘에 전달할 문서의 수 (fetch_k > k)\n",
    "        'lambda_mult': 0.5,     # 다양성을 고려하는 정도\n",
    "    },\n",
    ")\n",
    "\n",
    "query = \"김치의 주재료는 무엇인가요?\"\n",
    "retrieved_food_docs = food_mmr_retriever.invoke(query)\n",
    "\n",
    "print(f\"쿼리: {query}\")\n",
    "print(\"검색 결과:\")\n",
    "for doc in retrieved_food_docs:\n",
    "    score = cosine_similarity(\n",
    "        [embedding_generator.embed_query(query)],\n",
    "        [embedding_generator.embed_query(doc.page_content)]\n",
    "    )[0][0]\n",
    "    # 유사도 점수와 함께 출력     \n",
    "    print(f\"- [유사도: {score:.4f}] [출처: {doc.metadata['name']}]\")\n",
    "    print(f\"{doc.page_content}\")\n",
    "    print(\"-\"*50)"
   ]
  },
  {
   "cell_type": "markdown",
   "metadata": {},
   "source": [
    "# 4-23"
   ]
  },
  {
   "cell_type": "code",
   "execution_count": 97,
   "metadata": {},
   "outputs": [
    {
     "name": "stdout",
     "output_type": "stream",
     "text": [
      "쿼리: 김치의 주재료는 무엇인가요?\n",
      "검색 결과:\n",
      "- 이름: 김치\n",
      "설명: 한국의 대표적인 발효 음식으로, 배추와 고춧가루를 주재료로 사용한다. 특징: 유산균이 풍부하여 건강에 좋다. 배추김치, 깍두기, 열무김치 등 다양한 종류가 있다. 한국인의 식탁에서 빠지지 않는 반찬이며, 김치찌개, 김치전 등 다양한 요리의 재료로도 사용된다. UNESCO 인류무형문화유산으로 등재되었다. [출처: 김치]\n",
      "--------------------------------------------------\n",
      "- 이름: 파전\n",
      "설명: 파를 주재료로 하여 부침개 형태로 만든 음식이다. 특징: 해물파전, 김치전 등 다양한 종류가 있으며, 비 오는 날 즐겨 먹는 음식으로 유명하다. 막걸리와 함께 즐기는 것이 일반적이며, 바삭한 식감과 파의 향긋한 맛이 특징이다. 간단한 재료로 만들 수 있어 가정에서도 자주 만들어 먹는 음식이다. [출처: 파전]\n",
      "--------------------------------------------------\n"
     ]
    }
   ],
   "source": [
    "# page_content 필터링 검색\n",
    "food_content_retriever = vectorstore.as_retriever(\n",
    "    search_kwargs={\n",
    "        'k': 2,\n",
    "        # \"김치\"라는 단어가 포함된 문서 검색\n",
    "        'where_document': {'$contains': '김치'},  \n",
    "    }\n",
    ")\n",
    "\n",
    "query = \"김치의 주재료는 무엇인가요?\"\n",
    "retrieved_food_docs = food_content_retriever.invoke(query)\n",
    "\n",
    "print(f\"쿼리: {query}\")\n",
    "print(\"검색 결과:\")\n",
    "for doc in retrieved_food_docs:\n",
    "    print(f\"- {doc.page_content} [출처: {doc.metadata['name']}]\")\n",
    "    print(\"-\"*50)"
   ]
  },
  {
   "cell_type": "markdown",
   "metadata": {},
   "source": [
    "# 4-24"
   ]
  },
  {
   "cell_type": "code",
   "execution_count": 98,
   "metadata": {},
   "outputs": [
    {
     "name": "stdout",
     "output_type": "stream",
     "text": [
      "쿼리: 김치의 주재료는 무엇인가요?\n",
      "검색 결과:\n",
      "- 이름: 김치\n",
      "설명: 한국의 대표적인 발효 음식으로, 배추와 고춧가루를 주재료로 사용한다. 특징: 유산균이 풍부하여 건강에 좋다. 배추김치, 깍두기, 열무김치 등 다양한 종류가 있다. 한국인의 식탁에서 빠지지 않는 반찬이며, 김치찌개, 김치전 등 다양한 요리의 재료로도 사용된다. UNESCO 인류무형문화유산으로 등재되었다. [출처: 김치]\n",
      "--------------------------------------------------\n"
     ]
    }
   ],
   "source": [
    "# metadata 필터링 검색\n",
    "food_metadata_retriever = vectorstore.as_retriever(\n",
    "    search_kwargs={\n",
    "        'filter': {'name': '김치'},  # 특정 음식 이름으로 필터링\n",
    "        'k': 2,\n",
    "    }\n",
    ")\n",
    "\n",
    "query = \"김치의 주재료는 무엇인가요?\"\n",
    "retrieved_food_docs = food_metadata_retriever.invoke(query)\n",
    "\n",
    "print(f\"쿼리: {query}\")\n",
    "print(\"검색 결과:\")\n",
    "for doc in retrieved_food_docs:\n",
    "    print(f\"- {doc.page_content} [출처: {doc.metadata['name']}]\")\n",
    "    print(\"-\"*50)"
   ]
  },
  {
   "cell_type": "markdown",
   "metadata": {},
   "source": [
    "# 4-25"
   ]
  },
  {
   "cell_type": "code",
   "execution_count": 102,
   "metadata": {},
   "outputs": [
    {
     "name": "stdout",
     "output_type": "stream",
     "text": [
      "질문: 김치의 주재료는 무엇인가요?\n",
      "----------------------------------------------------------------------------------------------------\n",
      "맥락: [Document(metadata={'name': '김치'}, page_content='이름: 김치\\n설명: 한국의 대표적인 발효 음식으로, 배추와 고춧가루를 주재료로 사용한다. 특징: 유산균이 풍부하여 건강에 좋다. 배추김치, 깍두기, 열무김치 등 다양한 종류가 있다. 한국인의 식탁에서 빠지지 않는 반찬이며, 김치찌개, 김치전 등 다양한 요리의 재료로도 사용된다. UNESCO 인류무형문화유산으로 등재되었다.'), Document(metadata={'name': '김밥'}, page_content='이름: 김밥\\n설명: 김에 밥과 다양한 재료를 넣고 말아 만든 간편식이다. 특징: 휴대가 간편하여 소풍이나 여행 시 자주 먹는다. 참치김밥, 치즈김밥, 불고기김밥 등 다양한 종류가 있다. 한국의 대표적인 패스트푸드로, 저렴한 가격에 영양가 있는 한 끼 식사로 인기가 높다. 최근에는 건강식 김밥, 특색있는 퓨전 김밥 등 다양한 변형이 등장하고 김밥, 특색있는 퓨전 김밥 등 다양한 변형이 등장하고 있다.')]\n",
      "----------------------------------------------------------------------------------------------------\n",
      "답변: 김치의 주재료는 배추와 고춧가루입니다.\n",
      "====================================================================================================\n"
     ]
    }
   ],
   "source": [
    "from langchain.chains import create_retrieval_chain\n",
    "from langchain.chains.combine_documents import create_stuff_documents_chain\n",
    "from langchain_core.prompts import ChatPromptTemplate\n",
    "from langchain_openai import ChatOpenAI\n",
    "\n",
    "# 검색기 및 LLM 초기화\n",
    "retriever = vectorstore.as_retriever(search_kwargs={\"k\": 2})\n",
    "llm = ChatOpenAI(model=\"gpt-4o-mini\")\n",
    "\n",
    "# 시스템 프롬프트 정의\n",
    "system_prompt = (\n",
    "    \"주어진 문맥을 사용하여 질문에 답하시오. \"\n",
    "    \"정확한 답을 모를 경우, '모른다'고 말하시오. \"\n",
    "    \"최대 세 문장으로 간결하게 답변하시오. \"\n",
    "    \"문맥: {context}\"\n",
    ")\n",
    "\n",
    "# 프롬프트 템플릿 생성\n",
    "prompt = ChatPromptTemplate.from_messages(\n",
    "    [\n",
    "        (\"system\", system_prompt),\n",
    "        (\"human\", \"{input}\"),\n",
    "    ]\n",
    ")\n",
    "\n",
    "# 질문 응답 체인 생성\n",
    "question_answer_chain = create_stuff_documents_chain(llm, prompt)\n",
    "\n",
    "# RAG 체인 생성\n",
    "chain = create_retrieval_chain(retriever, question_answer_chain)\n",
    "\n",
    "# 질의 응답 실행\n",
    "result = chain.invoke({\"input\": query})\n",
    "\n",
    "# 결과 출력\n",
    "print(f\"질문: {result['input']}\")\n",
    "print(\"-\"*100)\n",
    "print(f\"맥락: {result['context']}\")\n",
    "print(\"-\"*100)\n",
    "print(f\"답변: {result['answer']}\")\n",
    "print(\"=\"*100)"
   ]
  },
  {
   "cell_type": "markdown",
   "metadata": {},
   "source": [
    "# 4-26"
   ]
  },
  {
   "cell_type": "code",
   "execution_count": 104,
   "metadata": {},
   "outputs": [
    {
     "name": "stdout",
     "output_type": "stream",
     "text": [
      "질문: 김치의 주재료는 무엇인가요?\n",
      "답변: 김치의 주재료는 배추와 고춧가루입니다.\n"
     ]
    }
   ],
   "source": [
    "from langchain_core.output_parsers import StrOutputParser\n",
    "from langchain_core.runnables import RunnablePassthrough\n",
    "\n",
    "# 문서 포맷터 함수 정의\n",
    "def format_docs(docs):\n",
    "    return \"\\n\\n\".join([d.page_content for d in docs])\n",
    "\n",
    "# 체인 생성\n",
    "rag_chain = (\n",
    "    {\"context\": retriever | format_docs, \"input\": RunnablePassthrough()}\n",
    "    | prompt\n",
    "    | llm\n",
    "    | StrOutputParser()\n",
    ")\n",
    "\n",
    "# 질의 실행\n",
    "response = rag_chain.invoke(query)\n",
    "\n",
    "# 결과 출력\n",
    "print(f\"질문: {query}\")\n",
    "print(f\"답변: {response}\")"
   ]
  },
  {
   "cell_type": "markdown",
   "metadata": {},
   "source": [
    "# 4-27"
   ]
  },
  {
   "cell_type": "code",
   "execution_count": 111,
   "metadata": {},
   "outputs": [
    {
     "name": "stdout",
     "output_type": "stream",
     "text": [
      "Running on local URL:  http://127.0.0.1:7860\n",
      "\n",
      "To create a public link, set `share=True` in `launch()`.\n"
     ]
    },
    {
     "data": {
      "text/html": [
       "<div><iframe src=\"http://127.0.0.1:7860/\" width=\"100%\" height=\"500\" allow=\"autoplay; camera; microphone; clipboard-read; clipboard-write;\" frameborder=\"0\" allowfullscreen></iframe></div>"
      ],
      "text/plain": [
       "<IPython.core.display.HTML object>"
      ]
     },
     "metadata": {},
     "output_type": "display_data"
    },
    {
     "data": {
      "text/plain": []
     },
     "execution_count": 111,
     "metadata": {},
     "output_type": "execute_result"
    }
   ],
   "source": [
    "import gradio as gr\n",
    "\n",
    "# 사용자 질문을 처리하는 함수\n",
    "def answer_invoke(user_input, history):\n",
    "    \"\"\"사용자의 질문을 처리하고 RAG 체인을 통해 답변을 생성하는 함수\"\"\"\n",
    "    # 질의 실행\n",
    "    response = rag_chain.invoke(user_input)\n",
    "    return response\n",
    "\n",
    "# ChatInterface 생성\n",
    "demo = gr.ChatInterface(\n",
    "    fn=answer_invoke, \n",
    "    title=\"한국어 AI 어시스턴트\",\n",
    "    description=\"RAG 시스템을 활용하여 질문에 대해 답변합니다.\",\n",
    "    examples=[\n",
    "        \"김치의 주재료는 무엇인가요\", \n",
    "        \"발효음식에는 어떤 것이 있나요?\",\n",
    "        \"채식주의자를 위한 음식을 추천해주세요.\",\n",
    "        ],\n",
    "    retry_btn=\"다시 생성\",\n",
    "    undo_btn=\"되돌리기\",\n",
    "    clear_btn=\"대화 지우기\"\n",
    ")\n",
    "\n",
    "# Gradio 인터페이스 실행\n",
    "demo.launch()"
   ]
  },
  {
   "cell_type": "code",
   "execution_count": 112,
   "metadata": {},
   "outputs": [
    {
     "name": "stdout",
     "output_type": "stream",
     "text": [
      "Closing server running on port: 7860\n"
     ]
    }
   ],
   "source": [
    "# Gradio 인터페이스 종료 \n",
    "demo.close ()"
   ]
  }
 ],
 "metadata": {
  "kernelspec": {
   "display_name": "langchain-book-AlsLlHcI-py3.11",
   "language": "python",
   "name": "python3"
  },
  "language_info": {
   "codemirror_mode": {
    "name": "ipython",
    "version": 3
   },
   "file_extension": ".py",
   "mimetype": "text/x-python",
   "name": "python",
   "nbconvert_exporter": "python",
   "pygments_lexer": "ipython3",
   "version": "3.11.8"
  }
 },
 "nbformat": 4,
 "nbformat_minor": 2
}
