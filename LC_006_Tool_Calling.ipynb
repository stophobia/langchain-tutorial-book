{
 "cells": [
  {
   "cell_type": "markdown",
   "metadata": {},
   "source": [
    "# 환경 변수 로드"
   ]
  },
  {
   "cell_type": "code",
   "execution_count": 1,
   "metadata": {},
   "outputs": [
    {
     "data": {
      "text/plain": [
       "True"
      ]
     },
     "execution_count": 1,
     "metadata": {},
     "output_type": "execute_result"
    }
   ],
   "source": [
    "from dotenv import load_dotenv\n",
    "load_dotenv()"
   ]
  },
  {
   "cell_type": "markdown",
   "metadata": {},
   "source": [
    "# 5-1"
   ]
  },
  {
   "cell_type": "code",
   "execution_count": 2,
   "metadata": {},
   "outputs": [
    {
     "name": "stdout",
     "output_type": "stream",
     "text": [
      "{'url': 'https://blog.naver.com/PostView.naver?blogId=economy_gull&logNo=223322349603', 'content': '2024년 테슬라의 주가 전망은 어떻게 될까요? 1년 사이에 2배가 되었지만 최고 전 고점은 21년 4월 11일에 세운 411달러입니다. ... 전기자동차 업체 byd는 2023년도 4분기 50만 대를 판매하여 테슬라의 판매량을 넘었습니다.'}\n",
      "----------------------------------------------------------------------------------------------------\n",
      "{'url': 'https://stockscan.io/ko/stocks/TSLA/forecast', 'content': '테슬라의 주가(tsla) 전망은 다음 12개월 동안 일반적으로 긍정적인데요. 애널리스트들의 평균 예상 주가는 311.93달러로, 현재 주가인 255.99달러 대비 +21.85% 증가을 나타내고 있습니다. ... 2024: $324.42: $298.92: $324.94 +26.73%: 11월, 2024: $352.69: $329.70: $352.98 +37.77%: 12월, 2024 ...'}\n",
      "----------------------------------------------------------------------------------------------------\n"
     ]
    }
   ],
   "source": [
    "from langchain_community.tools import TavilySearchResults\n",
    "\n",
    "# 검색할 쿼리 \n",
    "query = \"2024년 4분기 테슬라의 주가 전망은?\"\n",
    "\n",
    "# 최대 2개의 결과를 가져올 수 있도록 설정\n",
    "web_search = TavilySearchResults(max_results=2)\n",
    "\n",
    "# 검색 쿼리를 이용해 결과를 호출 (invoke)\n",
    "search_results = web_search.invoke(query)\n",
    "\n",
    "# 검색 결과를 반복문을 통해 출력\n",
    "for result in search_results:\n",
    "    print(result)\n",
    "    print(\"-\" * 100)"
   ]
  },
  {
   "cell_type": "markdown",
   "metadata": {},
   "source": [
    "# 5-2"
   ]
  },
  {
   "cell_type": "code",
   "execution_count": 3,
   "metadata": {},
   "outputs": [
    {
     "name": "stdout",
     "output_type": "stream",
     "text": [
      "content='' additional_kwargs={'tool_calls': [{'id': 'call_WLrQd9P3ItStXtdsDOlYS6IT', 'function': {'arguments': '{\"query\":\"2024년 4분기 테슬라 주가 전망\"}', 'name': 'tavily_search_results_json'}, 'type': 'function'}], 'refusal': None} response_metadata={'token_usage': {'completion_tokens': 30, 'prompt_tokens': 95, 'total_tokens': 125, 'completion_tokens_details': {'reasoning_tokens': 0}}, 'model_name': 'gpt-4o-mini-2024-07-18', 'system_fingerprint': 'fp_1bb46167f9', 'finish_reason': 'tool_calls', 'logprobs': None} id='run-3384910a-a40e-4883-9ada-f650b09570b3-0' tool_calls=[{'name': 'tavily_search_results_json', 'args': {'query': '2024년 4분기 테슬라 주가 전망'}, 'id': 'call_WLrQd9P3ItStXtdsDOlYS6IT', 'type': 'tool_call'}] usage_metadata={'input_tokens': 95, 'output_tokens': 30, 'total_tokens': 125}\n",
      "----------------------------------------------------------------------------------------------------\n",
      "[{'name': 'tavily_search_results_json', 'args': {'query': '2024년 4분기 테슬라 주가 전망'}, 'id': 'call_WLrQd9P3ItStXtdsDOlYS6IT', 'type': 'tool_call'}]\n",
      "----------------------------------------------------------------------------------------------------\n"
     ]
    }
   ],
   "source": [
    "from langchain_openai import ChatOpenAI\n",
    "\n",
    "# LLM 모델 인스턴스를 생성\n",
    "llm = ChatOpenAI(model=\"gpt-4o-mini\")\n",
    "\n",
    "# 도구를 LLM에 바인딩\n",
    "llm_with_tools = llm.bind_tools(tools=[web_search])\n",
    "\n",
    "# 사용자의 질문 작성 \n",
    "query = \"2024년 4분기 테슬라의 주가 전망은?\"\n",
    "\n",
    "# LLM에 질문을 전달하고 도구 호출 결과를 받음 \n",
    "tools_output = llm_with_tools.invoke(query)\n",
    "\n",
    "# 도구 호출 결과를 출력\n",
    "print(tools_output)\n",
    "print(\"-\" * 100)\n",
    "\n",
    "# 도구 호출에 대한 세부 정보를 출력 \n",
    "print(tools_output.tool_calls)\n",
    "print(\"-\" * 100)"
   ]
  },
  {
   "cell_type": "markdown",
   "metadata": {},
   "source": [
    "# 5-3"
   ]
  },
  {
   "cell_type": "code",
   "execution_count": 4,
   "metadata": {},
   "outputs": [
    {
     "name": "stdout",
     "output_type": "stream",
     "text": [
      "[HumanMessage(content='2024년 4분기 테슬라의 주가 전망은?', additional_kwargs={}, response_metadata={}), AIMessage(content='', additional_kwargs={'tool_calls': [{'id': 'call_WLrQd9P3ItStXtdsDOlYS6IT', 'function': {'arguments': '{\"query\":\"2024년 4분기 테슬라 주가 전망\"}', 'name': 'tavily_search_results_json'}, 'type': 'function'}], 'refusal': None}, response_metadata={'token_usage': {'completion_tokens': 30, 'prompt_tokens': 95, 'total_tokens': 125, 'completion_tokens_details': {'reasoning_tokens': 0}}, 'model_name': 'gpt-4o-mini-2024-07-18', 'system_fingerprint': 'fp_1bb46167f9', 'finish_reason': 'tool_calls', 'logprobs': None}, id='run-3384910a-a40e-4883-9ada-f650b09570b3-0', tool_calls=[{'name': 'tavily_search_results_json', 'args': {'query': '2024년 4분기 테슬라 주가 전망'}, 'id': 'call_WLrQd9P3ItStXtdsDOlYS6IT', 'type': 'tool_call'}], usage_metadata={'input_tokens': 95, 'output_tokens': 30, 'total_tokens': 125}), ToolMessage(content='[{\"url\": \"https://www.chosun.com/economy/tech_it/2024/01/26/JEB5V42CHBEC3NMDBQWDJL6KN4/\", \"content\": \"테슬라 주가 12% 뚝 투자자들 진짜 걱정은 따로 있다 시총도 9위 추락 올해도 우울한 전망 실망스러운 지난해 4분기 실적을 기록한 테슬라의 주가가 25일현지 시각 12% 이상 폭락했다. 시가 총액은 제약사 일라이릴리에 밀려 미국 내 9위로 내려앉았다. ... 2024년 9월 ...\"}, {\"url\": \"https://stockscan.io/ko/stocks/TSLA/forecast\", \"content\": \"테슬라의 주가(tsla) 전망은 다음 12개월 동안 일반적으로 긍정적인데요. ... 2024년을 위한 테슬라 주식 (tsla) 가격 예측 ... 테슬라 주식 (tsla)의 2029년 가격 전망은 평균 $1,190.01이며, 높은 예측치는 $2,036.25이고 낮은 예측치는 $343.78입니다. 이는 이전 가격 $238.25에서 ...\"}]', name='tavily_search_results_json', tool_call_id='call_WLrQd9P3ItStXtdsDOlYS6IT', artifact={'query': '2024년 4분기 테슬라 주가 전망', 'follow_up_questions': None, 'answer': None, 'images': [], 'results': [{'title': \"테슬라 주가 12% '뚝'… 투자자들 진짜 걱정은 따로 있다\", 'url': 'https://www.chosun.com/economy/tech_it/2024/01/26/JEB5V42CHBEC3NMDBQWDJL6KN4/', 'content': '테슬라 주가 12% 뚝 투자자들 진짜 걱정은 따로 있다 시총도 9위 추락 올해도 우울한 전망 실망스러운 지난해 4분기 실적을 기록한 테슬라의 주가가 25일현지 시각 12% 이상 폭락했다. 시가 총액은 제약사 일라이릴리에 밀려 미국 내 9위로 내려앉았다. ... 2024년 9월 ...', 'score': 0.9997713, 'raw_content': None}, {'title': 'TSLA - 테슬라 주가 전망 - StockScan', 'url': 'https://stockscan.io/ko/stocks/TSLA/forecast', 'content': '테슬라의 주가(tsla) 전망은 다음 12개월 동안 일반적으로 긍정적인데요. ... 2024년을 위한 테슬라 주식 (tsla) 가격 예측 ... 테슬라 주식 (tsla)의 2029년 가격 전망은 평균 $1,190.01이며, 높은 예측치는 $2,036.25이고 낮은 예측치는 $343.78입니다. 이는 이전 가격 $238.25에서 ...', 'score': 0.99941385, 'raw_content': None}], 'response_time': 2.01})]\n",
      "----------------------------------------------------------------------------------------------------\n",
      "2024년 4분기 테슬라의 주가는 일부 전문가들에 의해 긍정적인 전망이 제시되고 있지만, 최근 실적 부진으로 인해 우려가 커지고 있습니다. \n",
      "\n",
      "1. **실적 부진**: 테슬라는 지난해 4분기 실적이 실망스러웠으며, 이로 인해 주가가 12% 이상 하락했습니다. 현재 테슬라의 시가 총액은 여러 기업에 밀려 미국 내에서 9위로 떨어졌습니다. (출처: [조선일보](https://www.chosun.com/economy/tech_it/2024/01/26/JEB5V42CHBEC3NMDBQWDJL6KN4/))\n",
      "\n",
      "2. **장기 전망**: 다른 분석에서는 테슬라 주가가 향후 12개월 동안 일반적으로 긍정적일 것으로 보이며, 2029년까지의 가격 예측은 평균 $1,190.01로 예상되고 있습니다. 이 중 높은 예측치는 $2,036.25, 낮은 예측치는 $343.78로 다양합니다. (출처: [StockScan](https://stockscan.io/ko/stocks/TSLA/forecast))\n",
      "\n",
      "종합적으로 볼 때, 테슬라의 2024년 4분기 주가는 단기적으로는 실적 우려로 인해 불안정할 수 있지만, 장기적으로는 긍정적인 성장 전망이 있는 것으로 분석됩니다.\n",
      "----------------------------------------------------------------------------------------------------\n",
      "{'token_usage': {'completion_tokens': 317, 'prompt_tokens': 417, 'total_tokens': 734, 'completion_tokens_details': {'reasoning_tokens': 0}}, 'model_name': 'gpt-4o-mini-2024-07-18', 'system_fingerprint': 'fp_f85bea6784', 'finish_reason': 'stop', 'logprobs': None}\n",
      "----------------------------------------------------------------------------------------------------\n"
     ]
    }
   ],
   "source": [
    "from langchain_core.messages import HumanMessage\n",
    "\n",
    "# 질문을 메시지 목록에 추가\n",
    "query = \"2024년 4분기 테슬라의 주가 전망은?\"\n",
    "messages = [HumanMessage(query)]\n",
    "\n",
    "# 도구 호출 메시지 추가\n",
    "messages.append(tools_output)\n",
    "\n",
    "# 도구 출력값을 메시지에 추가 \n",
    "for tool_call in tools_output.tool_calls:\n",
    "    # 호출할 도구 선택\n",
    "    selected_tool = {\"tavily_search_results_json\": web_search}[tool_call[\"name\"].lower()]\n",
    "    \n",
    "    # 도구 호출을 실행 \n",
    "    tool_msg = selected_tool.invoke(tool_call)\n",
    "\n",
    "    # 결과 메시지를 추가\n",
    "    messages.append(tool_msg)\n",
    "\n",
    "# 최종 모델 호출\n",
    "final_response = llm_with_tools.invoke(messages)\n",
    "\n",
    "# 최종 응답 출력\n",
    "print(messages)\n",
    "print(\"-\" * 100)\n",
    "\n",
    "print(final_response.content)\n",
    "print(\"-\" * 100)\n",
    "\n",
    "print(final_response.response_metadata)\n",
    "print(\"-\" * 100)"
   ]
  },
  {
   "cell_type": "markdown",
   "metadata": {},
   "source": [
    "# 5-4"
   ]
  },
  {
   "cell_type": "code",
   "execution_count": 5,
   "metadata": {},
   "outputs": [
    {
     "name": "stdout",
     "output_type": "stream",
     "text": [
      "다음 분기 테슬라(Tesla)의 주가 전망에 대한 분석은 다음과 같습니다:\n",
      "\n",
      "1. **주요 분석가 의견**:\n",
      "   - 33명의 분석가에 따르면, 테슬라 주식의 12개월 평균 목표가는 **$207.51**입니다. 이 중 낮은 예상가는 **$24.86**이며, 높은 예상가는 **$310**입니다. 현재 주가가 **$250**인 점을 고려할 때, 평균 목표가는 약 **17%**의 하락을 예측하고 있습니다. [자세한 내용 보기](https://stockanalysis.com/stocks/tsla/forecast/)\n",
      "\n",
      "2. **추가 분석**:\n",
      "   - 38명의 분석가의 분석에 따르면, 테슬라의 12개월 평균 가격 목표는 **$209.60**입니다. 이 또한 현재 가격인 **$254.27**에서 약 **17.57%**의 하락을 예상하고 있습니다. [자세한 내용 보기](https://www.marketbeat.com/stocks/NASDAQ/TSLA/forecast/)\n",
      "\n",
      "종합적으로, 현재 분석가들은 테슬라의 주가가 다음 분기에는 하락할 것으로 보며, 평균 목표가는 현재 주가보다 낮게 설정되어 있습니다.\n"
     ]
    }
   ],
   "source": [
    "import datetime\n",
    "from langchain_core.prompts import ChatPromptTemplate\n",
    "from langchain_core.runnables import RunnableConfig, chain\n",
    "\n",
    "# 오늘 날짜 설정\n",
    "today = datetime.datetime.today().strftime(\"%Y-%m-%d\")\n",
    "\n",
    "# 프롬프트 템플릿 정의\n",
    "prompt = ChatPromptTemplate([\n",
    "    (\"system\", f\"당신은 도움이 되는 AI 어시스턴트입니다. 오늘 날짜는 {today}입니다.\"),\n",
    "    (\"human\", \"{user_input}\"),\n",
    "    (\"placeholder\", \"{messages}\"),\n",
    "])\n",
    "\n",
    "# LLM 체인 생성\n",
    "llm_chain = prompt | llm_with_tools\n",
    "\n",
    "@chain\n",
    "def search_chain(user_input: str, config: RunnableConfig):\n",
    "    input_ = {\"user_input\": user_input}\n",
    "    ai_msg = llm_chain.invoke(input_, config=config)\n",
    "    tool_msgs = web_search.batch(ai_msg.tool_calls, config=config)\n",
    "    return llm_chain.invoke({**input_, \"messages\": [ai_msg, *tool_msgs]}, config=config)\n",
    "\n",
    "\n",
    "# 체인 실행\n",
    "response = search_chain.invoke(\"다음 분기 테슬라의 주가 전망은?\")\n",
    "\n",
    "# 응답 출력 \n",
    "print(response.content)"
   ]
  },
  {
   "cell_type": "markdown",
   "metadata": {},
   "source": [
    "# 5-5"
   ]
  },
  {
   "cell_type": "code",
   "execution_count": 6,
   "metadata": {},
   "outputs": [
    {
     "name": "stdout",
     "output_type": "stream",
     "text": [
      "저는 AI 어시스턴트입니다. 특별한 이름은 없지만, 도와드릴 준비가 되어 있습니다! 무엇을 도와드릴까요?\n"
     ]
    }
   ],
   "source": [
    "# 체인 실행\n",
    "response = search_chain.invoke(\"당신의 이름은 무엇인가요?\")\n",
    "\n",
    "# 응답 출력 \n",
    "print(response.content)"
   ]
  },
  {
   "cell_type": "markdown",
   "metadata": {},
   "source": [
    "# 5-6"
   ]
  },
  {
   "cell_type": "code",
   "execution_count": 7,
   "metadata": {},
   "outputs": [
    {
     "name": "stdout",
     "output_type": "stream",
     "text": [
      "content='저는 AI 언어 모델이기 때문에 특정한 이름은 없습니다. 하지만 \"Assistant\"나 \"AI\"라고 불러주시면 됩니다. 어떻게 도와드릴까요?' additional_kwargs={'refusal': None} response_metadata={'token_usage': {'completion_tokens': 38, 'prompt_tokens': 88, 'total_tokens': 126, 'completion_tokens_details': {'reasoning_tokens': 0}}, 'model_name': 'gpt-4o-mini-2024-07-18', 'system_fingerprint': 'fp_e9627b5346', 'finish_reason': 'stop', 'logprobs': None} id='run-4bcbccce-fb83-426b-be2f-ba7e15e4d56f-0' usage_metadata={'input_tokens': 88, 'output_tokens': 38, 'total_tokens': 126}\n",
      "----------------------------------------------------------------------------------------------------\n",
      "[]\n",
      "----------------------------------------------------------------------------------------------------\n"
     ]
    }
   ],
   "source": [
    "# 사용자의 질문 작성 \n",
    "query = \"당신의 이름은 무엇인가요?\"\n",
    "\n",
    "# LLM에 질문을 전달하고 도구 호출 결과를 받음 \n",
    "tools_output = llm_with_tools.invoke(query)\n",
    "\n",
    "# 도구 호출 결과를 출력\n",
    "print(tools_output)\n",
    "print(\"-\" * 100)\n",
    "\n",
    "# 도구 호출에 대한 세부 정보를 출력 \n",
    "print(tools_output.tool_calls)\n",
    "print(\"-\" * 100)"
   ]
  },
  {
   "cell_type": "markdown",
   "metadata": {},
   "source": [
    "# 5-7"
   ]
  },
  {
   "cell_type": "code",
   "execution_count": 8,
   "metadata": {},
   "outputs": [
    {
     "name": "stdout",
     "output_type": "stream",
     "text": [
      "자료형: \n",
      "<class 'langchain_core.tools.structured.StructuredTool'>\n",
      "----------------------------------------------------------------------------------------------------\n",
      "name: \n",
      "get_stock_price\n",
      "----------------------------------------------------------------------------------------------------\n",
      "description: \n",
      "주어진 주식 티커의 현재 주가를 조회합니다.\n",
      "\n",
      "    Args:\n",
      "        ticker: 주식 티커 심볼 (예: 'AAPL'은 Apple을 의미).\n",
      "\n",
      "    Returns:\n",
      "        현재 주가를 float 형식으로 반환합니다.\n",
      "----------------------------------------------------------------------------------------------------\n",
      "args: \n",
      "{'ticker': {'title': 'Ticker', 'type': 'string'}}\n",
      "----------------------------------------------------------------------------------------------------\n",
      "AAPL의 현재 주가: $227.52\n",
      "----------------------------------------------------------------------------------------------------\n"
     ]
    }
   ],
   "source": [
    "from langchain_core.tools import tool\n",
    "import yfinance as yf\n",
    "\n",
    "@tool\n",
    "def get_stock_price(ticker: str) -> float:\n",
    "    \"\"\"주어진 주식 티커의 현재 주가를 조회합니다.\n",
    "\n",
    "    Args:\n",
    "        ticker: 주식 티커 심볼 (예: 'AAPL'은 Apple을 의미).\n",
    "\n",
    "    Returns:\n",
    "        현재 주가를 float 형식으로 반환합니다.\n",
    "    \"\"\"\n",
    "    # Yahoo Finance를 사용하여 주식 데이터 가져오기\n",
    "    stock = yf.Ticker(ticker)\n",
    "    # 현재 주식 가격 가져오기 (최근 거래일의 종가)\n",
    "    stock_price = stock.history(period='1d')['Close'].iloc[0]\n",
    "    return stock_price\n",
    "\n",
    "# 도구 속성 확인\n",
    "print(\"자료형: \")\n",
    "print(type(get_stock_price))\n",
    "print(\"-\"*100)\n",
    "\n",
    "print(\"name: \")\n",
    "print(get_stock_price.name)\n",
    "print(\"-\"*100)\n",
    "\n",
    "print(\"description: \")\n",
    "print(get_stock_price.description)\n",
    "print(\"-\"*100)\n",
    "\n",
    "print(\"args: \")\n",
    "print(get_stock_price.args)\n",
    "print(\"-\"*100)\n",
    "\n",
    "# 함수의 인자로 티커 전달하여 실행\n",
    "current_price = get_stock_price.invoke({\"ticker\":\"AAPL\"})\n",
    "print(f\"AAPL의 현재 주가: ${current_price:.2f}\")\n",
    "print(\"-\"*100)"
   ]
  },
  {
   "cell_type": "markdown",
   "metadata": {},
   "source": [
    "# 5-8"
   ]
  },
  {
   "cell_type": "code",
   "execution_count": 9,
   "metadata": {},
   "outputs": [
    {
     "name": "stdout",
     "output_type": "stream",
     "text": [
      "content='' additional_kwargs={'tool_calls': [{'id': 'call_CypJ2xJTkQLPVFyxN7rspuE8', 'function': {'arguments': '{\"ticker\":\"TSLA\"}', 'name': 'get_stock_price'}, 'type': 'function'}], 'refusal': None} response_metadata={'token_usage': {'completion_tokens': 16, 'prompt_tokens': 98, 'total_tokens': 114, 'completion_tokens_details': {'reasoning_tokens': 0}}, 'model_name': 'gpt-4o-mini-2024-07-18', 'system_fingerprint': 'fp_1bb46167f9', 'finish_reason': 'tool_calls', 'logprobs': None} id='run-0e47c3e9-40b1-4242-ae4c-468f58490715-0' tool_calls=[{'name': 'get_stock_price', 'args': {'ticker': 'TSLA'}, 'id': 'call_CypJ2xJTkQLPVFyxN7rspuE8', 'type': 'tool_call'}] usage_metadata={'input_tokens': 98, 'output_tokens': 16, 'total_tokens': 114}\n",
      "----------------------------------------------------------------------------------------------------\n",
      "[{'name': 'get_stock_price', 'args': {'ticker': 'TSLA'}, 'id': 'call_CypJ2xJTkQLPVFyxN7rspuE8', 'type': 'tool_call'}]\n",
      "----------------------------------------------------------------------------------------------------\n",
      "[ToolMessage(content='254.22000122070312', name='get_stock_price', tool_call_id='call_CypJ2xJTkQLPVFyxN7rspuE8')]\n",
      "----------------------------------------------------------------------------------------------------\n"
     ]
    }
   ],
   "source": [
    "# 도구를 LLM에 바인딩\n",
    "llm_with_tools = llm.bind_tools(tools=[get_stock_price])\n",
    "\n",
    "# 사용자의 질문 작성 \n",
    "query = \"테슬라의 주가는 얼마인가요?\"\n",
    "\n",
    "# LLM에 질문을 전달하고 도구 호출 결과를 받음 \n",
    "tools_output = llm_with_tools.invoke(query)\n",
    "\n",
    "# 도구 호출 결과를 출력\n",
    "print(tools_output)\n",
    "print(\"-\" * 100)\n",
    "\n",
    "# 도구 호출에 대한 세부 정보를 출력 (스키마에 대한 결과)\n",
    "print(tools_output.tool_calls)\n",
    "print(\"-\" * 100)\n",
    "\n",
    "# 도구를 실행하여 출력값을 생성\n",
    "tool_msg = get_stock_price.batch(tools_output.tool_calls)\n",
    "\n",
    "# 출력각을 표시 \n",
    "print(tool_msg)\n",
    "print(\"-\" * 100)"
   ]
  },
  {
   "cell_type": "markdown",
   "metadata": {},
   "source": [
    "# 5-9"
   ]
  },
  {
   "cell_type": "code",
   "execution_count": 10,
   "metadata": {},
   "outputs": [
    {
     "name": "stdout",
     "output_type": "stream",
     "text": [
      "테슬라(TSLA)의 현재 주가는 약 254.22 달러입니다.\n"
     ]
    }
   ],
   "source": [
    "from datetime import datetime\n",
    "from langchain_core.prompts import ChatPromptTemplate\n",
    "from langchain_core.runnables import RunnableConfig, chain\n",
    "\n",
    "# 오늘 날짜 설정\n",
    "today = datetime.today().strftime(\"%Y-%m-%d\")\n",
    "\n",
    "# 프롬프트 템플릿 정의\n",
    "prompt = ChatPromptTemplate([\n",
    "    (\"system\", f\"당신은 도움이 되는 AI 어시스턴트입니다. 오늘 날짜는 {today}입니다.\"),\n",
    "    (\"human\", \"{user_input}\"),\n",
    "    (\"placeholder\", \"{messages}\"),\n",
    "])\n",
    "\n",
    "# 도구를 LLM에 바인딩\n",
    "llm_with_tools = llm.bind_tools(tools=[get_stock_price])\n",
    "\n",
    "# LLM 체인 생성\n",
    "llm_chain = prompt | llm_with_tools\n",
    "\n",
    "@chain\n",
    "def stock_price_chain(user_input: str, config: RunnableConfig):\n",
    "    input_ = {\"user_input\": user_input}\n",
    "    ai_msg = llm_chain.invoke(input_, config=config)\n",
    "    tool_msgs = get_stock_price.batch(ai_msg.tool_calls, config=config)\n",
    "    return llm_chain.invoke({**input_, \"messages\": [ai_msg, *tool_msgs]}, config=config)\n",
    "\n",
    "\n",
    "# 체인 실행\n",
    "response = stock_price_chain.invoke(\"테슬라의 주가는 얼마인가요?\")\n",
    "\n",
    "# 응답 출력 \n",
    "print(response.content)"
   ]
  },
  {
   "cell_type": "markdown",
   "metadata": {},
   "source": [
    "# 5-10"
   ]
  },
  {
   "cell_type": "code",
   "execution_count": 11,
   "metadata": {},
   "outputs": [
    {
     "name": "stdout",
     "output_type": "stream",
     "text": [
      "주가: $252.54, 거래일: 2023-12-22\n",
      "도구 이름: GetStockPriceWithDate\n",
      "도구 설명: 주어진 주식 티커와 거래일의 주가를 조회합니다.\n",
      "도구 인자: {'ticker': {'description': \"주식 티커 심볼 (예: 'AAPL'은 Apple을 의미)\", 'title': 'Ticker', 'type': 'string'}, 'date': {'default': '', 'description': '조회할 날짜 (YYYY-MM-DD 형식). \\n비워두면 최근 거래일 사용', 'title': 'Date', 'type': 'string'}}\n"
     ]
    }
   ],
   "source": [
    "from langchain_core.tools import StructuredTool\n",
    "from pydantic import BaseModel, Field\n",
    "from textwrap import dedent\n",
    "import yfinance as yf\n",
    "from datetime import datetime, timedelta\n",
    "\n",
    "# 입력 스키마 정의\n",
    "class StockPriceInput(BaseModel):\n",
    "    \"\"\"주식 가격 조회 입력 스키마.\"\"\"\n",
    "\n",
    "    ticker: str = Field(description=\"주식 티커 심볼 (예: 'AAPL'은 Apple을 의미)\")\n",
    "    date: str = Field(description=dedent(\"\"\"\\\n",
    "        조회할 날짜 (YYYY-MM-DD 형식). \n",
    "        비워두면 최근 거래일 사용\"\"\"), default=\"\")\n",
    "\n",
    "def get_stock_price_with_date(ticker: str, date: str) -> tuple:\n",
    "    \"\"\"주어진 주식 티커와 거래일의 주가를 조회합니다.\"\"\"\n",
    "\n",
    "    stock = yf.Ticker(ticker)\n",
    "    \n",
    "    # 사용자가 지정한 날짜로 데이터 조회\n",
    "    end_date = datetime.strptime(date, \"%Y-%m-%d\")\n",
    "    start_date = end_date - timedelta(days=5)  # 5일 전부터 조회 (주말/공휴일 고려)\n",
    "    stock_data = stock.history(start=start_date, end=end_date + timedelta(days=1))\n",
    "    \n",
    "    if stock_data.empty:\n",
    "        return None, None  # 데이터가 없는 경우\n",
    "    \n",
    "    # 가장 최근 데이터의 날짜와 종가 반환\n",
    "    last_trading_date = stock_data.index[-1].strftime('%Y-%m-%d')\n",
    "    stock_price = stock_data['Close'].iloc[-1]\n",
    "    \n",
    "    return stock_price, last_trading_date\n",
    "\n",
    "\n",
    "# StructuredTool로 도구 생성\n",
    "stock_price_date_tool = StructuredTool.from_function(\n",
    "    func=get_stock_price_with_date,\n",
    "    name=\"GetStockPriceWithDate\",\n",
    "    description=\"주어진 주식 티커와 거래일의 주가를 조회합니다.\",\n",
    "    args_schema=StockPriceInput,\n",
    "    return_direct=True\n",
    ")\n",
    "\n",
    "# 도구 사용 예시\n",
    "result = stock_price_date_tool.invoke({\"ticker\": \"TSLA\", \"date\": \"2023-12-25\"})\n",
    "if result[0] is not None:\n",
    "    print(f\"주가: ${result[0]:.2f}, 거래일: {result[1]}\")\n",
    "else:\n",
    "    print(\"해당 날짜의 주가 정보를 찾을 수 없습니다.\")\n",
    "\n",
    "print(f\"도구 이름: {stock_price_date_tool.name}\")\n",
    "print(f\"도구 설명: {stock_price_date_tool.description}\")\n",
    "print(f\"도구 인자: {stock_price_date_tool.args}\")"
   ]
  },
  {
   "cell_type": "markdown",
   "metadata": {},
   "source": [
    "# 5-11"
   ]
  },
  {
   "cell_type": "code",
   "execution_count": 12,
   "metadata": {},
   "outputs": [
    {
     "name": "stdout",
     "output_type": "stream",
     "text": [
      "2023년 크리스마스 시즌 동안 테슬라(주식 티커: TSLA)의 주가는 다음과 같았습니다:\n",
      "\n",
      "- 2023년 12월 22일: $252.54\n",
      "- 2023년 12월 24일: $252.54\n",
      "- 2023년 12월 25일: 주식 시장이 휴장하여 거래가 없었습니다.\n",
      "\n",
      "따라서 2023년 크리스마스 당일에는 주가가 기록되지 않았습니다.\n"
     ]
    }
   ],
   "source": [
    "# LLM에 도구 바인딩\n",
    "llm_with_tools = llm.bind_tools([stock_price_date_tool])\n",
    "\n",
    "# LLM 체인 생성\n",
    "llm_chain = prompt | llm_with_tools\n",
    "\n",
    "# 체인 정의\n",
    "@chain\n",
    "def stock_price_chain(user_input: str, config: RunnableConfig):\n",
    "    input_ = {\"user_input\": user_input}\n",
    "    ai_msg = llm_chain.invoke(input_, config=config)\n",
    "    tool_msgs = stock_price_date_tool.batch(ai_msg.tool_calls, config=config)\n",
    "    return llm_chain.invoke({**input_, \"messages\": [ai_msg, *tool_msgs]}, config=config)\n",
    "\n",
    "# 체인 실행\n",
    "response = stock_price_chain.invoke(\"2023년 크리스마스 시즌 테슬라 주가는 얼마였나요?\")\n",
    "\n",
    "# 응답 출력\n",
    "print(response.content)"
   ]
  },
  {
   "cell_type": "markdown",
   "metadata": {},
   "source": [
    "# 5-12"
   ]
  },
  {
   "cell_type": "code",
   "execution_count": 13,
   "metadata": {},
   "outputs": [
    {
     "name": "stdout",
     "output_type": "stream",
     "text": [
      "Tool Name:  GetStockPriceWithDate\n",
      "content='[254.22000122070312, \"2024-09-26\"]' name='GetStockPriceWithDate' tool_call_id='call_VIox6kvFLPjghlswwZOQ7jJg'\n",
      "----------------------------------------------------------------------------------------------------\n",
      "Tool Name:  tavily_search_results_json\n",
      "content='[{\"url\": \"https://www.experianplc.com/newsroom/press-releases/2024/new-experian-report-shows-a-shifting-electric-vehicle-market-in-\", \"content\": \"Schaumburg, Ill., September 26, 2024 — With a wider range of electric vehicle (EV) models being introduced, the EV landscape is beginning to shift. According to Experian\\'s Automotive Consumer Trends Report: Q2 2024, non-luxury EVs are slowly making up more of the market, growing from 22.7% last year to 26.6% in Q2 2024.Meanwhile, the percentage of exotic and luxury models declined from 77. ...\"}, {\"url\": \"https://www.iea.org/reports/global-ev-outlook-2024\", \"content\": \"About this report. The Global EV Outlook is an annual publication that identifies and assesses recent developments in electric mobility across the globe. It is developed with the support of members of the Electric Vehicles Initiative (EVI). Combining analysis of historical data with projections - now extended to 2035 - the report examines ...\"}]' name='tavily_search_results_json' tool_call_id='call_Xe6hMtAwe6AhhU24RWNFhEBP' artifact={'query': 'recent developments in electric vehicle market September 2024', 'follow_up_questions': None, 'answer': None, 'images': [], 'results': [{'title': 'New Experian report shows a shifting electric vehicle market in North ...', 'url': 'https://www.experianplc.com/newsroom/press-releases/2024/new-experian-report-shows-a-shifting-electric-vehicle-market-in-', 'content': \"Schaumburg, Ill., September 26, 2024 — With a wider range of electric vehicle (EV) models being introduced, the EV landscape is beginning to shift. According to Experian's Automotive Consumer Trends Report: Q2 2024, non-luxury EVs are slowly making up more of the market, growing from 22.7% last year to 26.6% in Q2 2024.Meanwhile, the percentage of exotic and luxury models declined from 77. ...\", 'score': 0.96753323, 'raw_content': None}, {'title': 'Global EV Outlook 2024 - Analysis - IEA - International Energy Agency', 'url': 'https://www.iea.org/reports/global-ev-outlook-2024', 'content': 'About this report. The Global EV Outlook is an annual publication that identifies and assesses recent developments in electric mobility across the globe. It is developed with the support of members of the Electric Vehicles Initiative (EVI). Combining analysis of historical data with projections - now extended to 2035 - the report examines ...', 'score': 0.49313778, 'raw_content': None}], 'response_time': 2.22}\n",
      "----------------------------------------------------------------------------------------------------\n",
      "최종 답변: \n",
      "테슬라의 어제 주가는 $254.22였습니다. 전기차 시장의 최근 상황을 반영하는지 알아보면, 몇 가지 주요 포인트가 있습니다.\n",
      "\n",
      "1. **시장 변화**: Experian의 2024년 2분기 자동차 소비자 동향 보고서에 따르면, 비고급 전기차가 시장 점유율을 점차 늘리고 있습니다. 작년 22.7%에서 올해 2분기 26.6%로 증가하였으며, 반면 고급 및 이국적인 모델의 비율은 감소하고 있습니다. 이는 테슬라와 같은 고급 전기차 제조업체들에게는 도전이 될 수 있습니다.\n",
      "\n",
      "2. **글로벌 전기차 전망**: 국제에너지기구(IEA)의 글로벌 전기차 전망 보고서에 따르면, 전기 이동성의 최근 발전 상황을 평가하고 있습니다. 보고서는 역사적 데이터와 함께 2035년까지의 예측을 포함하여 전기차 시장의 성장과 변화를 분석합니다.\n",
      "\n",
      "이러한 정보들을 종합해보면, 테슬라의 주가는 전기차 시장의 변화, 특히 비고급 전기차의 증가와 관련된 시장 동향을 반영하고 있을 가능성이 큽니다.\n"
     ]
    }
   ],
   "source": [
    "from langchain_core.prompts import ChatPromptTemplate\n",
    "from langchain_core.runnables import RunnableConfig, chain\n",
    "from langchain_openai import ChatOpenAI\n",
    "from datetime import datetime\n",
    "\n",
    "# LLM 모델 인스턴스를 생성\n",
    "llm = ChatOpenAI(model=\"gpt-4o\")\n",
    "\n",
    "# 두 도구를 LLM에 바인딩\n",
    "llm_with_tools = llm.bind_tools(tools=[web_search, stock_price_date_tool])\n",
    "\n",
    "# 오늘 날짜 설정\n",
    "today = datetime.today().strftime(\"%Y-%m-%d\")\n",
    "\n",
    "# 프롬프트 템플릿 정의\n",
    "prompt = ChatPromptTemplate([\n",
    "    (\"system\", f\"당신은 도움이 되는 AI 어시스턴트입니다. 오늘 날짜는 {today}입니다.\"),\n",
    "    (\"human\", \"{user_input}\"),\n",
    "    (\"placeholder\", \"{messages}\"),\n",
    "])\n",
    "\n",
    "# LLM 체인 생성\n",
    "llm_chain = prompt | llm_with_tools\n",
    "\n",
    "@chain\n",
    "def stock_analysis_chain(user_input: str, config: RunnableConfig):\n",
    "    input_ = {\"user_input\": user_input}\n",
    "    ai_msg = llm_chain.invoke(input_, config=config)\n",
    "\n",
    "    tool_msgs = []\n",
    "    for tool_call in ai_msg.tool_calls:\n",
    "        try:\n",
    "            if tool_call[\"name\"] == \"tavily_search_results_json\":\n",
    "                tool_result = web_search.invoke(tool_call)\n",
    "            elif tool_call[\"name\"] == \"GetStockPriceWithDate\":\n",
    "                tool_result = stock_price_date_tool.invoke(tool_call)\n",
    "            else:\n",
    "                print(f\"Unknown tool called: {tool_call['name']}\")\n",
    "                continue\n",
    "\n",
    "            # tool message 출력\n",
    "            print(\"Tool Name: \", tool_call[\"name\"])\n",
    "            print(tool_result)\n",
    "            print(\"-\"*100)\n",
    "\n",
    "            tool_msgs.append(tool_result)\n",
    "        except Exception as e:\n",
    "            print(f\"Error processing tool call {tool_call['name']}: {e}\")\n",
    "    \n",
    "    return llm_chain.invoke({**input_, \"messages\": [ai_msg, *tool_msgs]}, config=config)\n",
    "\n",
    "# 체인 실행\n",
    "query = \"테슬라의 어제 주가는 전기차 시장의 최근 상황을 반영하고 있나요?\"\n",
    "response = stock_analysis_chain.invoke(query)\n",
    "\n",
    "# 응답 출력\n",
    "print(\"최종 답변: \")\n",
    "print(response.content)"
   ]
  },
  {
   "cell_type": "markdown",
   "metadata": {},
   "source": [
    "# 5-13"
   ]
  },
  {
   "cell_type": "code",
   "execution_count": 14,
   "metadata": {},
   "outputs": [
    {
     "name": "stdout",
     "output_type": "stream",
     "text": [
      "주식 심볼: TSLA\n",
      "현재 가격: $240.0\n",
      "시장 동향: 상승세\n",
      "주요 요인:\n",
      "- 전기차 수요 증가\n",
      "- 새로운 모델 출시 예고\n",
      "- 배터리 기술 발전\n",
      "- 경쟁사와의 차별화된 기술\n",
      "분석: 테슬라는 최근 전기차 수요 증가와 함께 긍정적인 시장 반응을 얻고 있습니다. 새로운 모델 출시 예고와 함께 배터리 기술의 발전이 주가 상승을 이끌고 있으며, 경쟁사 대비 차별화된 기술력 또한 주가에 긍정적인 영향을 미치고 있습니다.\n"
     ]
    }
   ],
   "source": [
    "from pydantic import BaseModel, Field\n",
    "from typing import List\n",
    "from langchain_openai import ChatOpenAI\n",
    "\n",
    "# Pydantic 모델 정의\n",
    "class StockAnalysis(BaseModel):\n",
    "    \"\"\"주식 분석 결과\"\"\"\n",
    "    stock_symbol: str = Field(description=\"분석 대상 주식의 심볼\")\n",
    "    current_price: float = Field(description=\"현재 주식 가격\")\n",
    "    price_date: str = Field(description=\"주가 정보 날짜\")\n",
    "    market_trend: str = Field(description=\"전반적인 시장 동향\")\n",
    "    key_factors: List[str] = Field(description=\"주가에 영향을 미치는 주요 요인들\")\n",
    "    analysis: str = Field(description=\"주가와 시장 상황에 대한 분석\")\n",
    "\n",
    "# ChatOpenAI 모델 초기화\n",
    "llm = ChatOpenAI(model=\"gpt-4o-mini\")\n",
    "\n",
    "# 구조화된 출력을 위한 모델 생성\n",
    "structured_llm = llm.with_structured_output(StockAnalysis)\n",
    "\n",
    "# 모델 실행\n",
    "result = structured_llm.invoke(\"테슬라(TSLA)의 현재 주가와 시장 동향을 분석해주세요.\")\n",
    "\n",
    "# 결과 출력\n",
    "print(f\"주식 심볼: {result.stock_symbol}\")\n",
    "print(f\"현재 가격: ${result.current_price}\")\n",
    "print(f\"시장 동향: {result.market_trend}\")\n",
    "print(\"주요 요인:\")\n",
    "for factor in result.key_factors:\n",
    "    print(f\"- {factor}\")\n",
    "\n",
    "print(f\"분석: {result.analysis}\")"
   ]
  },
  {
   "cell_type": "markdown",
   "metadata": {},
   "source": [
    "# 5-14"
   ]
  },
  {
   "cell_type": "code",
   "execution_count": 23,
   "metadata": {},
   "outputs": [
    {
     "name": "stdout",
     "output_type": "stream",
     "text": [
      "Tool Name:  GetStockPriceWithDate\n",
      "content='[254.22000122070312, \"2024-09-26\"]' name='GetStockPriceWithDate' tool_call_id='call_JmzSSPqHilgePAYSdZgeK6g0'\n",
      "----------------------------------------------------------------------------------------------------\n",
      "Tool Name:  tavily_search_results_json\n",
      "content='[{\"url\": \"https://arstechnica.com/cars/2024/09/ev-sales-remain-healthy-despite-online-doom-and-gloom/\", \"content\": \"it\\'s just vibes — EV sales remain healthy despite online doom and gloom Battery EVs are expected to account for more than 8 percent. Jonathan M. Gitlin - Sep 26, 2024 5:40 pm UTC\"}, {\"url\": \"https://www.nytimes.com/2024/09/05/climate/electric-vehicle-sales-projections.html\", \"content\": \"Sept. 5, 2024. The race to electrify America\\'s cars is looking more like a slog these days. In the past few months, several automakers announced plans to pull back on introducing new electric ...\"}]' name='tavily_search_results_json' tool_call_id='call_QTrpY79aw2hmcbrn7gNQ3Zri' artifact={'query': 'electric vehicle market news September 2024', 'follow_up_questions': None, 'answer': None, 'images': [], 'results': [{'title': 'EV sales remain healthy despite online doom and gloom', 'url': 'https://arstechnica.com/cars/2024/09/ev-sales-remain-healthy-despite-online-doom-and-gloom/', 'content': \"it's just vibes — EV sales remain healthy despite online doom and gloom Battery EVs are expected to account for more than 8 percent. Jonathan M. Gitlin - Sep 26, 2024 5:40 pm UTC\", 'score': 0.9877587, 'raw_content': None}, {'title': 'The Electric Vehicle Future Is Coming. Just a Little More Slowly.', 'url': 'https://www.nytimes.com/2024/09/05/climate/electric-vehicle-sales-projections.html', 'content': \"Sept. 5, 2024. The race to electrify America's cars is looking more like a slog these days. In the past few months, several automakers announced plans to pull back on introducing new electric ...\", 'score': 0.9846347, 'raw_content': None}], 'response_time': 1.93}\n",
      "----------------------------------------------------------------------------------------------------\n",
      "구조화된 분석 결과:\n",
      "주식 심볼: TSLA\n",
      "현재 가격: $254.22\n",
      "가격 날짜: 어제\n",
      "시장 동향: 전기차 시장은 전반적인 성장세를 보여주고 있으나, 일부 제조사의 전기차 모델 도입 지연으로 인해 성장 속도가 둔화될 가능성이 있습니다.\n",
      "주요 요인:\n",
      "- 건강한 전기차 판매로 인한 긍정적 시장 신호\n",
      "- 일부 제조사의 전기차 도입 지연\n",
      "분석: 테슬라의 주가는 현재 전기차 시장의 긍정적인 성장세와 일부 제조사의 도입 지연이라는 상반된 요인들로 인해 혼합된 영향을 받고 있습니다. 전기차 판매 증가가 시장에 긍정적 신호를 주고 있지만, 일부 제조사의 전기차 모델 도입 지연은 시장 성장 속도를 둔화시킬 수 있어 주의가 필요합니다. 이러한 요인들이 테슬라의 주가에 복합적인 영향을 미친 것으로 판단됩니다.\n"
     ]
    }
   ],
   "source": [
    "from langchain_core.prompts import ChatPromptTemplate\n",
    "from langchain_core.runnables import RunnableConfig, chain\n",
    "from pydantic import BaseModel, Field\n",
    "from typing import List\n",
    "\n",
    "# Pydantic 모델 정의\n",
    "class StockAnalysis(BaseModel):\n",
    "    stock_symbol: str = Field(description=\"분석 대상 주식의 심볼\")\n",
    "    current_price: float = Field(description=\"현재 주식 가격\")\n",
    "    price_date: str = Field(description=\"주가 정보 날짜\")\n",
    "    market_trend: str = Field(description=\"전반적인 시장 동향\")\n",
    "    key_factors: List[str] = Field(description=\"주가에 영향을 미치는 주요 요인들\")\n",
    "    analysis: str = Field(description=\"주가와 시장 상황에 대한 분석\")\n",
    "\n",
    "# LLM 모델 인스턴스를 생성\n",
    "llm = ChatOpenAI(model=\"gpt-4o-2024-08-06\")\n",
    "\n",
    "# 도구를 LLM에 바인딩\n",
    "llm_with_tools = llm.bind_tools(tools=[web_search, stock_price_date_tool])\n",
    "\n",
    "# 프롬프트 템플릿 정의\n",
    "prompt = ChatPromptTemplate([\n",
    "    (\"system\", f\"당신은 도움이 되는 AI 금융 분석가입니다. 오늘 날짜는 {today}입니다. \"\n",
    "               f\"주어진 정보를 바탕으로 StockAnalysis 구조에 맞는 분석 결과를 생성하세요.\"),\n",
    "    (\"human\", \"{user_input}\"),\n",
    "    (\"placeholder\", \"{messages}\"),\n",
    "])\n",
    "\n",
    "# LLM 체인 생성\n",
    "llm_chain = prompt | llm_with_tools\n",
    "\n",
    "@chain\n",
    "def stock_analysis_chain(user_input: str, config: RunnableConfig):\n",
    "    input_ = {\"user_input\": user_input}\n",
    "    ai_msg = llm_chain.invoke(input_, config=config)\n",
    "\n",
    "    tool_msgs = []\n",
    "    for tool_call in ai_msg.tool_calls:\n",
    "        try:\n",
    "            if tool_call[\"name\"] == \"tavily_search_results_json\":\n",
    "                tool_result = web_search.invoke(tool_call)\n",
    "            elif tool_call[\"name\"] == \"GetStockPriceWithDate\":\n",
    "                tool_result = stock_price_date_tool.invoke(tool_call)\n",
    "            else:\n",
    "                print(f\"Unknown tool called: {tool_call['name']}\")\n",
    "                continue\n",
    "\n",
    "            # tool message 출력\n",
    "            print(\"Tool Name: \", tool_call[\"name\"])\n",
    "            print(tool_result)\n",
    "            print(\"-\"*100)\n",
    "\n",
    "            tool_msgs.append(tool_result)\n",
    "        except Exception as e:\n",
    "            print(f\"Error processing tool call {tool_call['name']}: {e}\")\n",
    "    \n",
    "    final_response = llm_chain.invoke(\n",
    "        {**input_, \"messages\": [ai_msg, *tool_msgs]}, \n",
    "        config=config\n",
    "        )\n",
    "    \n",
    "    # 구조화된 출력 생성\n",
    "    structured_llm = llm.with_structured_output(StockAnalysis)\n",
    "\n",
    "    structured_prompt = f\"\"\"Based on the following information, provide a structured analysis: {final_response.content}\"\"\"\n",
    "    structured_output = structured_llm.invoke(structured_prompt)\n",
    "        \n",
    "    return structured_output\n",
    "\n",
    "# 체인 실행\n",
    "query = \"테슬라의 어제 주가는 전기차 시장의 최근 상황을 반영하고 있나요?\"\n",
    "response = stock_analysis_chain.invoke(query)\n",
    "\n",
    "# 응답 출력\n",
    "print(\"구조화된 분석 결과:\")\n",
    "print(f\"주식 심볼: {response.stock_symbol}\")\n",
    "print(f\"현재 가격: ${response.current_price}\")\n",
    "print(f\"가격 날짜: {response.price_date}\")\n",
    "print(f\"시장 동향: {response.market_trend}\")\n",
    "print(\"주요 요인:\")\n",
    "for factor in response.key_factors:\n",
    "    print(f\"- {factor}\")\n",
    "print(f\"분석: {response.analysis}\")"
   ]
  },
  {
   "cell_type": "code",
   "execution_count": null,
   "metadata": {},
   "outputs": [],
   "source": []
  }
 ],
 "metadata": {
  "kernelspec": {
   "display_name": "langchain-book-AlsLlHcI-py3.11",
   "language": "python",
   "name": "python3"
  },
  "language_info": {
   "codemirror_mode": {
    "name": "ipython",
    "version": 3
   },
   "file_extension": ".py",
   "mimetype": "text/x-python",
   "name": "python",
   "nbconvert_exporter": "python",
   "pygments_lexer": "ipython3",
   "version": "3.11.8"
  }
 },
 "nbformat": 4,
 "nbformat_minor": 2
}
