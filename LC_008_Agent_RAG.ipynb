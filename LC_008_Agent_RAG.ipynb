{
 "cells": [
  {
   "cell_type": "markdown",
   "metadata": {},
   "source": [
    "# 환경 변수 로드"
   ]
  },
  {
   "cell_type": "code",
   "execution_count": 1,
   "metadata": {},
   "outputs": [
    {
     "data": {
      "text/plain": [
       "True"
      ]
     },
     "execution_count": 1,
     "metadata": {},
     "output_type": "execute_result"
    }
   ],
   "source": [
    "from dotenv import load_dotenv\n",
    "load_dotenv()"
   ]
  },
  {
   "cell_type": "markdown",
   "metadata": {},
   "source": [
    "# 6-11"
   ]
  },
  {
   "cell_type": "code",
   "execution_count": 2,
   "metadata": {},
   "outputs": [
    {
     "name": "stdout",
     "output_type": "stream",
     "text": [
      "로드된 문서의 수: 2\n"
     ]
    }
   ],
   "source": [
    "from langchain_community.document_loaders import PyPDFLoader\n",
    "\n",
    "# 한국 문화 데이터가 저장된 PDF 파일을 로드\n",
    "loader = PyPDFLoader(\"./data/korean_culture.pdf\")\n",
    "\n",
    "# 로더를 사용하여 문서를 로드\n",
    "documents = loader.load()\n",
    "\n",
    "# 로드된 문서의 수를 출력\n",
    "print(f\"로드된 문서의 수: {len(documents)}\")"
   ]
  },
  {
   "cell_type": "markdown",
   "metadata": {},
   "source": [
    "# 6-12"
   ]
  },
  {
   "cell_type": "code",
   "execution_count": 3,
   "metadata": {},
   "outputs": [
    {
     "name": "stdout",
     "output_type": "stream",
     "text": [
      "첫 번째 문서의 내용:\n",
      "이름: 한복\n",
      "설명: 한국의 전통 의복으로 , 색상과 선의 아름다움이 특징이다 .\n",
      "특징: 저고리(상의)와 치마 또는 바지로 구성된다 . 계절과 용도에 따라 다양한 종류가 있으며 , 현대에는 \n",
      "결혼식이나 명절 등 특별한 날에 주로 입는다 . 최근에는 현대적으로 재해석된 생활한복도 인기를 얻고 있다 .\n",
      "이름: 태권도\n",
      "설명: 한국의 전통 무술로, 올림픽 정식 종목이기도 하다 .\n",
      "특징: 삼국 시대부터 시작되어 1955년에 공식적으로 태권도라는 이름을 갖게 되었다 . 발기술을 주로 사용하며 , \n",
      "신체 단련과 정신 수양을 목적으로 한다 . 현재 전 세계 200여 개국에서 수련되는 국제적인 스포츠이다 .\n",
      "이름: 한글\n",
      "설명: 세종대왕이 창제한 한국의 고유 문자 체계이다 .\n",
      "특징: 1443년에 창제되어 1446년에 반포되었다. 자음과 모음의 조합으로 이루어져 있으며 , 과학적이고 \n",
      "체계적인 문자로 평가받는다 . 매년 10월 9일은 한글날로 지정되어 있으며 , 유네스코 세계기록유산으로 \n",
      "등재되었다.\n",
      "이름: 김장\n",
      "설명: 겨울을 대비해 김치를 대량으로 담그는 한국의 전통 문화이다 .\n",
      "특징: 보통 11월 말에서 12월 초 사이에 이루어지며 , 가족과 이웃이 함께 모여 김치를 담그는 공동체 문화의 한 \n",
      "형태이다. 다양한 종류의 김치를 한 번에 대량으로 만들어 겨울 동안 먹을 수 있도록 준비한다 .\n",
      "이름: 판소리\n",
      "설명: 한 명의 소리꾼이 고수의 북장단에 맞춰 이야기를 노래하는 전통 음악이다 .\n",
      "특징: 춘향가, 심청가, 흥보가, 수궁가, 적벽가 등 다섯 마당이 대표적이다 . 2003년 유네스코 \n",
      "인류무형문화유산으로 지정되었다 . 소리꾼의 목소리와 표현력 , 고수의 북장단이 어우러져 독특한 음악적 , \n",
      "서사적 경험을 제공한다 .\n",
      "\n",
      "--------------------------------------------------\n",
      "첫 번째 문서의 메타데이터:\n",
      "{'source': './data/korean_culture.pdf', 'page': 0}\n"
     ]
    }
   ],
   "source": [
    "# 첫 번째 문서의 내용을 출력합니다.\n",
    "print(\"첫 번째 문서의 내용:\")\n",
    "print(documents[0].page_content)\n",
    "print(\"\\n\"+\"-\"*50)\n",
    "\n",
    "# 메타데이터를 따로 출력\n",
    "print(\"첫 번째 문서의 메타데이터:\")\n",
    "print(documents[0].metadata)"
   ]
  },
  {
   "cell_type": "markdown",
   "metadata": {},
   "source": [
    "# 6-13"
   ]
  },
  {
   "cell_type": "code",
   "execution_count": 4,
   "metadata": {},
   "outputs": [
    {
     "name": "stdout",
     "output_type": "stream",
     "text": [
      "두 번째 문서의 내용:\n",
      "이름: 온돌\n",
      "설명: 바닥 난방 시스템으로 , 한국 주거 문화의 특징이다 .\n",
      "특징: 방 바닥 밑에 설치된 구조물을 통해 열을 전달하는 방식으로 , 겨울철 따뜻한 실내 환경을 제공한다 . \n",
      "현대에는 전기나 온수를 이용한 방식으로 발전했으며 , 한국 아파트의 표준 난방 시스템으로 자리 잡았다 .\n",
      "이름: 제사\n",
      "설명: 조상을 기리는 한국의 전통 의례이다 .\n",
      "특징: 주로 명절이나 조상의 기일에 지내며 , 제사상을 차리고 조상에게 음식을 올리는 형식으로 진행된다 . \n",
      "가족이 모여 조상을 기억하고 공경하는 의미가 있으며 , 현대에는 간소화되는 추세이다 .\n",
      "이름: 사물놀이\n",
      "설명: 꽹과리, 징, 장구, 북을 사용하는 한국의 전통 타악 공연이다 .\n",
      "특징: 1970년대에 만들어진 비교적 새로운 형태의 전통 음악으로 , 농악에서 유래했다. 네 가지 악기의 \n",
      "조화로운 연주와 역동적인 움직임이 특징이며 , 국제적으로도 인기 있는 공연 형태이다 .\n",
      "이름: 한옥\n",
      "설명: 한국의 전통 가옥 양식으로 , 자연과의 조화를 중시한다 .\n",
      "특징: 목재를 주 재료로 사용하며 , 기와나 초가지붕을 얹는다 . 온돌과 마루를 함께 사용하여 계절에 따라 적응할  \n",
      "수 있는 구조이다. 최근에는 현대적 편의시설을 갖춘 새로운 한옥 스타일도 등장하고 있다 .\n",
      "이름: 다도\n",
      "설명: 차를 마시는 예법과 문화를 의미한다 .\n",
      "특징: 차를 준비하고 마시는 과정에서 정신적 수양과 예의를 중시한다 . 계절, 시간, 장소에 따라 적절한 차를 \n",
      "선택하고, 다구(茶具)를 이용해 정성스럽게 차를 우려내는 과정이 포함된다 . 선禪 사상과 밀접한 관련이 있다 .\n",
      "\n",
      "--------------------------------------------------\n",
      "두 번째 문서의 메타데이터:\n",
      "{'source': './data/korean_culture.pdf', 'page': 1}\n"
     ]
    }
   ],
   "source": [
    "# 두 번째 문서의 내용을 출력합니다.\n",
    "print(\"두 번째 문서의 내용:\")\n",
    "print(documents[1].page_content)\n",
    "print(\"\\n\"+\"-\"*50)\n",
    "\n",
    "# 메타데이터를 따로 출력\n",
    "print(\"두 번째 문서의 메타데이터:\")\n",
    "print(documents[1].metadata)"
   ]
  },
  {
   "cell_type": "markdown",
   "metadata": {},
   "source": [
    "# 6-14"
   ]
  },
  {
   "cell_type": "code",
   "execution_count": 5,
   "metadata": {},
   "outputs": [
    {
     "name": "stdout",
     "output_type": "stream",
     "text": [
      "생성된 청크의 수: 10\n",
      "\n",
      "--------------------------------------------------\n",
      "1번째 청크의 내용:\n",
      "이름: 한복\n",
      "설명: 한국의 전통 의복으로 , 색상과 선의 아름다움이 특징이다 .\n",
      "특징: 저고리(상의)와 치마 또는 바지로 구성된다 . 계절과 용도에 따라 다양한 종류가 있으며 , 현대에는 \n",
      "결혼식이나 명절 등 특별한 날에 주로 입는다 . 최근에는 현대적으로 재해석된 생활한복도 인기를 얻고 있다 .\n",
      "\n",
      "--------------------------------------------------\n",
      "2번째 청크의 내용:\n",
      "이름: 태권도\n",
      "설명: 한국의 전통 무술로, 올림픽 정식 종목이기도 하다 .\n",
      "특징: 삼국 시대부터 시작되어 1955년에 공식적으로 태권도라는 이름을 갖게 되었다 . 발기술을 주로 사용하며 , \n",
      "신체 단련과 정신 수양을 목적으로 한다 . 현재 전 세계 200여 개국에서 수련되는 국제적인 스포츠이다 .\n",
      "\n",
      "--------------------------------------------------\n",
      "3번째 청크의 내용:\n",
      "이름: 한글\n",
      "설명: 세종대왕이 창제한 한국의 고유 문자 체계이다 .\n",
      "특징: 1443년에 창제되어 1446년에 반포되었다. 자음과 모음의 조합으로 이루어져 있으며 , 과학적이고 \n",
      "체계적인 문자로 평가받는다 . 매년 10월 9일은 한글날로 지정되어 있으며 , 유네스코 세계기록유산으로 \n",
      "등재되었다.\n",
      "\n",
      "--------------------------------------------------\n"
     ]
    }
   ],
   "source": [
    "from langchain_text_splitters import CharacterTextSplitter\n",
    "\n",
    "# 문서를 더 작은 청크로 분할\n",
    "text_splitter = CharacterTextSplitter(\n",
    "    chunk_size=200,\n",
    "    chunk_overlap=0,\n",
    "    separator=r'(?=이름:)',\n",
    "    is_separator_regex=True,\n",
    "    keep_separator=True,\n",
    ")\n",
    "\n",
    "splits = text_splitter.split_documents(documents)\n",
    "\n",
    "print(f\"생성된 청크의 수: {len(splits)}\")\n",
    "print(\"\\n\"+\"-\"*50)\n",
    "\n",
    "# 앞에서 3개의 청크를 출력\n",
    "for i, split in enumerate(splits[:3]):\n",
    "    print(f\"{i+1}번째 청크의 내용:\")\n",
    "    print(split.page_content)\n",
    "    print(\"\\n\" + \"-\"*50)"
   ]
  },
  {
   "cell_type": "markdown",
   "metadata": {},
   "source": [
    "# 6-15"
   ]
  },
  {
   "cell_type": "code",
   "execution_count": 7,
   "metadata": {},
   "outputs": [
    {
     "name": "stderr",
     "output_type": "stream",
     "text": [
      "/Users/steve2/Library/Caches/pypoetry/virtualenvs/langchain-book-AlsLlHcI-py3.11/lib/python3.11/site-packages/sentence_transformers/cross_encoder/CrossEncoder.py:13: TqdmWarning: IProgress not found. Please update jupyter and ipywidgets. See https://ipywidgets.readthedocs.io/en/stable/user_install.html\n",
      "  from tqdm.autonotebook import tqdm, trange\n"
     ]
    },
    {
     "name": "stdout",
     "output_type": "stream",
     "text": [
      "'korean_culture' 벡터 저장소에 10 개의 문서가 저장되었습니다.\n"
     ]
    }
   ],
   "source": [
    "from langchain_huggingface.embeddings import HuggingFaceEmbeddings\n",
    "from langchain_chroma import Chroma\n",
    "from langchain_core.documents import Document\n",
    "\n",
    "# Hugging Face의 임베딩 모델 생성\n",
    "embedding_generator = HuggingFaceEmbeddings(model_name=\"BAAI/bge-m3\")\n",
    "\n",
    "# 결합된 청크를 벡터 저장소에 저장\n",
    "db_culture = Chroma.from_documents(\n",
    "    documents=splits,\n",
    "    embedding=embedding_generator,   \n",
    "    collection_name=\"korean_culture\",   \n",
    "    persist_directory=\"./chroma_db\"  \n",
    ")\n",
    "\n",
    "# 벡터 저장소가 성공적으로 생성되었음을 확인\n",
    "print(f\"'{db_culture._collection_name}' 벡터 저장소에 \\\n",
    "{len(splits)} 개의 문서가 저장되었습니다.\")"
   ]
  },
  {
   "cell_type": "markdown",
   "metadata": {},
   "source": [
    "# 6-16"
   ]
  },
  {
   "cell_type": "code",
   "execution_count": 8,
   "metadata": {},
   "outputs": [
    {
     "name": "stdout",
     "output_type": "stream",
     "text": [
      "벡터 저장소의 컬렉션 이름: korean_culture\n",
      "벡터 저장소에 저장된 문서 수: 10\n",
      "--------------------------------------------------\n",
      "벡터 저장소의 컬렉션 이름: korean_food\n",
      "벡터 저장소에 저장된 문서 수: 10\n",
      "--------------------------------------------------\n"
     ]
    }
   ],
   "source": [
    "# 저장한 벡터스토어를 로드 (나중에 다시 사용할 경우)\n",
    "db_culture = Chroma(\n",
    "    embedding_function=embedding_generator,\n",
    "    collection_name=\"korean_culture\",\n",
    "    persist_directory=\"./chroma_db\",\n",
    "    )\n",
    "\n",
    "print(f\"벡터 저장소의 컬렉션 이름: {db_culture._collection_name}\")\n",
    "print(f\"벡터 저장소에 저장된 문서 수: {db_culture._collection.count()}\")\n",
    "print(\"-\"*50)\n",
    "\n",
    "# 저장한 벡터스토어를 로드 (기존에 저장해 둔 한국 음식 데이터)\n",
    "db_food = Chroma(\n",
    "    embedding_function=embedding_generator,\n",
    "    collection_name=\"korean_food\",\n",
    "    persist_directory=\"./chroma_db\",\n",
    "    )\n",
    "\n",
    "print(f\"벡터 저장소의 컬렉션 이름: {db_food._collection_name}\")\n",
    "print(f\"벡터 저장소에 저장된 문서 수: {db_food._collection.count()}\")\n",
    "print(\"-\"*50)"
   ]
  },
  {
   "cell_type": "markdown",
   "metadata": {},
   "source": [
    "# 6-17"
   ]
  },
  {
   "cell_type": "code",
   "execution_count": 15,
   "metadata": {},
   "outputs": [
    {
     "name": "stderr",
     "output_type": "stream",
     "text": [
      "/var/folders/nd/kfl3k2197fv3vr63kpjrnrg00000gn/T/ipykernel_24155/3017298569.py:6: LangChainBetaWarning: This API is in beta and may change in the future.\n",
      "  web_search_tool = web_search.as_tool(\n"
     ]
    }
   ],
   "source": [
    "from langchain.tools.retriever import create_retriever_tool\n",
    "from langchain_community.tools import TavilySearchResults\n",
    "\n",
    "# Tavily 웹 검색 도구를 정의 (2개 검색)\n",
    "web_search = TavilySearchResults(max_results=2)\n",
    "web_search_tool = web_search.as_tool(\n",
    "    name=\"web_search\",\n",
    "    description=\"최신 정보나 데이터베이스에 없는 정보를 찾을 때 인터넷 검색을 사용하세요.\",\n",
    ")\n",
    "\n",
    "# 벡터 저장소 검색 리트리버를 도구로 정의 (k=2)\n",
    "food_retriever = db_food.as_retriever(\n",
    "    search_kwargs={\"k\":2}\n",
    ")\n",
    "\n",
    "culture_retriever = db_culture.as_retriever(\n",
    "    search_kwargs={\"k\":2}\n",
    ")\n",
    "\n",
    "food_retriever_tool = create_retriever_tool(\n",
    "    food_retriever,\n",
    "    \"retrieve_korean_food\",\n",
    "    \"한국 음식에 대한 정보를 찾을 때 사용하세요. 입력은 질문이나 검색어여야 합니다.\",\n",
    ")\n",
    "\n",
    "culture_retriever_tool = create_retriever_tool(\n",
    "    culture_retriever,\n",
    "    \"retrieve_korean_culture\",\n",
    "    \"유용한 한국 문화 정보를 검색할 때 사용하세요. 입력은 질문이나 검색어여야 합니다.\",\n",
    ")\n",
    "\n",
    "tools = [web_search_tool, food_retriever_tool, culture_retriever_tool]"
   ]
  },
  {
   "cell_type": "markdown",
   "metadata": {},
   "source": [
    "# 6-18"
   ]
  },
  {
   "cell_type": "code",
   "execution_count": 16,
   "metadata": {},
   "outputs": [
    {
     "name": "stdout",
     "output_type": "stream",
     "text": [
      "================================\u001b[1m Human Message \u001b[0m=================================\n",
      "\n",
      "비빔밥의 주재료는 무엇인가요? 한국어로 답하세요.\n",
      "==================================\u001b[1m Ai Message \u001b[0m==================================\n",
      "Tool Calls:\n",
      "  retrieve_korean_food (call_6nTnUXPPndGCMtseOZlIZ8Nw)\n",
      " Call ID: call_6nTnUXPPndGCMtseOZlIZ8Nw\n",
      "  Args:\n",
      "    query: 비빔밥 주재료\n",
      "=================================\u001b[1m Tool Message \u001b[0m=================================\n",
      "Name: retrieve_korean_food\n",
      "\n",
      "이름: 비빔밥\n",
      "설명: 밥 위에 다양한 나물과 고기를 올리고 고추장을 넣어 비벼 먹는 음식이다. 특징: 곡류, 채소, 단백질이 균형 있게 구성되어 있어 영양가가 높다. 나물의 종류에 따라 다양한 비타민과 미네랄을 섭취할 수 있다. 지역에 따라 전주비빔밥, 진주비빔밥 등 특색 있는 비빔밥이 있다. 한국을 대표하는 건강식으로 해외에서도 인기가 높다.\n",
      "\n",
      "이름: 김밥\n",
      "설명: 김에 밥과 다양한 재료를 넣고 말아 만든 간편식이다. 특징: 휴대가 간편하여 소풍이나 여행 시 자주 먹는다. 참치김밥, 치즈김밥, 불고기김밥 등 다양한 종류가 있다. 한국의 대표적인 패스트푸드로, 저렴한 가격에 영양가 있는 한 끼 식사로 인기가 높다. 최근에는 건강식 김밥, 특색있는 퓨전 김밥 등 다양한 변형이 등장하고 김밥, 특색있는 퓨전 김밥 등 다양한 변형이 등장하고 있다.\n",
      "==================================\u001b[1m Ai Message \u001b[0m==================================\n",
      "\n",
      "비빔밥의 주재료는 밥 위에 다양한 나물과 고기, 그리고 고추장을 넣어 비벼 먹는 음식입니다. 나물의 종류에 따라 비타민과 미네랄을 섭취할 수 있으며, 곡류, 채소, 단백질이 균형 있게 구성되어 있어 영양가가 높습니다.\n"
     ]
    }
   ],
   "source": [
    "from langchain_openai import ChatOpenAI\n",
    "from langgraph.prebuilt import create_react_agent\n",
    "\n",
    "# LLM 모델 인스턴스를 생성\n",
    "model = ChatOpenAI(model=\"gpt-4o-mini\")\n",
    "\n",
    "# LLM에 도구 바인딩하여 ReAct 에이전트 생성 \n",
    "agent = create_react_agent(model, tools=tools)\n",
    "\n",
    "# 입력 값 정의 \n",
    "inputs = {\"messages\": [(\"user\", \"비빔밥의 주재료는 무엇인가요? 한국어로 답하세요.\")]}\n",
    "\n",
    "# 에이전트의 응답을 스트리밍 방식으로 출력  \n",
    "for s in agent.stream(inputs, stream_mode=\"values\"):\n",
    "    message = s[\"messages\"][-1]\n",
    "    if isinstance(message, tuple):\n",
    "        print(message)\n",
    "    else:\n",
    "        message.pretty_print()"
   ]
  },
  {
   "cell_type": "markdown",
   "metadata": {},
   "source": [
    "# 6-19"
   ]
  },
  {
   "cell_type": "code",
   "execution_count": 17,
   "metadata": {},
   "outputs": [
    {
     "name": "stdout",
     "output_type": "stream",
     "text": [
      "================================\u001b[1m Human Message \u001b[0m=================================\n",
      "\n",
      "한국의 김장 문화에 대해서 알려주세요\n",
      "==================================\u001b[1m Ai Message \u001b[0m==================================\n",
      "Tool Calls:\n",
      "  retrieve_korean_culture (call_qg8ffoZsHonTSgDJr6awDv7n)\n",
      " Call ID: call_qg8ffoZsHonTSgDJr6awDv7n\n",
      "  Args:\n",
      "    query: 김장 문화\n",
      "=================================\u001b[1m Tool Message \u001b[0m=================================\n",
      "Name: retrieve_korean_culture\n",
      "\n",
      "이름: 김장\n",
      "설명: 겨울을 대비해 김치를 대량으로 담그는 한국의 전통 문화이다 .\n",
      "특징: 보통 11월 말에서 12월 초 사이에 이루어지며 , 가족과 이웃이 함께 모여 김치를 담그는 공동체 문화의 한 \n",
      "형태이다. 다양한 종류의 김치를 한 번에 대량으로 만들어 겨울 동안 먹을 수 있도록 준비한다 .\n",
      "\n",
      "이름: 제사\n",
      "설명: 조상을 기리는 한국의 전통 의례이다 .\n",
      "특징: 주로 명절이나 조상의 기일에 지내며 , 제사상을 차리고 조상에게 음식을 올리는 형식으로 진행된다 . \n",
      "가족이 모여 조상을 기억하고 공경하는 의미가 있으며 , 현대에는 간소화되는 추세이다 .\n",
      "==================================\u001b[1m Ai Message \u001b[0m==================================\n",
      "\n",
      "김장 문화는 겨울을 대비해 김치를 대량으로 담그는 한국의 전통 문화입니다. 보통 11월 말에서 12월 초 사이에 이루어지며, 가족과 이웃이 함께 모여 김치를 담그는 공동체 문화의 한 형태입니다. 이 기간 동안 다양한 종류의 김치를 한 번에 대량으로 만들어 겨울 동안 먹을 수 있도록 준비합니다. 김장은 단순한 음식 준비 이상의 의미가 있으며, 사람들 간의 유대감을 강화하고 공동체의 정을 느낄 수 있는 중요한 문화적 행사입니다.\n"
     ]
    }
   ],
   "source": [
    "# 입력 값 정의 \n",
    "inputs = {\"messages\": [(\"user\", \"한국의 김장 문화에 대해서 알려주세요\")]}\n",
    "\n",
    "# 에이전트의 응답을 스트리밍 방식으로 출력  \n",
    "for s in agent.stream(inputs, stream_mode=\"values\"):\n",
    "    message = s[\"messages\"][-1]\n",
    "    if isinstance(message, tuple):\n",
    "        print(message)\n",
    "    else:\n",
    "        message.pretty_print()"
   ]
  },
  {
   "cell_type": "markdown",
   "metadata": {},
   "source": [
    "# 6-20"
   ]
  },
  {
   "cell_type": "code",
   "execution_count": 18,
   "metadata": {},
   "outputs": [
    {
     "name": "stdout",
     "output_type": "stream",
     "text": [
      "================================\u001b[1m Human Message \u001b[0m=================================\n",
      "\n",
      "미국의 김치 문화에 대해서 알려주세요\n",
      "==================================\u001b[1m Ai Message \u001b[0m==================================\n",
      "Tool Calls:\n",
      "  retrieve_korean_culture (call_xj0zuBCLhiiVdkf0kLHqzkzk)\n",
      " Call ID: call_xj0zuBCLhiiVdkf0kLHqzkzk\n",
      "  Args:\n",
      "    query: 미국의 김치 문화\n",
      "=================================\u001b[1m Tool Message \u001b[0m=================================\n",
      "Name: retrieve_korean_culture\n",
      "\n",
      "이름: 김장\n",
      "설명: 겨울을 대비해 김치를 대량으로 담그는 한국의 전통 문화이다 .\n",
      "특징: 보통 11월 말에서 12월 초 사이에 이루어지며 , 가족과 이웃이 함께 모여 김치를 담그는 공동체 문화의 한 \n",
      "형태이다. 다양한 종류의 김치를 한 번에 대량으로 만들어 겨울 동안 먹을 수 있도록 준비한다 .\n",
      "\n",
      "이름: 제사\n",
      "설명: 조상을 기리는 한국의 전통 의례이다 .\n",
      "특징: 주로 명절이나 조상의 기일에 지내며 , 제사상을 차리고 조상에게 음식을 올리는 형식으로 진행된다 . \n",
      "가족이 모여 조상을 기억하고 공경하는 의미가 있으며 , 현대에는 간소화되는 추세이다 .\n",
      "==================================\u001b[1m Ai Message \u001b[0m==================================\n",
      "Tool Calls:\n",
      "  web_search (call_rE87OF62LoTmOmbWTXWsnQsH)\n",
      " Call ID: call_rE87OF62LoTmOmbWTXWsnQsH\n",
      "  Args:\n",
      "    query: 미국의 김치 문화\n",
      "=================================\u001b[1m Tool Message \u001b[0m=================================\n",
      "Name: web_search\n",
      "\n",
      "[{\"url\": \"http://www.jeollailbo.com/news/articleView.html?idxno=738891\", \"content\": \"미국내 김치 문화. 김치 수출은 사실 기대 밖의 일이었다. 김치의 존재가 세계적으로 알려졌음에도 그 독특한 향과 매운맛 등이 외국인들에게는 거의 혐오감을 불러일으켰기 때문이다. 몇십년 전만 해도 외국인들은 한국인에게서 김치와 마늘 냄새가 난다며 ...\"}, {\"url\": \"https://sundayjournalusa.com/2017/01/19/특별기고1-미주-한인의-날-기념-특집-김치를-세계/\", \"content\": \"미국의 햄버거가 미국을 상징하는 것처럼 김치는 그 이상으로 한국을 대표하고 있다. 2013년 10월 23일 자로 김치를 유네스코에서 인류 무형유산 등재를 권고받았고 같은 해 12월 5일, 제8차 유네스코 무형유산위원회에서 김장문화가 인류 무형문화유산으로 지정됐다.\"}]\n",
      "==================================\u001b[1m Ai Message \u001b[0m==================================\n",
      "\n",
      "미국의 김치 문화는 한국의 전통 김치 문화와는 다소 다른 양상을 보이고 있습니다. 다음은 미국 내 김치 문화에 대한 몇 가지 주요 포인트입니다.\n",
      "\n",
      "1. **김치의 인식 변화**: 과거 몇십 년 전만 해도 김치의 독특한 향과 매운맛 때문에 외국인들 사이에서 혐오감을 불러일으키는 경우가 많았습니다. 하지만 시간이 지나면서 김치가 점차 인식이 개선되고, 더 많은 사람들이 김치를 접하게 되었습니다.\n",
      "\n",
      "2. **한국 문화의 상징**: 김치는 미국에서 한국을 대표하는 음식으로 자리 잡고 있습니다. 미국의 햄버거가 미국을 상징하는 것처럼, 김치는 한국을 대표하는 음식으로 인식되고 있습니다.\n",
      "\n",
      "3. **유네스코 등재**: 김치와 관련된 김장 문화가 2013년 유네스코 인류 무형문화유산으로 등재되었습니다. 이는 김치가 단순한 음식 이상의 의미를 지닌다는 것을 보여줍니다.\n",
      "\n",
      "4. **김치 수출**: 김치의 수출 또한 증가하고 있으며, 다양한 형태로 미국 시장에 소개되고 있습니다. 이는 김치가 한국 음식에 대한 관심을 증가시키고 있음을 나타냅니다.\n",
      "\n",
      "5. **다양한 변형**: 미국 내에서는 김치를 다양한 방식으로 변형하여 사용하기도 합니다. 예를 들어, 한국식 타코, 김치 피자 등으로 응용되고 있습니다.\n",
      "\n",
      "이러한 변화는 김치가 단순한 한국의 전통 음식에서 벗어나, 세계적으로 사랑받는 음식으로 자리 잡고 있다는 것을 보여줍니다.\n"
     ]
    }
   ],
   "source": [
    "# 입력 값 정의 \n",
    "inputs = {\"messages\": [(\"user\", \"미국의 김치 문화에 대해서 알려주세요\")]}\n",
    "\n",
    "# 에이전트의 응답을 스트리밍 방식으로 출력  \n",
    "for s in agent.stream(inputs, stream_mode=\"values\"):\n",
    "    message = s[\"messages\"][-1]\n",
    "    if isinstance(message, tuple):\n",
    "        print(message)\n",
    "    else:\n",
    "        message.pretty_print()"
   ]
  },
  {
   "cell_type": "markdown",
   "metadata": {},
   "source": [
    "# 6-21"
   ]
  },
  {
   "cell_type": "code",
   "execution_count": 23,
   "metadata": {},
   "outputs": [
    {
     "name": "stdout",
     "output_type": "stream",
     "text": [
      "Running on local URL:  http://127.0.0.1:7860\n",
      "\n",
      "To create a public link, set `share=True` in `launch()`.\n"
     ]
    },
    {
     "data": {
      "text/html": [
       "<div><iframe src=\"http://127.0.0.1:7860/\" width=\"100%\" height=\"500\" allow=\"autoplay; camera; microphone; clipboard-read; clipboard-write;\" frameborder=\"0\" allowfullscreen></iframe></div>"
      ],
      "text/plain": [
       "<IPython.core.display.HTML object>"
      ]
     },
     "metadata": {},
     "output_type": "display_data"
    },
    {
     "data": {
      "text/plain": []
     },
     "execution_count": 23,
     "metadata": {},
     "output_type": "execute_result"
    }
   ],
   "source": [
    "import gradio as gr\n",
    "from typing import List, Tuple\n",
    "from langchain.schema import AIMessage\n",
    "\n",
    "def answer_invoke(message: str, history: List[Tuple[str, str]]) -> str:\n",
    "    try:\n",
    "        # 입력 값 정의\n",
    "        inputs = {\"messages\": [(\"user\", message)]}\n",
    "        \n",
    "        # 최종 AI 응답을 저장할 변수\n",
    "        final_response = \"\"\n",
    "        \n",
    "        # 에이전트의 응답을 스트리밍 방식으로 처리\n",
    "        for s in agent.stream(inputs, stream_mode=\"values\"):\n",
    "            message = s[\"messages\"][-1]\n",
    "            if isinstance(message, AIMessage):\n",
    "                # 최종 AI 메시지로 업데이트\n",
    "                final_response = message.content\n",
    "        \n",
    "        return final_response.strip()\n",
    "    except Exception as e:\n",
    "        print(f\"Error occurred: {str(e)}\")\n",
    "        return \"죄송합니다. 응답을 생성하는 동안 오류가 발생했습니다. 다시 시도해 주세요.\"\n",
    "\n",
    "# 예제 질문 정의\n",
    "example_questions = [\n",
    "    \"미국의 김치 문화에 대해서 알려주세요\",\n",
    "    \"비빔밥의 유래와 주요 재료에 대해 설명해주세요\",\n",
    "    \"한국의 전통 발효 식품에는 어떤 것들이 있나요?\",\n",
    "    \"현대 한식의 트렌드와 미래 전망에 대해 이야기해주세요\"\n",
    "]\n",
    "\n",
    "# Gradio 인터페이스 생성\n",
    "demo = gr.ChatInterface(\n",
    "    fn=answer_invoke,\n",
    "    title=\"한국 음식 문화 AI 어시스턴트\",\n",
    "    description=\"한국 음식과 음식 문화에 관한 질문에 답변해 드립니다.\",\n",
    "    examples=example_questions,\n",
    "    theme=gr.themes.Soft()\n",
    ")\n",
    "\n",
    "# Gradio 인터페이스 실행\n",
    "demo.launch()"
   ]
  },
  {
   "cell_type": "code",
   "execution_count": 24,
   "metadata": {},
   "outputs": [
    {
     "name": "stdout",
     "output_type": "stream",
     "text": [
      "Closing server running on port: 7860\n"
     ]
    }
   ],
   "source": [
    "# Gradio 인터페이스 종료 \n",
    "demo.close ()"
   ]
  }
 ],
 "metadata": {
  "kernelspec": {
   "display_name": "langchain-book-AlsLlHcI-py3.11",
   "language": "python",
   "name": "python3"
  },
  "language_info": {
   "codemirror_mode": {
    "name": "ipython",
    "version": 3
   },
   "file_extension": ".py",
   "mimetype": "text/x-python",
   "name": "python",
   "nbconvert_exporter": "python",
   "pygments_lexer": "ipython3",
   "version": "3.11.8"
  }
 },
 "nbformat": 4,
 "nbformat_minor": 2
}
