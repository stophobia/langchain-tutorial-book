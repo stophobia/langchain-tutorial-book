{
 "cells": [
  {
   "cell_type": "markdown",
   "metadata": {},
   "source": [
    "## 환경변수 로드"
   ]
  },
  {
   "cell_type": "code",
   "execution_count": 1,
   "metadata": {},
   "outputs": [
    {
     "data": {
      "text/plain": [
       "True"
      ]
     },
     "execution_count": 1,
     "metadata": {},
     "output_type": "execute_result"
    }
   ],
   "source": [
    "from dotenv import load_dotenv\n",
    "load_dotenv()"
   ]
  },
  {
   "cell_type": "markdown",
   "metadata": {},
   "source": [
    "# 7-20"
   ]
  },
  {
   "cell_type": "code",
   "execution_count": 2,
   "metadata": {},
   "outputs": [
    {
     "data": {
      "text/plain": [
       "9"
      ]
     },
     "execution_count": 2,
     "metadata": {},
     "output_type": "execute_result"
    }
   ],
   "source": [
    "# LangChain 라이브러리에서 PDF 로더를 임포트\n",
    "from langchain_community.document_loaders import PyPDFLoader\n",
    "\n",
    "# PDF 파일의 URL을 지정하여 PyPDFLoader 객체를 생성\n",
    "loader = PyPDFLoader(\"https://www.keei.re.kr/boardDownload.es?bid=0014&list_no=123083&seq=1\")\n",
    "\n",
    "# PDF 파일을 로드하고 처리\n",
    "docs = loader.load()\n",
    "\n",
    "# 처리된 문서의 페이지 수를 출력\n",
    "len(docs)"
   ]
  },
  {
   "cell_type": "markdown",
   "metadata": {},
   "source": [
    "# 7-21"
   ]
  },
  {
   "cell_type": "code",
   "execution_count": 4,
   "metadata": {},
   "outputs": [
    {
     "data": {
      "text/plain": [
       "Document(metadata={'source': 'https://www.keei.re.kr/boardDownload.es?bid=0014&list_no=123083&seq=1', 'page': 0}, page_content='   세계 에너지시장 인사이트  제24-13 호 2024.7.1.  1글로벌 EV 시장 동향 및 전망(IEA)1)\\n재생에너지정책연구실 장연재 부연구위원 (yjchang@keei.re.kr)  \\n▶2023년 전기차 판매량은 전년 대비 35% 증가한 약 1,400 만 대에 달해, 전 세계 전기차 보유량이 2018년 \\n대비 6배 이상 증가한 약 4,000 만 대에 이름.\\n▶전기차 충전 인프라는 인구 밀집 지역을 제외하면 가정용 충전이 일반적이며 , 공용 충전설비 설치가 40% \\n이상 증가하고 급속 충전시설은 55% 성장한 것으로 나타남 .\\n▶2023년 약 4,500 만 대였던 전기차 보유량은 2035년 5억 대를 초과할 전망이며 , 전 세계 주요 지역의 \\n전기차 판매 비중이 확대되어 2030년 40-60%, 2035년 50-90% 차지 예상\\n▶2030년까지 전 세계 공용 충전기 숫자는 약 1,500 만 개로 증가할 것으로 예상되며 , 가정용 충전기는 \\n2023년 2,700 만 기에서 2035년에 2억 7천만 기를 넘어설 것으로 전망됨 .\\n1.세계 전기차 시장 현황\\n▣전기차 판매 비중 증가\\n¡2023년 세계 전기차 판매량은 약 1,400 만 대로서 전년 대비 35% 증가하였으며 , \\n운행 중인 전기차는 2018년 대비 6배 이상 늘어난 4,000 만 대에 이름.\\n‒전기차는 2023년에 전 세계 자동차 판매의 약 18%를 차지했으며 , 이는 2022년의 \\n14%와 2018년의 2%에 비해 크게 증가한 수치임 .\\n¡2023년 전기차의 자동차 판매 점유율을 지역별로 보면 중국 60%, 유럽 25%, \\n미국 10% 순으로 나타남 . \\n‒중국은 810만 대의 신규 전기차가 등록되었고 , 이는 전년 대비 35% 증가한 \\n수치임 .\\n･중국의 내연기관차 시장은 8% 축소되었으나 , 전기차 판매 증가로 전체 자동차 \\n시장은 5% 성장함 . \\n･2023년에 세계 자동차 수출국 중 중국이 1위를 차지했으며 , 400만 대 이상의 \\n자동차 수출 중에서 120만 대가 전기차로 , 전기차 수출량이 80% 증가\\n‒유럽은 독일, 프랑스 , 영국이 전기차 시장의 성장을 주도했으며 , 2023년 기준 \\n320만 대의 신규 전기차 등록으로 2022년 대비 20% 증가\\n‒미국은 140만 대의 전기차가 신규 등록되어 전년 대비 40% 증가하였으며 , 인플\\n레이션 감축법 (IRA)에 따른 세액 공제 제도와 주요 모델의 가격 인하가 성장세를 \\n촉진한 것으로 파악됨 .\\n1) 본고는 IEA의 “Global EV Outlook 2024” 보고서를 요약 정리한 것임. “2023 년 글로벌 \\n전기차 판매량은 \\n35% 급증한 \\n1,400 만 대를 \\n기록했으며 , 중국, \\n유럽, 미국이 \\n성장을 주도”')"
      ]
     },
     "execution_count": 4,
     "metadata": {},
     "output_type": "execute_result"
    }
   ],
   "source": [
    "# 첫 번째 문서 객체\n",
    "docs[0]"
   ]
  },
  {
   "cell_type": "markdown",
   "metadata": {},
   "source": [
    "# 7-22"
   ]
  },
  {
   "cell_type": "code",
   "execution_count": 5,
   "metadata": {},
   "outputs": [
    {
     "data": {
      "text/plain": [
       "'   세계 에너지시장 인사이트  제24-13 호 2024.7.1.  1글로벌 EV 시장 동향 및 전망(IEA)1)\\n재생에너지정책연구실 장연재 부연구위원 (yjchang@keei.re.kr)  \\n▶2023년 전기차 판매량은 전년 대비 35% 증가한 약 1,400 만 대에 달해, 전 세계 전기차 보유량이 2018년 \\n대비 6배 이상 증가한 약 4,000 만 대에 이름.\\n▶전기차 충전 인프라는 인구 밀집 지역을 제외하면 가정용 충전이 일반적이며 , 공용 충전설비 설치가 40% \\n이상 증가하고 급속 충전시설은 55% 성장한 것으로 나타남 .\\n▶2023년 약 4,500 만 대였던 전기차 보유량은 2035년 5억 대를 초과할 전망이며 , 전 세계 주요 지역의 \\n전기차 판매 비중이 확대되어 2030년 40-60%, 2035년 50-90% 차지 예상\\n▶2030년까지 전 세계 공용 충전기 숫자는 약 1,500 만 개로 증가할 것으로 예상되며 , 가정용 충전기는 \\n2023년 2,700 만 기에서 2035년에 2억 7천만 기를 넘어설 것으로 전망됨 .\\n1.세계 전기차 시장 현황\\n▣전기차 판매 비중 증가\\n¡2023년 세계 전기차 판매량은 약 1,400 만 대로서 전년 대비 35% 증가하였으며 , \\n운행 중인 전기차는 2018년 대비 6배 이상 늘어난 4,000 만 대에 이름.\\n‒전기차는 2023년에 전 세계 자동차 판매의 약 18%를 차지했으며 , 이는 2022년의 \\n14%와 2018년의 2%에 비해 크게 증가한 수치임 .\\n¡2023년 전기차의 자동차 판매 점유율을 지역별로 보면 중국 60%, 유럽 25%, \\n미국 10% 순으로 나타남 . \\n‒중국은 810만 대의 신규 전기차가 등록되었고 , 이는 전년 대비 35% 증가한 \\n수치임 .\\n･중국의 내연기관차 시장은 8% 축소되었으나 , 전기차 판매 증가로 전체 자동차 \\n시장은 5% 성장함 . \\n･2023년에 세계 자동차 수출국 중 중국이 1위를 차지했으며 , 400만 대 이상의 \\n자동차 수출 중에서 120만 대가 전기차로 , 전기차 수출량이 80% 증가\\n‒유럽은 독일, 프랑스 , 영국이 전기차 시장의 성장을 주도했으며 , 2023년 기준 \\n320만 대의 신규 전기차 등록으로 2022년 대비 20% 증가\\n‒미국은 140만 대의 전기차가 신규 등록되어 전년 대비 40% 증가하였으며 , 인플\\n레이션 감축법 (IRA)에 따른 세액 공제 제도와 주요 모델의 가격 인하가 성장세를 \\n촉진한 것으로 파악됨 .\\n1) 본고는 IEA의 “Global EV Outlook 2024” 보고서를 요약 정리한 것임. “2023 년 글로벌 \\n전기차 판매량은 \\n35% 급증한 \\n1,400 만 대를 \\n기록했으며 , 중국, \\n유럽, 미국이 \\n성장을 주도”'"
      ]
     },
     "execution_count": 5,
     "metadata": {},
     "output_type": "execute_result"
    }
   ],
   "source": [
    "# 첫 번째 문서 객체 - page_content 속성\n",
    "docs[0].page_content"
   ]
  },
  {
   "cell_type": "markdown",
   "metadata": {},
   "source": [
    "# 7-23"
   ]
  },
  {
   "cell_type": "code",
   "execution_count": 6,
   "metadata": {},
   "outputs": [
    {
     "data": {
      "text/plain": [
       "{'source': 'https://www.keei.re.kr/boardDownload.es?bid=0014&list_no=123083&seq=1',\n",
       " 'page': 0}"
      ]
     },
     "execution_count": 6,
     "metadata": {},
     "output_type": "execute_result"
    }
   ],
   "source": [
    "# 첫 번째 문서 객체 - metadata 속성\n",
    "docs[0].metadata"
   ]
  },
  {
   "cell_type": "markdown",
   "metadata": {},
   "source": [
    "# 7-24"
   ]
  },
  {
   "cell_type": "code",
   "execution_count": 8,
   "metadata": {},
   "outputs": [
    {
     "name": "stdout",
     "output_type": "stream",
     "text": [
      "model='nomic-embed-text' base_url=None client_kwargs={}\n",
      "model='bge-m3' base_url=None client_kwargs={}\n"
     ]
    }
   ],
   "source": [
    "# LangChain의 Ollama 임베딩 모듈을 임포트\n",
    "from langchain_ollama import OllamaEmbeddings\n",
    "\n",
    "# Nomic 임베딩 모델을 초기화\n",
    "nomic_embeddings = OllamaEmbeddings(model=\"nomic-embed-text\")\n",
    "\n",
    "# BGE 임베딩 모델을 초기화\n",
    "bge_embeddings = OllamaEmbeddings(model=\"bge-m3\")\n",
    "\n",
    "# 모델 확인 \n",
    "print(nomic_embeddings)\n",
    "print(bge_embeddings)"
   ]
  },
  {
   "cell_type": "markdown",
   "metadata": {},
   "source": [
    "# 7-25"
   ]
  },
  {
   "cell_type": "code",
   "execution_count": 9,
   "metadata": {},
   "outputs": [
    {
     "name": "stdout",
     "output_type": "stream",
     "text": [
      "\n",
      "문장 1과 문장 2의 유사도 비교:\n",
      "Nomic-embed-text: 0.8811\n",
      "BGE-M3: 0.8656\n",
      "\n",
      "문장 1과 문장 3의 유사도 비교:\n",
      "Nomic-embed-text: 0.8402\n",
      "BGE-M3: 0.5945\n",
      "\n",
      "문장 1과 문장 4의 유사도 비교:\n",
      "Nomic-embed-text: 0.8051\n",
      "BGE-M3: 0.4425\n",
      "\n",
      "문장 2과 문장 3의 유사도 비교:\n",
      "Nomic-embed-text: 0.8227\n",
      "BGE-M3: 0.5376\n",
      "\n",
      "문장 2과 문장 4의 유사도 비교:\n",
      "Nomic-embed-text: 0.8194\n",
      "BGE-M3: 0.4128\n",
      "\n",
      "문장 3과 문장 4의 유사도 비교:\n",
      "Nomic-embed-text: 0.8227\n",
      "BGE-M3: 0.6682\n"
     ]
    }
   ],
   "source": [
    "# scikit-learn 라이브러리에서 코사인 유사도 함수를 임포트한다\n",
    "from sklearn.metrics.pairwise import cosine_similarity\n",
    "\n",
    "# 비교할 한국어 문장들을 정의한다\n",
    "sentences = [\n",
    "    \"안녕하세요, 오늘은 날씨가 좋습니다.\",\n",
    "    \"날씨가 맑아서 기분이 좋아요.\",\n",
    "    \"오늘 점심으로 김치찌개를 먹었습니다.\",\n",
    "    \"한국의 전통 음식 중 하나는 김치입니다.\"\n",
    "]\n",
    "\n",
    "# 각 모델로 문장들의 임베딩을 생성한다\n",
    "nomic_embeds = [nomic_embeddings.embed_query(sent) for sent in sentences]\n",
    "bge_embeds = [bge_embeddings.embed_query(sent) for sent in sentences]\n",
    "\n",
    "# 코사인 유사도를 계산하는 함수를 정의한다\n",
    "def calculate_similarities(embeds):\n",
    "    return cosine_similarity(embeds)\n",
    "\n",
    "# 각 모델의 임베딩에 대한 유사도 행렬을 계산한다\n",
    "nomic_similarities = calculate_similarities(nomic_embeds)\n",
    "bge_similarities = calculate_similarities(bge_embeds)\n",
    "\n",
    "# 각 문장 쌍의 유사도를 비교하여 출력한다\n",
    "for i in range(len(sentences)):\n",
    "    for j in range(i+1, len(sentences)):\n",
    "        print(f\"\\n문장 {i+1}과 문장 {j+1}의 유사도 비교:\")\n",
    "        print(f\"Nomic-embed-text: {nomic_similarities[i][j]:.4f}\")\n",
    "        print(f\"BGE-M3: {bge_similarities[i][j]:.4f}\")"
   ]
  },
  {
   "cell_type": "markdown",
   "metadata": {},
   "source": [
    "# 7-26"
   ]
  },
  {
   "cell_type": "code",
   "execution_count": 10,
   "metadata": {},
   "outputs": [
    {
     "name": "stdout",
     "output_type": "stream",
     "text": [
      "생성된 청크 수: 17\n"
     ]
    }
   ],
   "source": [
    "# 필요한 모듈 임포트\n",
    "from langchain_experimental.text_splitter import SemanticChunker\n",
    "\n",
    "# SemanticChunker 인스턴스 생성\n",
    "semantic_splitter = SemanticChunker(embeddings=bge_embeddings)\n",
    "\n",
    "# 문서를 의미론적으로 분할\n",
    "semantic_chunks = semantic_splitter.split_documents(docs)\n",
    "\n",
    "# 생성된 청크 수 출력\n",
    "print(f\"생성된 청크 수: {len(semantic_chunks)}\")"
   ]
  },
  {
   "cell_type": "markdown",
   "metadata": {},
   "source": [
    "# 7-27"
   ]
  },
  {
   "cell_type": "code",
   "execution_count": 11,
   "metadata": {},
   "outputs": [
    {
     "name": "stdout",
     "output_type": "stream",
     "text": [
      "   세계 에너지시장 인사이트  제24-13 호 2024.7.1. 1글로벌 EV 시장 동향 및 전망(IEA)1)\n",
      "재생에너지정책연구실 장연재 부연구위원 (yjchang@keei.re.kr)  \n",
      "▶2023년 전기차 판매량은 전년 대비 35% 증가한 약 1,400 만 대에 달해, 전 세계 전기차 보유량이 2018년 \n",
      "대비 6배 이상 증가한 약 4,000 만 대에 이름. ▶전기차 충전 인프라는 인구 밀집 지역을 제외하면 가정용 충전이 일반적이며 , 공용 충전설비 설치가 40% \n",
      "이상 증가하고 급속 충전시설은 55% 성장한 것으로 나타남 . ▶2023년 약 4,500 만 대였던 전기차 보유량은 2035년 5억 대를 초과할 전망이며 , 전 세계 주요 지역의 \n",
      "전기차 판매 비중이 확대되어 2030년 40-60%, 2035년 50-90% 차지 예상\n",
      "▶2030년까지 전 세계 공용 충전기 숫자는 약 1,500 만 개로 증가할 것으로 예상되며 , 가정용 충전기는 \n",
      "2023년 2,700 만 기에서 2035년에 2억 7천만 기를 넘어설 것으로 전망됨 . 1.세계 전기차 시장 현황\n",
      "▣전기차 판매 비중 증가\n",
      "¡2023년 세계 전기차 판매량은 약 1,400 만 대로서 전년 대비 35% 증가하였으며 , \n",
      "운행 중인 전기차는 2018년 대비 6배 이상 늘어난 4,000 만 대에 이름. ‒전기차는 2023년에 전 세계 자동차 판매의 약 18%를 차지했으며 , 이는 2022년의 \n",
      "14%와 2018년의 2%에 비해 크게 증가한 수치임 . ¡2023년 전기차의 자동차 판매 점유율을 지역별로 보면 중국 60%, 유럽 25%, \n",
      "미국 10% 순으로 나타남 . ‒중국은 810만 대의 신규 전기차가 등록되었고 , 이는 전년 대비 35% 증가한 \n",
      "수치임 . ･중국의 내연기관차 시장은 8% 축소되었으나 , 전기차 판매 증가로 전체 자동차 \n",
      "시장은 5% 성장함 . ･2023년에 세계 자동차 수출국 중 중국이 1위를 차지했으며 , 400만 대 이상의 \n",
      "자동차 수출 중에서 120만 대가 전기차로 , 전기차 수출량이 80% 증가\n",
      "‒유럽은 독일, 프랑스 , 영국이 전기차 시장의 성장을 주도했으며 , 2023년 기준 \n",
      "320만 대의 신규 전기차 등록으로 2022년 대비 20% 증가\n",
      "‒미국은 140만 대의 전기차가 신규 등록되어 전년 대비 40% 증가하였으며 , 인플\n",
      "레이션 감축법 (IRA)에 따른 세액 공제 제도와 주요 모델의 가격 인하가 성장세를 \n",
      "촉진한 것으로 파악됨 . 1) 본고는 IEA의 “Global EV Outlook 2024” 보고서를 요약 정리한 것임.\n"
     ]
    }
   ],
   "source": [
    "# chunk 0\n",
    "print(semantic_chunks[0].page_content)"
   ]
  },
  {
   "cell_type": "markdown",
   "metadata": {},
   "source": [
    "# 7-28"
   ]
  },
  {
   "cell_type": "code",
   "execution_count": 13,
   "metadata": {},
   "outputs": [],
   "source": [
    "# Chroma 모듈 임포트\n",
    "from langchain_chroma import Chroma\n",
    "\n",
    "# Chroma 벡터 저장소 생성\n",
    "vectorstore = Chroma.from_documents(semantic_chunks, bge_embeddings)"
   ]
  },
  {
   "cell_type": "markdown",
   "metadata": {},
   "source": [
    "# 7-29"
   ]
  },
  {
   "cell_type": "code",
   "execution_count": 24,
   "metadata": {},
   "outputs": [
    {
     "name": "stdout",
     "output_type": "stream",
     "text": [
      "3\n",
      "\n",
      "2  세계 에너지시장 인사이트  제24-13 호 2024.7.1. 자료 : IEA(2024), Global EV Outlook 2024< 세계 전기자동차 누적 판매 추이(2010~2023 년) >\n",
      "¡2023년 시판 중인 자동차 모델 종류는 전년 대비 15% 증가한 590종에 달했으며 , \n",
      "그 중 60% 이상이 SUV 또는 대형 차량으로 나타남 . ‒전기차 시장에서 소형 및 중형 모델의 비중이 감소하는 추세이며 미국에서는 \n",
      "소형 및 중형 전기차 모델이 전기차 판매의 25%를, 유럽에서는 40%, 중국에서는 \n",
      "50%를 차지한 것으로 나타남 . ‒이와 같은 대형 EV 모델의 종류 및 구매 증가 추세는 자동차 제조업체의 \n",
      "수익성과 소비자의 선호 및 배출 규제 등이 반영된 것으로 분석되고 있음. ‒IEA는 EV 모빌리티 대중화에 있어 소형 전기자동차의 중요성을 강조하며 소형 \n",
      "EV시장 확대를 위한 방안 마련의 필요성을 제기\n",
      "･대형 차량에는 더 큰 배터리가 필요하므로 중요 광물에 대한 수요가 증가할 \n",
      "수 있으며 , 철, 알루미늄 등 차체에 대한 자재 소요가 많아 환경 및 탄소발자국 \n",
      "측면에서 비효율적일 수 있고, 상대적으로 긴 충전시간으로 인해 충전인프라와 \n",
      "전력망에 부담이 될 수 있음. ▣전기차 충전인프라 보급 확대\n",
      "¡가정용 충전설비 보급은 여건상 북미 지역보다 유럽에서 유리하며 , 특히 노르웨이와 \n",
      "영국이 유럽의 가정용 충전설비 보급 증가를 견인\n",
      "‒가정용 충전설비는 전기차 충전의 가장 일반적인 방식이며 전력 수요가 낮은 \n",
      "시기에 더 저렴한 전기 요금을 이용할 수 있는 장점이 있으나 거주 형태 및 \n",
      "소득 수준 등에 따라 접근성이 상이함 .\n",
      "----------------------------------------------------------------------------------------------------\n",
      "･2023년 중국의 자동차 수출은 2022년 대비 60% 증가하여 일본과 독일을 \n",
      "제치고 세계 최대 자동차 수출국이 된 것으로 나타남 .“2022 년 말부터 \n",
      "중국 내 전기차 \n",
      "가격은 시장 \n",
      "경쟁으로 인해 \n",
      "급격히 하락”\n",
      "“BYD 와 Tesla 가 \n",
      "2023 년 EV \n",
      "판매량의 35%를 \n",
      "차지하고 있으며 , \n",
      "중국은 기업 통합 \n",
      "및 해외시장 확장 \n",
      "추세”\n",
      "----------------------------------------------------------------------------------------------------\n",
      "‒다만 규모 면에서 미국은 2023년 약 100GWh 로 세 시장 중 가장 작은 시장이며 , \n",
      "유럽은 185GWh, 중국은 415GWh 에 달함. ‒기타 지역에서도 EV 판매 증가로 인해 배터리 수요가 2022년 대비 70% 이상 급증\n",
      "¡전기차 배터리 수요 증가는 리튬과 같은 주요 금속 수요 증가의 주된 원인이며 \n",
      "2022년 대비 리튬 30%, 코발트 15%, 니켈 30% 가량 증가한 것으로 파악됨 . ‒최근 5년간 광산 및 정제에 대한 투자가 확대되어 EV 뿐만 아니라 휴대용 \n",
      "전자기기 , 도자기 , 금속 및 합금 등 기존 시장의 수요도 충분히 충족할 전망\n",
      "‒2023년 코발트와 니켈 공급은 각각 6.5%와 8% 가량 수요를 초과했으며 , 리튬 \n",
      "공급은 10% 이상 초과하여 중요 광물 가격과 배터리 비용 하락에 기여\n",
      "주 : LDV는 승용차 및 벤 등 경량 차량(Light-Duty Vehicle)\n",
      "자료 : IEA(2024), Global EV Outlook 2024< EV 배터리 수요 추이(2017~2023 년) >\n",
      "¡전기차 배터리 공급의 경우, 중국은 내수 충족과 함께 수출 여력을 가진 반면, \n",
      "유럽·미국은 대외 수입에 의존\n",
      "‒중국은 세계 최대의 EV 배터리 수출국으로 , 세계 EV 배터리의 약 12%를 수출하고 \n",
      "있어 자국 내 배터리 수요를 국가 내 또는 지역 생산으로 충족할 수 있으나 유럽과 \n",
      "미국에서는 각각 20% 이상, 30% 이상의 EV 배터리 수요를 수입으로 충당\n",
      "‒2023년 중국과 미국에 위치한 배터리 셀 제조설비의 용량은 2022년 대비 45% \n",
      "이상 증가했으며 , 유럽은 25% 가량 증가한 것으로 나타남 .“2023 년 전기차 \n",
      "배터리 수요는 \n",
      "750GWh 를 \n",
      "초과(40% \n",
      "증가)하였으며 \n",
      "주요 수요 증가는 \n",
      "미국과 유럽”\n",
      "“중국은 자국내 EV \n",
      "배터리 수요를 \n",
      "충족하고 12%를 \n",
      "수출하는 반면, \n",
      "유럽과 미국은 \n",
      "수입에 크게 \n",
      "의존하고 있으며 , \n",
      "2023 년에는 제조 \n",
      "능력이 증가”\n",
      "----------------------------------------------------------------------------------------------------\n"
     ]
    }
   ],
   "source": [
    "# 구체적인 사실 관계에 대한 질문 정의\n",
    "query = \"중국 전기차 시장에서 중형과 소형 모델의 판매 비중은 어느 정도인가요?\"\n",
    "\n",
    "# 벡터 저장소를 검색기(retriever)로 변환\n",
    "# 가장 유사도가 높은 3개의 문서를 검색하도록 설정\n",
    "retriever = vectorstore.as_retriever(search_kwargs={'k': 3})\n",
    "\n",
    "# 쿼리를 사용하여 검색 수행\n",
    "results = retriever.invoke(query)\n",
    "\n",
    "# 검색된 문서의 수 출력\n",
    "print(len(results))\n",
    "print()\n",
    "\n",
    "# 검색된 각 문서의 내용 출력\n",
    "for doc in results:\n",
    "    print(doc.page_content)\n",
    "    print(\"-\"*100)"
   ]
  },
  {
   "cell_type": "markdown",
   "metadata": {},
   "source": [
    "# 7-30"
   ]
  },
  {
   "cell_type": "code",
   "execution_count": 22,
   "metadata": {},
   "outputs": [
    {
     "name": "stdout",
     "output_type": "stream",
     "text": [
      "3\n",
      "\n",
      "2  세계 에너지시장 인사이트  제24-13 호 2024.7.1. 자료 : IEA(2024), Global EV Outlook 2024< 세계 전기자동차 누적 판매 추이(2010~2023 년) >\n",
      "¡2023년 시판 중인 자동차 모델 종류는 전년 대비 15% 증가한 590종에 달했으며 , \n",
      "그 중 60% 이상이 SUV 또는 대형 차량으로 나타남 . ‒전기차 시장에서 소형 및 중형 모델의 비중이 감소하는 추세이며 미국에서는 \n",
      "소형 및 중형 전기차 모델이 전기차 판매의 25%를, 유럽에서는 40%, 중국에서는 \n",
      "50%를 차지한 것으로 나타남 . ‒이와 같은 대형 EV 모델의 종류 및 구매 증가 추세는 자동차 제조업체의 \n",
      "수익성과 소비자의 선호 및 배출 규제 등이 반영된 것으로 분석되고 있음. ‒IEA는 EV 모빌리티 대중화에 있어 소형 전기자동차의 중요성을 강조하며 소형 \n",
      "EV시장 확대를 위한 방안 마련의 필요성을 제기\n",
      "･대형 차량에는 더 큰 배터리가 필요하므로 중요 광물에 대한 수요가 증가할 \n",
      "수 있으며 , 철, 알루미늄 등 차체에 대한 자재 소요가 많아 환경 및 탄소발자국 \n",
      "측면에서 비효율적일 수 있고, 상대적으로 긴 충전시간으로 인해 충전인프라와 \n",
      "전력망에 부담이 될 수 있음. ▣전기차 충전인프라 보급 확대\n",
      "¡가정용 충전설비 보급은 여건상 북미 지역보다 유럽에서 유리하며 , 특히 노르웨이와 \n",
      "영국이 유럽의 가정용 충전설비 보급 증가를 견인\n",
      "‒가정용 충전설비는 전기차 충전의 가장 일반적인 방식이며 전력 수요가 낮은 \n",
      "시기에 더 저렴한 전기 요금을 이용할 수 있는 장점이 있으나 거주 형태 및 \n",
      "소득 수준 등에 따라 접근성이 상이함 .\n",
      "----------------------------------------------------------------------------------------------------\n",
      "“2023 년 글로벌 \n",
      "전기차 판매량은 \n",
      "35% 급증한 \n",
      "1,400 만 대를 \n",
      "기록했으며 , 중국, \n",
      "유럽, 미국이 \n",
      "성장을 주도”\n",
      "----------------------------------------------------------------------------------------------------\n",
      "‒인구 밀도가 높은 도시에서는 다세대 주택 거주가 많아 가정 충전 접근성 \n",
      "제한되며 , 공공 충전에 더 의존하는 경향이 있음. ‒한국은 인구 밀도가 매우 높은 국가 중 하나로 EV 대비 공공 충전 용량 비율이 \n",
      "가장 높은 것으로 나타난 반면, 신차 판매 중 EV 비율이 90% 이상인 노르웨이의 \n",
      "경우 가정용 충전의 비중이 82%이며, 영국은 90%를 넘어서는 수준임 .“2023 년에는 \n",
      "자동차 모델이 \n",
      "전년 대비 15% \n",
      "증가하였으나 , \n",
      "소형 EV의 시장 \n",
      "점유율 감소로 \n",
      "작고 효율적인 \n",
      "EV에 대한 \n",
      "필요성이 부각”\n",
      "----------------------------------------------------------------------------------------------------\n"
     ]
    }
   ],
   "source": [
    "# 추론이 필요한 질문 정의\n",
    "query = \"중소형 전기차 모델이 가장 많은 판매량을 차지하는 지역은 어디인가요?\"\n",
    "\n",
    "# 벡터 저장소를 검색기(retriever)로 변환\n",
    "# 가장 유사도가 높은 3개의 문서를 검색하도록 설정\n",
    "retriever = vectorstore.as_retriever(search_kwargs={'k': 3})\n",
    "\n",
    "# 쿼리를 사용하여 검색 수행\n",
    "results = retriever.invoke(query)\n",
    "\n",
    "# 검색된 문서의 수 출력\n",
    "print(len(results))\n",
    "print()\n",
    "\n",
    "# 검색된 각 문서의 내용 출력\n",
    "for doc in results:\n",
    "    print(doc.page_content)\n",
    "    print(\"-\"*100)"
   ]
  },
  {
   "cell_type": "markdown",
   "metadata": {},
   "source": [
    "# 7-31"
   ]
  },
  {
   "cell_type": "code",
   "execution_count": 20,
   "metadata": {},
   "outputs": [
    {
     "data": {
      "text/plain": [
       "'중국 전기차 시장에서 소형 및 중형 모델의 비중은 50%를 차지합니다. \\n\\n\\n'"
      ]
     },
     "execution_count": 20,
     "metadata": {},
     "output_type": "execute_result"
    }
   ],
   "source": [
    "from langchain_core.prompts import ChatPromptTemplate\n",
    "from langchain_core.output_parsers import StrOutputParser\n",
    "from langchain_core.runnables import RunnablePassthrough\n",
    "from langchain_ollama import ChatOllama\n",
    "\n",
    "# Ollama 모델 설정\n",
    "llm = ChatOllama(\n",
    "    model = \"gemma2\",\n",
    "    temperature = 0.2,\n",
    "    num_predict = 250,\n",
    ")\n",
    "\n",
    "# 프롬프트 템플릿 정의\n",
    "template = '''Answer the question based only on the following context.\n",
    "\n",
    "[Context]\n",
    "{context}\n",
    "\n",
    "[Question]\n",
    "{question}\n",
    "\n",
    "[Answer (in Korean)]\n",
    "'''\n",
    "\n",
    "prompt = ChatPromptTemplate.from_template(template)\n",
    "\n",
    "# 문서 형식화 함수\n",
    "def format_docs(docs):\n",
    "    return '\\n\\n'.join([d.page_content for d in docs])\n",
    "\n",
    "# RAG Chain 구성\n",
    "rag_chain = (\n",
    "    {'context': retriever | format_docs, 'question': RunnablePassthrough()}\n",
    "    | prompt\n",
    "    | llm\n",
    "    | StrOutputParser()\n",
    ")\n",
    "\n",
    "# Chain 실행\n",
    "query = \"중국 전기차 시장에서 중형과 소형 모델의 판매 비중은 어느 정도인가요?\"\n",
    "rag_chain.invoke(query)"
   ]
  },
  {
   "cell_type": "markdown",
   "metadata": {},
   "source": [
    "# 7-32"
   ]
  },
  {
   "cell_type": "code",
   "execution_count": 23,
   "metadata": {},
   "outputs": [
    {
     "data": {
      "text/plain": [
       "'문맥에 따르면 중소형 전기차 모델이 가장 많은 판매량을 차지하는 지역은 **중국**입니다. \\n\\n\\n'"
      ]
     },
     "execution_count": 23,
     "metadata": {},
     "output_type": "execute_result"
    }
   ],
   "source": [
    "query = \"중소형 전기차 모델이 가장 많은 판매량을 차지하는 지역은 어디인가요?\"\n",
    "rag_chain.invoke(query)"
   ]
  },
  {
   "cell_type": "markdown",
   "metadata": {},
   "source": [
    "# 7-33"
   ]
  },
  {
   "cell_type": "code",
   "execution_count": 25,
   "metadata": {},
   "outputs": [
    {
     "data": {
      "text/plain": [
       "'중국에서는 2023년 소형 및 중형 전기차 모델이 전기차 판매의 50%를 차지한 것으로 나타났습니다.'"
      ]
     },
     "execution_count": 25,
     "metadata": {},
     "output_type": "execute_result"
    }
   ],
   "source": [
    "# Ollama 모델 설정 변경\n",
    "llm = ChatOllama(\n",
    "    model = \"qwen2.5\",  # 모델을 qwen2.5로 변경\n",
    "    temperature = 0.2,\n",
    "    num_predict = 250,\n",
    ")\n",
    "\n",
    "# RAG Chain 재구성\n",
    "rag_chain = (\n",
    "    {'context': retriever | format_docs, 'question': RunnablePassthrough()}\n",
    "    | prompt\n",
    "    | llm\n",
    "    | StrOutputParser()\n",
    ")\n",
    "\n",
    "# 새로운 질문으로 Chain 실행\n",
    "query = \"중국 전기차 시장에서 중형과 소형 모델의 판매 비중은 어느 정도인가요?\"\n",
    "rag_chain.invoke(query)"
   ]
  },
  {
   "cell_type": "markdown",
   "metadata": {},
   "source": [
    "# 7-34"
   ]
  },
  {
   "cell_type": "code",
   "execution_count": 26,
   "metadata": {},
   "outputs": [
    {
     "data": {
      "text/plain": [
       "'중소형 전기차 모델이 가장 많은 판매량을 차지하는 지역은 중국으로 나타났습니다. 중국에서는 소형 및 중형 전기차 모델이 전체 전기차 판매의 50%를 차지한 것으로 보고되었습니다.'"
      ]
     },
     "execution_count": 26,
     "metadata": {},
     "output_type": "execute_result"
    }
   ],
   "source": [
    "query = \"중소형 전기차 모델이 가장 많은 판매량을 차지하는 지역은 어디인가요?\"\n",
    "rag_chain.invoke(query)"
   ]
  },
  {
   "cell_type": "markdown",
   "metadata": {},
   "source": [
    "# 7-35"
   ]
  },
  {
   "cell_type": "code",
   "execution_count": 23,
   "metadata": {},
   "outputs": [
    {
     "data": {
      "text/plain": [
       "'글로벌 전기차 산업은 다양한 지역에서의 판매 증가와 함께 재편되고 있습니다. 특히, 중국과 유럽, 미국 등 주요 시장에서 뚜렷한 성장을 보이고 있습니다.\\n\\n1. **중국**: 2023년 중국의 내연기관차 시장이 8% 축소되었음에도 불구하고 전기차 판매 증가로 전체 자동차 시장은 5% 성장하였습니다. 또한, 중국은 세계 최대의 전기차 수출국으로, 400만 대 이상의 자동차 중 120만 대가 전기차였으며, 이는 전년도에 비해 80% 증가한 수치입니다.\\n\\n2. **유럽**: 독일, 프랑스, 영국이 주도하여 전기차 시장 성장을 촉진하였고, 2023년 기준 신규 등록된 전기차는 320만 대로 이전 해에 비해 20% 증가하였습니다.\\n\\n3. **미국**: 미국은 14'"
      ]
     },
     "execution_count": 23,
     "metadata": {},
     "output_type": "execute_result"
    }
   ],
   "source": [
    "query = \"글로벌 전기차 산업이 어떻게 재편되고 있나요?\"\n",
    "rag_chain.invoke(query)"
   ]
  },
  {
   "cell_type": "markdown",
   "metadata": {},
   "source": [
    "# 7-36"
   ]
  },
  {
   "cell_type": "code",
   "execution_count": 28,
   "metadata": {},
   "outputs": [
    {
     "data": {
      "text/plain": [
       "'글로벌 전기차 시장은 대형 차량으로의 트렌드 변화를 보이고 있습니다. 소형 및 중형 모델의 비중이 감소하고 SUV 또는 대형 차량이 60% 이상을 차지하며, 이는 자동차 제조업체의 수익성, 소비자 선호, 배출 규제 등이 반영된 결과로 분석됩니다. \\n\\n\\n'"
      ]
     },
     "execution_count": 28,
     "metadata": {},
     "output_type": "execute_result"
    }
   ],
   "source": [
    "from langchain_groq import ChatGroq\n",
    "\n",
    "# Groq LLM 설정\n",
    "llm = ChatGroq(\n",
    "    model=\"gemma2-9b-it\",\n",
    "    temperature=0.2,\n",
    "    max_retries=2,\n",
    ")\n",
    "\n",
    "# RAG Chain 재구성\n",
    "rag_chain = (\n",
    "    {'context': retriever | format_docs, 'question': RunnablePassthrough()}\n",
    "    | prompt\n",
    "    | llm\n",
    "    | StrOutputParser()\n",
    ")\n",
    "\n",
    "# 새로운 질문으로 Chain 실행\n",
    "query = \"글로벌 전기차 산업이 어떻게 재편되고 있나요?\"\n",
    "rag_chain.invoke(query)"
   ]
  },
  {
   "cell_type": "markdown",
   "metadata": {},
   "source": [
    "# 7-37"
   ]
  },
  {
   "cell_type": "code",
   "execution_count": 29,
   "metadata": {},
   "outputs": [
    {
     "data": {
      "text/plain": [
       "'글로벌 전기차 산업은 빠르게 성장하고 있으며, 2023년 글로벌 전기차 판매량은 35% 급증한 1,400만 대를 기록했습니다. 중국, 유럽, 미국이 성장을 주도하고 있습니다. 또한, 2023년 시판 중인 자동차 모델 종류는 전년 대비 15% 증가한 590종에 달했으며, 그 중 60% 이상이 SUV 또는 대형 차량으로 나타났습니다. 이는 자동차 제조업체의 수익성과 소비자의 선호 및 배출 규제 등이 반영된 것으로 분석되고 있습니다. 그러나 대형 차량에는 더 큰 배터리가 필요하므로 중요 광물에 대한 수요가 증가할 수 있으며, 환경 및 탄소발자국 측면에서 비효율적일 수 있습니다. 따라서, IEA는 EV 모빌리티 대중화에 있어 소형 전기자동차의 중요성을 강조하며 소형 EV시장 확대를 위한 방안 마련의 필요성을 제기하고 있습니다.'"
      ]
     },
     "execution_count": 29,
     "metadata": {},
     "output_type": "execute_result"
    }
   ],
   "source": [
    "from langchain_groq import ChatGroq\n",
    "\n",
    "# Groq LLM 설정\n",
    "llm = ChatGroq(\n",
    "    model=\"llama-3.1-70b-versatile\",\n",
    "    temperature=0.2,\n",
    "    max_retries=2,\n",
    ")\n",
    "\n",
    "# RAG Chain 재구성\n",
    "rag_chain = (\n",
    "    {'context': retriever | format_docs, 'question': RunnablePassthrough()}\n",
    "    | prompt\n",
    "    | llm\n",
    "    | StrOutputParser()\n",
    ")\n",
    "\n",
    "# 새로운 질문으로 Chain 실행\n",
    "query = \"글로벌 전기차 산업이 어떻게 재편되고 있나요?\"\n",
    "rag_chain.invoke(query)"
   ]
  },
  {
   "cell_type": "code",
   "execution_count": null,
   "metadata": {},
   "outputs": [],
   "source": []
  }
 ],
 "metadata": {
  "kernelspec": {
   "display_name": "langchain-book-AlsLlHcI-py3.11",
   "language": "python",
   "name": "python3"
  },
  "language_info": {
   "codemirror_mode": {
    "name": "ipython",
    "version": 3
   },
   "file_extension": ".py",
   "mimetype": "text/x-python",
   "name": "python",
   "nbconvert_exporter": "python",
   "pygments_lexer": "ipython3",
   "version": "3.11.8"
  }
 },
 "nbformat": 4,
 "nbformat_minor": 2
}
