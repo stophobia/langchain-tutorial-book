{
 "cells": [
  {
   "cell_type": "markdown",
   "metadata": {},
   "source": [
    "## 환경변수 로드"
   ]
  },
  {
   "cell_type": "code",
   "execution_count": 1,
   "metadata": {},
   "outputs": [
    {
     "data": {
      "text/plain": [
       "True"
      ]
     },
     "execution_count": 1,
     "metadata": {},
     "output_type": "execute_result"
    }
   ],
   "source": [
    "from dotenv import load_dotenv\n",
    "load_dotenv()"
   ]
  },
  {
   "cell_type": "markdown",
   "metadata": {},
   "source": [
    "# 7-38"
   ]
  },
  {
   "cell_type": "code",
   "execution_count": 2,
   "metadata": {},
   "outputs": [
    {
     "data": {
      "text/plain": [
       "AgentExecutor(verbose=False, agent=RunnableMultiActionAgent(runnable=RunnableAssign(mapper={\n",
       "  agent_scratchpad: RunnableLambda(lambda x: format_to_openai_tool_messages(x['intermediate_steps']))\n",
       "})\n",
       "| ChatPromptTemplate(input_variables=['agent_scratchpad', 'input'], input_types={'agent_scratchpad': list[typing.Annotated[typing.Union[typing.Annotated[langchain_core.messages.ai.AIMessage, Tag(tag='ai')], typing.Annotated[langchain_core.messages.human.HumanMessage, Tag(tag='human')], typing.Annotated[langchain_core.messages.chat.ChatMessage, Tag(tag='chat')], typing.Annotated[langchain_core.messages.system.SystemMessage, Tag(tag='system')], typing.Annotated[langchain_core.messages.function.FunctionMessage, Tag(tag='function')], typing.Annotated[langchain_core.messages.tool.ToolMessage, Tag(tag='tool')], typing.Annotated[langchain_core.messages.ai.AIMessageChunk, Tag(tag='AIMessageChunk')], typing.Annotated[langchain_core.messages.human.HumanMessageChunk, Tag(tag='HumanMessageChunk')], typing.Annotated[langchain_core.messages.chat.ChatMessageChunk, Tag(tag='ChatMessageChunk')], typing.Annotated[langchain_core.messages.system.SystemMessageChunk, Tag(tag='SystemMessageChunk')], typing.Annotated[langchain_core.messages.function.FunctionMessageChunk, Tag(tag='FunctionMessageChunk')], typing.Annotated[langchain_core.messages.tool.ToolMessageChunk, Tag(tag='ToolMessageChunk')]], FieldInfo(annotation=NoneType, required=True, discriminator=Discriminator(discriminator=<function _get_type at 0x10c945940>, custom_error_type=None, custom_error_message=None, custom_error_context=None))]]}, partial_variables={}, messages=[SystemMessage(content='\\nYou are working with a pandas dataframe in Python. The name of the dataframe is `df`.\\nThis is the result of `print(df.head())`:\\n|    |   PassengerId |   Survived |   Pclass | Name                                                | Sex    |   Age |   SibSp |   Parch | Ticket           |    Fare | Cabin   | Embarked   |\\n|---:|--------------:|-----------:|---------:|:----------------------------------------------------|:-------|------:|--------:|--------:|:-----------------|--------:|:--------|:-----------|\\n|  0 |             1 |          0 |        3 | Braund, Mr. Owen Harris                             | male   |    22 |       1 |       0 | A/5 21171        |  7.25   | nan     | S          |\\n|  1 |             2 |          1 |        1 | Cumings, Mrs. John Bradley (Florence Briggs Thayer) | female |    38 |       1 |       0 | PC 17599         | 71.2833 | C85     | C          |\\n|  2 |             3 |          1 |        3 | Heikkinen, Miss Laina                               | female |    26 |       0 |       0 | STON/O2. 3101282 |  7.925  | nan     | S          |\\n|  3 |             4 |          1 |        1 | Futrelle, Mrs. Jacques Heath (Lily May Peel)        | female |    35 |       1 |       0 | 113803           | 53.1    | C123    | S          |\\n|  4 |             5 |          0 |        3 | Allen, Mr. William Henry                            | male   |    35 |       0 |       0 | 373450           |  8.05   | nan     | S          |', additional_kwargs={}, response_metadata={}), HumanMessagePromptTemplate(prompt=PromptTemplate(input_variables=['input'], input_types={}, partial_variables={}, template='{input}'), additional_kwargs={}), MessagesPlaceholder(variable_name='agent_scratchpad')])\n",
       "| RunnableBinding(bound=ChatOpenAI(client=<openai.resources.chat.completions.Completions object at 0x1179f6450>, async_client=<openai.resources.chat.completions.AsyncCompletions object at 0x117a78c90>, root_client=<openai.OpenAI object at 0x1174d2390>, root_async_client=<openai.AsyncOpenAI object at 0x117bc07d0>, model_name='gpt-4o-mini', temperature=0.0, model_kwargs={}, openai_api_key=SecretStr('**********')), kwargs={'tools': [{'type': 'function', 'function': {'name': 'python_repl_ast', 'description': 'A Python shell. Use this to execute python commands. Input should be a valid python command. When using this tool, sometimes output is abbreviated - make sure it does not look abbreviated before using it in your answer.', 'parameters': {'properties': {'query': {'description': 'code snippet to run', 'type': 'string'}}, 'required': ['query'], 'type': 'object'}}}]}, config={}, config_factories=[])\n",
       "| OpenAIToolsAgentOutputParser(), input_keys_arg=['input'], return_keys_arg=['output'], stream_runnable=True), tools=[PythonAstREPLTool(globals={}, locals={'df':      PassengerId  Survived  Pclass  \\\n",
       "0              1         0       3   \n",
       "1              2         1       1   \n",
       "2              3         1       3   \n",
       "3              4         1       1   \n",
       "4              5         0       3   \n",
       "..           ...       ...     ...   \n",
       "886          887         0       2   \n",
       "887          888         1       1   \n",
       "888          889         0       3   \n",
       "889          890         1       1   \n",
       "890          891         0       3   \n",
       "\n",
       "                                                  Name     Sex   Age  SibSp  \\\n",
       "0                              Braund, Mr. Owen Harris    male  22.0      1   \n",
       "1    Cumings, Mrs. John Bradley (Florence Briggs Th...  female  38.0      1   \n",
       "2                                Heikkinen, Miss Laina  female  26.0      0   \n",
       "3         Futrelle, Mrs. Jacques Heath (Lily May Peel)  female  35.0      1   \n",
       "4                             Allen, Mr. William Henry    male  35.0      0   \n",
       "..                                                 ...     ...   ...    ...   \n",
       "886                              Montvila, Rev. Juozas    male  27.0      0   \n",
       "887                        Graham, Miss Margaret Edith  female  19.0      0   \n",
       "888            Johnston, Miss Catherine Helen \"Carrie\"  female   NaN      1   \n",
       "889                              Behr, Mr. Karl Howell    male  26.0      0   \n",
       "890                                Dooley, Mr. Patrick    male  32.0      0   \n",
       "\n",
       "     Parch            Ticket     Fare Cabin Embarked  \n",
       "0        0         A/5 21171   7.2500   NaN        S  \n",
       "1        0          PC 17599  71.2833   C85        C  \n",
       "2        0  STON/O2. 3101282   7.9250   NaN        S  \n",
       "3        0            113803  53.1000  C123        S  \n",
       "4        0            373450   8.0500   NaN        S  \n",
       "..     ...               ...      ...   ...      ...  \n",
       "886      0            211536  13.0000   NaN        S  \n",
       "887      0            112053  30.0000   B42        S  \n",
       "888      2        W./C. 6607  23.4500   NaN        S  \n",
       "889      0            111369  30.0000  C148        C  \n",
       "890      0            370376   7.7500   NaN        Q  \n",
       "\n",
       "[891 rows x 12 columns]})], return_intermediate_steps=True)"
      ]
     },
     "execution_count": 2,
     "metadata": {},
     "output_type": "execute_result"
    }
   ],
   "source": [
    "from langchain_experimental.agents.agent_toolkits import create_pandas_dataframe_agent\n",
    "from langchain_openai import ChatOpenAI\n",
    "import pandas as pd \n",
    "\n",
    "# Titanic 데이터셋을 GitHub에서 직접 로드\n",
    "url = \"https://raw.githubusercontent.com/pandas-dev/pandas/main/doc/data/titanic.csv\"\n",
    "df = pd.read_csv(url)\n",
    "\n",
    "# OpenAI의 ChatGPT 모델을 초기화\n",
    "llm = ChatOpenAI(temperature=0, model=\"gpt-4o-mini\")\n",
    "\n",
    "# Pandas DataFrame을 처리할 수 있는 LangChain 에이전트를 생성\n",
    "pandas_agent = create_pandas_dataframe_agent(\n",
    "    llm,  # 초기화된 언어 모델\n",
    "    df,   # 분석할 DataFrame\n",
    "    agent_type=\"openai-tools\",  # OpenAI의 도구를 사용하는 에이전트 유형 지정\n",
    "    verbose=False,              # 상세한 출력 비활성화\n",
    "    return_intermediate_steps=True,  # 에이전트의 중간 처리 단계 결과 반환 설정\n",
    "    allow_dangerous_code=True,       # 잠재적으로 위험할 수 있는 코드 실행 허용\n",
    ")\n",
    "\n",
    "# 생성된 에이전트 객체를 출력\n",
    "pandas_agent"
   ]
  },
  {
   "cell_type": "markdown",
   "metadata": {},
   "source": [
    "# 7-39"
   ]
  },
  {
   "cell_type": "code",
   "execution_count": 3,
   "metadata": {},
   "outputs": [
    {
     "name": "stdout",
     "output_type": "stream",
     "text": [
      "{'input': '데이터셋의 행과 열의 수를 알려주세요.',\n",
      " 'intermediate_steps': [(ToolAgentAction(tool='python_repl_ast', tool_input={'query': 'df.shape'}, log=\"\\nInvoking: `python_repl_ast` with `{'query': 'df.shape'}`\\n\\n\\n\", message_log=[AIMessageChunk(content='', additional_kwargs={'tool_calls': [{'index': 0, 'id': 'call_roc6Z2rPmyK9InSmaDxWdG5A', 'function': {'arguments': '{\"query\":\"df.shape\"}', 'name': 'python_repl_ast'}, 'type': 'function'}]}, response_metadata={'finish_reason': 'tool_calls', 'model_name': 'gpt-4o-mini-2024-07-18', 'system_fingerprint': 'fp_482c22a7bc'}, id='run-a089ad4b-90b0-4cba-96cc-b0019eff45ff', tool_calls=[{'name': 'python_repl_ast', 'args': {'query': 'df.shape'}, 'id': 'call_roc6Z2rPmyK9InSmaDxWdG5A', 'type': 'tool_call'}], tool_call_chunks=[{'name': 'python_repl_ast', 'args': '{\"query\":\"df.shape\"}', 'id': 'call_roc6Z2rPmyK9InSmaDxWdG5A', 'index': 0, 'type': 'tool_call_chunk'}])], tool_call_id='call_roc6Z2rPmyK9InSmaDxWdG5A'),\n",
      "                         (891, 12))],\n",
      " 'output': '데이터셋은 891개의 행과 12개의 열로 구성되어 있습니다.'}\n"
     ]
    }
   ],
   "source": [
    "from pprint import pprint \n",
    "\n",
    "# Pandas 에이전트를 사용한 기본 정보 확인\n",
    "result = pandas_agent.invoke(\"데이터셋의 행과 열의 수를 알려주세요.\")\n",
    "pprint(result)"
   ]
  },
  {
   "cell_type": "markdown",
   "metadata": {},
   "source": [
    "# 7-40"
   ]
  },
  {
   "cell_type": "code",
   "execution_count": 4,
   "metadata": {},
   "outputs": [
    {
     "name": "stdout",
     "output_type": "stream",
     "text": [
      "{'input': '생존자의 수를 계산해주세요.',\n",
      " 'intermediate_steps': [(ToolAgentAction(tool='python_repl_ast', tool_input={'query': \"survivors_count = df['Survived'].sum() \\nsurvivors_count\"}, log='\\nInvoking: `python_repl_ast` with `{\\'query\\': \"survivors_count = df[\\'Survived\\'].sum() \\\\nsurvivors_count\"}`\\n\\n\\n', message_log=[AIMessageChunk(content='', additional_kwargs={'tool_calls': [{'index': 0, 'id': 'call_BgmS1MVQpyJ5c3awT5dBC4X5', 'function': {'arguments': '{\"query\":\"survivors_count = df[\\'Survived\\'].sum() \\\\nsurvivors_count\"}', 'name': 'python_repl_ast'}, 'type': 'function'}]}, response_metadata={'finish_reason': 'tool_calls', 'model_name': 'gpt-4o-mini-2024-07-18', 'system_fingerprint': 'fp_482c22a7bc'}, id='run-ebce2896-aa0d-4cd7-aea5-18474fe93755', tool_calls=[{'name': 'python_repl_ast', 'args': {'query': \"survivors_count = df['Survived'].sum() \\nsurvivors_count\"}, 'id': 'call_BgmS1MVQpyJ5c3awT5dBC4X5', 'type': 'tool_call'}], tool_call_chunks=[{'name': 'python_repl_ast', 'args': '{\"query\":\"survivors_count = df[\\'Survived\\'].sum() \\\\nsurvivors_count\"}', 'id': 'call_BgmS1MVQpyJ5c3awT5dBC4X5', 'index': 0, 'type': 'tool_call_chunk'}])], tool_call_id='call_BgmS1MVQpyJ5c3awT5dBC4X5'),\n",
      "                         342)],\n",
      " 'output': '생존자의 수는 342명입니다.'}\n"
     ]
    }
   ],
   "source": [
    "# 생존자 수 계산\n",
    "result = pandas_agent.invoke(\"생존자의 수를 계산해주세요.\")\n",
    "pprint(result)"
   ]
  },
  {
   "cell_type": "markdown",
   "metadata": {},
   "source": [
    "# 7-41"
   ]
  },
  {
   "cell_type": "code",
   "execution_count": 4,
   "metadata": {},
   "outputs": [
    {
     "data": {
      "text/plain": [
       "PythonREPL(globals={}, locals={})"
      ]
     },
     "execution_count": 4,
     "metadata": {},
     "output_type": "execute_result"
    }
   ],
   "source": [
    "# LangChain의 실험적 기능에서 PythonREPL 유틸리티를 임포트\n",
    "from langchain_experimental.utilities import PythonREPL\n",
    "\n",
    "# PythonREPL 객체를 초기화\n",
    "python_repl = PythonREPL()\n",
    "\n",
    "# 생성된 PythonREPL 객체를 출력\n",
    "python_repl"
   ]
  },
  {
   "cell_type": "markdown",
   "metadata": {},
   "source": [
    "# 7-42"
   ]
  },
  {
   "cell_type": "code",
   "execution_count": 6,
   "metadata": {},
   "outputs": [
    {
     "name": "stderr",
     "output_type": "stream",
     "text": [
      "Python REPL can execute arbitrary code. Use with caution.\n"
     ]
    },
    {
     "name": "stdout",
     "output_type": "stream",
     "text": [
      "12\n",
      "\n"
     ]
    }
   ],
   "source": [
    "# Python REPL 도구 실행 \n",
    "result = python_repl.run(\"print(2+10)\")\n",
    "\n",
    "print(result)"
   ]
  },
  {
   "cell_type": "markdown",
   "metadata": {},
   "source": [
    "# 7-43"
   ]
  },
  {
   "cell_type": "code",
   "execution_count": 5,
   "metadata": {},
   "outputs": [
    {
     "data": {
      "image/jpeg": "[encoded data removed]",
      "text/plain": [
       "<IPython.core.display.Image object>"
      ]
     },
     "metadata": {},
     "output_type": "display_data"
    }
   ],
   "source": [
    "from langchain_core.tools import Tool\n",
    "from langchain_openai import ChatOpenAI\n",
    "from langgraph.prebuilt import create_react_agent\n",
    "from IPython.display import Image, display\n",
    "\n",
    "# Pandas 도구 생성\n",
    "pandas_tool = Tool(\n",
    "    name=\"pandas_agent\",\n",
    "    func=pandas_agent.invoke,\n",
    "    description=\"\"\"타이타닉 데이터가 저장된 데이터프레임 df에 대한 조작 도구. \n",
    "    데이터 분석, 필터링, 그룹화 등의 작업에 사용합니다.\"\"\"\n",
    ")\n",
    "\n",
    "# Python REPL 도구 생성\n",
    "python_repl = PythonREPL()\n",
    "repl_tool = Tool(\n",
    "    name=\"python_repl\",\n",
    "    func=python_repl.run,\n",
    "    description=\"\"\"Python 명령을 실행하는 Python 셸. \n",
    "    복잡한 계산이나 pandas_agent로 처리하기 어려운 작업에 사용합니다.\"\"\"\n",
    ")\n",
    "\n",
    "# 도구 목록 생성\n",
    "tools = [pandas_tool, repl_tool]\n",
    "\n",
    "# LLM 모델 인스턴스를 생성\n",
    "model = ChatOpenAI(model=\"gpt-4o-mini\")\n",
    "\n",
    "# 시스템 프롬프트 정의 \n",
    "prompt = \"\"\"\n",
    "타이타닉 데이터셋을 분석하는 데이터 과학자 도우미입니다. \n",
    "답변에 대한 추론 과정과 근거에 대해서 설명하고 최종 답변을 출력합니다.\n",
    "\"\"\"\n",
    "\n",
    "# LLM에 도구 바인딩하여 ReAct 에이전트 생성 \n",
    "agent = create_react_agent(model, tools=tools, state_modifier=prompt)\n",
    "\n",
    "# 에이전트 그래프 구조를 시각화 \n",
    "display(Image(agent.get_graph().draw_mermaid_png()))"
   ]
  },
  {
   "cell_type": "markdown",
   "metadata": {},
   "source": [
    "# 7-44"
   ]
  },
  {
   "cell_type": "code",
   "execution_count": 27,
   "metadata": {},
   "outputs": [
    {
     "name": "stdout",
     "output_type": "stream",
     "text": [
      "================================\u001b[1m Human Message \u001b[0m=================================\n",
      "\n",
      "데이터셋의 행과 열의 수를 알려주세요.\n",
      "==================================\u001b[1m Ai Message \u001b[0m==================================\n",
      "Tool Calls:\n",
      "  pandas_agent (call_yZQkXP8Kfewck877DIw3RiVd)\n",
      " Call ID: call_yZQkXP8Kfewck877DIw3RiVd\n",
      "  Args:\n",
      "    __arg1: df.shape\n",
      "=================================\u001b[1m Tool Message \u001b[0m=================================\n",
      "Name: pandas_agent\n",
      "\n",
      "{'input': 'df.shape', 'output': 'The shape of the dataframe `df` is (891, 12), which means it has 891 rows and 12 columns.', 'intermediate_steps': [(ToolAgentAction(tool='python_repl_ast', tool_input={'query': 'df.shape'}, log=\"\\nInvoking: `python_repl_ast` with `{'query': 'df.shape'}`\\n\\n\\n\", message_log=[AIMessageChunk(content='', additional_kwargs={'tool_calls': [{'index': 0, 'id': 'call_nk8PWsTKI5TEL2UPvvr6u1n6', 'function': {'arguments': '{\"query\":\"df.shape\"}', 'name': 'python_repl_ast'}, 'type': 'function'}]}, response_metadata={'finish_reason': 'tool_calls', 'model_name': 'gpt-4o-mini-2024-07-18', 'system_fingerprint': 'fp_482c22a7bc'}, id='run-b154c9e6-3845-42fd-9c48-a5c78ff61687', tool_calls=[{'name': 'python_repl_ast', 'args': {'query': 'df.shape'}, 'id': 'call_nk8PWsTKI5TEL2UPvvr6u1n6', 'type': 'tool_call'}], tool_call_chunks=[{'name': 'python_repl_ast', 'args': '{\"query\":\"df.shape\"}', 'id': 'call_nk8PWsTKI5TEL2UPvvr6u1n6', 'index': 0, 'type': 'tool_call_chunk'}])], tool_call_id='call_nk8PWsTKI5TEL2UPvvr6u1n6'), (891, 12))]}\n",
      "==================================\u001b[1m Ai Message \u001b[0m==================================\n",
      "\n",
      "타이타닉 데이터셋의 행과 열의 수는 다음과 같습니다: \n",
      "\n",
      "- **행 (Rows)**: 891\n",
      "- **열 (Columns)**: 12\n",
      "\n",
      "따라서 데이터프레임은 891개의 행과 12개의 열로 구성되어 있습니다.\n"
     ]
    }
   ],
   "source": [
    "# 입력 값 정의 \n",
    "inputs = {\"messages\": [(\"user\", \"데이터셋의 행과 열의 수를 알려주세요.\")]}\n",
    "\n",
    "# 에이전트의 응답을 스트리밍 방식으로 출력  \n",
    "config = {\"recursion_limit\": 10}  \n",
    "for s in agent.stream(inputs, config=config, stream_mode=\"values\"):\n",
    "    message = s[\"messages\"][-1]\n",
    "    if isinstance(message, tuple):\n",
    "        print(message)\n",
    "    else:\n",
    "        message.pretty_print()"
   ]
  },
  {
   "cell_type": "markdown",
   "metadata": {},
   "source": [
    "# 7-45"
   ]
  },
  {
   "cell_type": "code",
   "execution_count": 28,
   "metadata": {},
   "outputs": [
    {
     "name": "stdout",
     "output_type": "stream",
     "text": [
      "================================\u001b[1m Human Message \u001b[0m=================================\n",
      "\n",
      "생존율은 소수점 둘째 자리까지 표시해주세요.\n",
      "==================================\u001b[1m Ai Message \u001b[0m==================================\n",
      "Tool Calls:\n",
      "  pandas_agent (call_IOnPF6HxxMjxxxKZk5ptQtDG)\n",
      " Call ID: call_IOnPF6HxxMjxxxKZk5ptQtDG\n",
      "  Args:\n",
      "    __arg1: df['Survived'].sum()\n",
      "  pandas_agent (call_WXbVOujBupK9kJ7Ca92IJ8Dd)\n",
      " Call ID: call_WXbVOujBupK9kJ7Ca92IJ8Dd\n",
      "  Args:\n",
      "    __arg1: len(df)\n",
      "=================================\u001b[1m Tool Message \u001b[0m=================================\n",
      "Name: pandas_agent\n",
      "\n",
      "{'input': 'len(df)', 'output': 'The length of the dataframe `df` is 891, meaning it contains 891 rows.', 'intermediate_steps': [(ToolAgentAction(tool='python_repl_ast', tool_input={'query': 'len(df)'}, log=\"\\nInvoking: `python_repl_ast` with `{'query': 'len(df)'}`\\n\\n\\n\", message_log=[AIMessageChunk(content='', additional_kwargs={'tool_calls': [{'index': 0, 'id': 'call_CMGuwjxBEIDRilcqXCXPLEns', 'function': {'arguments': '{\"query\":\"len(df)\"}', 'name': 'python_repl_ast'}, 'type': 'function'}]}, response_metadata={'finish_reason': 'tool_calls', 'model_name': 'gpt-4o-mini-2024-07-18', 'system_fingerprint': 'fp_482c22a7bc'}, id='run-b7122876-342b-488f-9543-0cf736a133fc', tool_calls=[{'name': 'python_repl_ast', 'args': {'query': 'len(df)'}, 'id': 'call_CMGuwjxBEIDRilcqXCXPLEns', 'type': 'tool_call'}], tool_call_chunks=[{'name': 'python_repl_ast', 'args': '{\"query\":\"len(df)\"}', 'id': 'call_CMGuwjxBEIDRilcqXCXPLEns', 'index': 0, 'type': 'tool_call_chunk'}])], tool_call_id='call_CMGuwjxBEIDRilcqXCXPLEns'), 891)]}\n",
      "==================================\u001b[1m Ai Message \u001b[0m==================================\n",
      "Tool Calls:\n",
      "  python_repl (call_xGF1fLkAjgyMNlz8Vdv0TLdR)\n",
      " Call ID: call_xGF1fLkAjgyMNlz8Vdv0TLdR\n",
      "  Args:\n",
      "    __arg1: survivors = 342\n",
      "passengers = 891\n",
      "survival_rate = (survivors / passengers) * 100\n",
      "round(survival_rate, 2)\n",
      "=================================\u001b[1m Tool Message \u001b[0m=================================\n",
      "Name: python_repl\n",
      "\n",
      "\n",
      "==================================\u001b[1m Ai Message \u001b[0m==================================\n",
      "\n",
      "생존자의 수는 342명이고, 전체 승객 수는 891명입니다. 이를 바탕으로 생존율을 계산하면, 생존율은 약 38.39%입니다.\n",
      "\n",
      "최종 답변:\n",
      "- 생존자의 수: 342명\n",
      "- 생존율: 38.39%\n"
     ]
    }
   ],
   "source": [
    "# 입력 값 정의 \n",
    "inputs = {\n",
    "    \"messages\": [\n",
    "        (\"user\", \"생존자의 수와 생존율을 계산해주세요.\"),\n",
    "        (\"user\", \"생존율은 소수점 둘째 자리까지 표시해주세요.\")\n",
    "        ]\n",
    "    }\n",
    "\n",
    "# 에이전트의 응답을 스트리밍 방식으로 출력  \n",
    "config = {\"recursion_limit\": 10}  \n",
    "for s in agent.stream(inputs, config=config, stream_mode=\"values\"):\n",
    "    message = s[\"messages\"][-1]\n",
    "    if isinstance(message, tuple):\n",
    "        print(message)\n",
    "    else:\n",
    "        message.pretty_print()"
   ]
  },
  {
   "cell_type": "markdown",
   "metadata": {},
   "source": [
    "# 7-46"
   ]
  },
  {
   "cell_type": "code",
   "execution_count": 29,
   "metadata": {},
   "outputs": [
    {
     "name": "stdout",
     "output_type": "stream",
     "text": [
      "================================\u001b[1m Human Message \u001b[0m=================================\n",
      "\n",
      "어떤 클래스의 생존율이 가장 높은지 분석해주세요.\n",
      "==================================\u001b[1m Ai Message \u001b[0m==================================\n",
      "Tool Calls:\n",
      "  pandas_agent (call_bfHbJyBP82HwmbspiGewpFps)\n",
      " Call ID: call_bfHbJyBP82HwmbspiGewpFps\n",
      "  Args:\n",
      "    __arg1: df.groupby('Pclass')['Survived'].mean()\n",
      "=================================\u001b[1m Tool Message \u001b[0m=================================\n",
      "Name: pandas_agent\n",
      "\n",
      "{'input': \"df.groupby('Pclass')['Survived'].mean()\", 'output': 'The mean survival rates by passenger class (Pclass) are as follows:\\n\\n- Pclass 1: 0.629630 (approximately 63%)\\n- Pclass 2: 0.472826 (approximately 47%)\\n- Pclass 3: 0.242363 (approximately 24%)', 'intermediate_steps': [(ToolAgentAction(tool='python_repl_ast', tool_input={'query': \"df.groupby('Pclass')['Survived'].mean()\"}, log='\\nInvoking: `python_repl_ast` with `{\\'query\\': \"df.groupby(\\'Pclass\\')[\\'Survived\\'].mean()\"}`\\n\\n\\n', message_log=[AIMessageChunk(content='', additional_kwargs={'tool_calls': [{'index': 0, 'id': 'call_trkl8wTJ5tBJYD3fXHNLcid2', 'function': {'arguments': '{\"query\":\"df.groupby(\\'Pclass\\')[\\'Survived\\'].mean()\"}', 'name': 'python_repl_ast'}, 'type': 'function'}]}, response_metadata={'finish_reason': 'tool_calls', 'model_name': 'gpt-4o-mini-2024-07-18', 'system_fingerprint': 'fp_482c22a7bc'}, id='run-54458b27-f5e2-4c73-bcc1-65cca850749c', tool_calls=[{'name': 'python_repl_ast', 'args': {'query': \"df.groupby('Pclass')['Survived'].mean()\"}, 'id': 'call_trkl8wTJ5tBJYD3fXHNLcid2', 'type': 'tool_call'}], tool_call_chunks=[{'name': 'python_repl_ast', 'args': '{\"query\":\"df.groupby(\\'Pclass\\')[\\'Survived\\'].mean()\"}', 'id': 'call_trkl8wTJ5tBJYD3fXHNLcid2', 'index': 0, 'type': 'tool_call_chunk'}])], tool_call_id='call_trkl8wTJ5tBJYD3fXHNLcid2'), Pclass\n",
      "1    0.629630\n",
      "2    0.472826\n",
      "3    0.242363\n",
      "Name: Survived, dtype: float64)]}\n",
      "==================================\u001b[1m Ai Message \u001b[0m==================================\n",
      "\n",
      "각 승객 클래스(Pclass)별 생존율은 다음과 같습니다:\n",
      "\n",
      "- **Pclass 1**: 0.629630 (약 63%)\n",
      "- **Pclass 2**: 0.472826 (약 47%)\n",
      "- **Pclass 3**: 0.242363 (약 24%)\n",
      "\n",
      "이를 통해 분석해보면, **Pclass 1**의 승객이 가장 높은 생존율(약 63%)을 보였고, **Pclass 3**의 승객은 가장 낮은 생존율(약 24%)을 보였습니다. \n",
      "\n",
      "결론적으로, 타이타닉에서 승객 클래스가 생존율에 큰 영향을 미쳤으며, 고급 클래스인 Pclass 1의 승객들이 상대적으로 더 높은 생존 가능성을 가졌음을 알 수 있습니다.\n"
     ]
    }
   ],
   "source": [
    "# 입력 값 정의 \n",
    "inputs = {\n",
    "    \"messages\": [\n",
    "        (\"user\", \"각 승객 클래스(Pclass)별 생존율을 계산하고,\"),\n",
    "        (\"user\", \"어떤 클래스의 생존율이 가장 높은지 분석해주세요.\")\n",
    "        ]\n",
    "    }\n",
    "\n",
    "# 에이전트의 응답을 스트리밍 방식으로 출력  \n",
    "config = {\"recursion_limit\": 10}  \n",
    "for s in agent.stream(inputs, config=config, stream_mode=\"values\"):\n",
    "    message = s[\"messages\"][-1]\n",
    "    if isinstance(message, tuple):\n",
    "        print(message)\n",
    "    else:\n",
    "        message.pretty_print()"
   ]
  },
  {
   "cell_type": "markdown",
   "metadata": {},
   "source": [
    "# 7-47"
   ]
  },
  {
   "cell_type": "code",
   "execution_count": 6,
   "metadata": {},
   "outputs": [
    {
     "name": "stdout",
     "output_type": "stream",
     "text": [
      "================================\u001b[1m Human Message \u001b[0m=================================\n",
      "\n",
      "막대 그래프를 사용하고, x축은 Pclass, y축은 생존율로 설정해주세요.\n",
      "==================================\u001b[1m Ai Message \u001b[0m==================================\n",
      "Tool Calls:\n",
      "  pandas_agent (call_m3kWTwuU9Lb8QSCtp8eoJGl9)\n",
      " Call ID: call_m3kWTwuU9Lb8QSCtp8eoJGl9\n",
      "  Args:\n",
      "    __arg1: import seaborn as sns\n",
      "import matplotlib.pyplot as plt\n",
      "\n",
      "# 생존율 계산\n",
      "survival_rate = df.groupby('Pclass')['Survived'].mean().reset_index()\n",
      "\n",
      "# 막대 그래프 그리기\n",
      "plt.figure(figsize=(8, 5))\n",
      "sns.barplot(x='Pclass', y='Survived', data=survival_rate, palette='viridis')\n",
      "plt.title('Pclass별 생존율')\n",
      "plt.xlabel('Pclass')\n",
      "plt.ylabel('생존율')\n",
      "plt.ylim(0, 1)\n",
      "plt.show()\n"
     ]
    },
    {
     "name": "stderr",
     "output_type": "stream",
     "text": [
      "<string>:5: FutureWarning: \n",
      "\n",
      "Passing `palette` without assigning `hue` is deprecated and will be removed in v0.14.0. Assign the `x` variable to `hue` and set `legend=False` for the same effect.\n",
      "\n",
      "/Users/steve2/Library/Caches/pypoetry/virtualenvs/langchain-book-AlsLlHcI-py3.11/lib/python3.11/site-packages/IPython/core/pylabtools.py:170: UserWarning: Glyph 49373 (\\N{HANGUL SYLLABLE SAENG}) missing from font(s) DejaVu Sans.\n",
      "  fig.canvas.print_figure(bytes_io, **kw)\n",
      "/Users/steve2/Library/Caches/pypoetry/virtualenvs/langchain-book-AlsLlHcI-py3.11/lib/python3.11/site-packages/IPython/core/pylabtools.py:170: UserWarning: Glyph 51316 (\\N{HANGUL SYLLABLE JON}) missing from font(s) DejaVu Sans.\n",
      "  fig.canvas.print_figure(bytes_io, **kw)\n",
      "/Users/steve2/Library/Caches/pypoetry/virtualenvs/langchain-book-AlsLlHcI-py3.11/lib/python3.11/site-packages/IPython/core/pylabtools.py:170: UserWarning: Glyph 50984 (\\N{HANGUL SYLLABLE YUL}) missing from font(s) DejaVu Sans.\n",
      "  fig.canvas.print_figure(bytes_io, **kw)\n",
      "/Users/steve2/Library/Caches/pypoetry/virtualenvs/langchain-book-AlsLlHcI-py3.11/lib/python3.11/site-packages/IPython/core/pylabtools.py:170: UserWarning: Glyph 48324 (\\N{HANGUL SYLLABLE BYEOL}) missing from font(s) DejaVu Sans.\n",
      "  fig.canvas.print_figure(bytes_io, **kw)\n"
     ]
    },
    {
     "data": {
      "image/png": "[encoded data removed]",
      "text/plain": [
       "<Figure size 800x500 with 1 Axes>"
      ]
     },
     "metadata": {},
     "output_type": "display_data"
    },
    {
     "name": "stdout",
     "output_type": "stream",
     "text": [
      "=================================\u001b[1m Tool Message \u001b[0m=================================\n",
      "Name: pandas_agent\n",
      "\n",
      "{'input': \"import seaborn as sns\\nimport matplotlib.pyplot as plt\\n\\n# 생존율 계산\\nsurvival_rate = df.groupby('Pclass')['Survived'].mean().reset_index()\\n\\n# 막대 그래프 그리기\\nplt.figure(figsize=(8, 5))\\nsns.barplot(x='Pclass', y='Survived', data=survival_rate, palette='viridis')\\nplt.title('Pclass별 생존율')\\nplt.xlabel('Pclass')\\nplt.ylabel('생존율')\\nplt.ylim(0, 1)\\nplt.show()\", 'output': 'The code you provided calculates the survival rate based on passenger class (Pclass) and then visualizes it using a bar plot. The plot shows the average survival rate for each class, with the y-axis ranging from 0 to 1. \\n\\nIf you have any specific questions or need further assistance with this code or its output, feel free to ask!', 'intermediate_steps': [(ToolAgentAction(tool='python_repl_ast', tool_input={'query': \"import seaborn as sns\\nimport matplotlib.pyplot as plt\\n\\n# 생존율 계산\\nsurvival_rate = df.groupby('Pclass')['Survived'].mean().reset_index()\\n\\n# 막대 그래프 그리기\\nplt.figure(figsize=(8, 5))\\nsns.barplot(x='Pclass', y='Survived', data=survival_rate, palette='viridis')\\nplt.title('Pclass별 생존율')\\nplt.xlabel('Pclass')\\nplt.ylabel('생존율')\\nplt.ylim(0, 1)\\nplt.show()\"}, log='\\nInvoking: `python_repl_ast` with `{\\'query\\': \"import seaborn as sns\\\\nimport matplotlib.pyplot as plt\\\\n\\\\n# 생존율 계산\\\\nsurvival_rate = df.groupby(\\'Pclass\\')[\\'Survived\\'].mean().reset_index()\\\\n\\\\n# 막대 그래프 그리기\\\\nplt.figure(figsize=(8, 5))\\\\nsns.barplot(x=\\'Pclass\\', y=\\'Survived\\', data=survival_rate, palette=\\'viridis\\')\\\\nplt.title(\\'Pclass별 생존율\\')\\\\nplt.xlabel(\\'Pclass\\')\\\\nplt.ylabel(\\'생존율\\')\\\\nplt.ylim(0, 1)\\\\nplt.show()\"}`\\n\\n\\n', message_log=[AIMessageChunk(content='', additional_kwargs={'tool_calls': [{'index': 0, 'id': 'call_JimkMzXTGJBcR4wVKY9ne7N6', 'function': {'arguments': '{\"query\":\"import seaborn as sns\\\\nimport matplotlib.pyplot as plt\\\\n\\\\n# 생존율 계산\\\\nsurvival_rate = df.groupby(\\'Pclass\\')[\\'Survived\\'].mean().reset_index()\\\\n\\\\n# 막대 그래프 그리기\\\\nplt.figure(figsize=(8, 5))\\\\nsns.barplot(x=\\'Pclass\\', y=\\'Survived\\', data=survival_rate, palette=\\'viridis\\')\\\\nplt.title(\\'Pclass별 생존율\\')\\\\nplt.xlabel(\\'Pclass\\')\\\\nplt.ylabel(\\'생존율\\')\\\\nplt.ylim(0, 1)\\\\nplt.show()\"}', 'name': 'python_repl_ast'}, 'type': 'function'}]}, response_metadata={'finish_reason': 'tool_calls', 'model_name': 'gpt-4o-mini-2024-07-18', 'system_fingerprint': 'fp_482c22a7bc'}, id='run-a6aa0fc7-915e-41ac-aed3-a25577b45d35', tool_calls=[{'name': 'python_repl_ast', 'args': {'query': \"import seaborn as sns\\nimport matplotlib.pyplot as plt\\n\\n# 생존율 계산\\nsurvival_rate = df.groupby('Pclass')['Survived'].mean().reset_index()\\n\\n# 막대 그래프 그리기\\nplt.figure(figsize=(8, 5))\\nsns.barplot(x='Pclass', y='Survived', data=survival_rate, palette='viridis')\\nplt.title('Pclass별 생존율')\\nplt.xlabel('Pclass')\\nplt.ylabel('생존율')\\nplt.ylim(0, 1)\\nplt.show()\"}, 'id': 'call_JimkMzXTGJBcR4wVKY9ne7N6', 'type': 'tool_call'}], tool_call_chunks=[{'name': 'python_repl_ast', 'args': '{\"query\":\"import seaborn as sns\\\\nimport matplotlib.pyplot as plt\\\\n\\\\n# 생존율 계산\\\\nsurvival_rate = df.groupby(\\'Pclass\\')[\\'Survived\\'].mean().reset_index()\\\\n\\\\n# 막대 그래프 그리기\\\\nplt.figure(figsize=(8, 5))\\\\nsns.barplot(x=\\'Pclass\\', y=\\'Survived\\', data=survival_rate, palette=\\'viridis\\')\\\\nplt.title(\\'Pclass별 생존율\\')\\\\nplt.xlabel(\\'Pclass\\')\\\\nplt.ylabel(\\'생존율\\')\\\\nplt.ylim(0, 1)\\\\nplt.show()\"}', 'id': 'call_JimkMzXTGJBcR4wVKY9ne7N6', 'index': 0, 'type': 'tool_call_chunk'}])], tool_call_id='call_JimkMzXTGJBcR4wVKY9ne7N6'), '')]}\n",
      "==================================\u001b[1m Ai Message \u001b[0m==================================\n",
      "\n",
      "위 코드는 타이타닉 데이터셋에서 승객 클래스(Pclass)별 생존율을 계산하고, 이를 막대 그래프로 시각화하는 방법을 보여줍니다. \n",
      "\n",
      "### 코드 설명:\n",
      "1. **생존율 계산**: `df.groupby('Pclass')['Survived'].mean().reset_index()`를 사용하여 각 승객 클래스별로 생존율을 계산합니다. 이때 `Survived` 열은 1이면 생존, 0이면 사망을 의미하므로 평균을 구하면 생존율이 됩니다.\n",
      "   \n",
      "2. **그래프 그리기**: \n",
      "   - `plt.figure(figsize=(8, 5))`로 그래프의 크기를 설정합니다.\n",
      "   - `sns.barplot()`을 사용하여 X축에 Pclass, Y축에 생존율을 설정한 막대 그래프를 생성합니다.\n",
      "   - 그래프의 제목과 축 레이블을 설정하고, Y축의 범위를 0부터 1로 설정합니다.\n",
      "\n",
      "3. **그래프 출력**: `plt.show()`를 호출하여 그래프를 출력합니다.\n",
      "\n",
      "이 코드를 실행하면 Pclass별 생존율을 나타내는 막대 그래프가 생성됩니다. 각 클래스의 생존율이 어떻게 다른지를 시각적으로 확인할 수 있습니다. \n",
      "\n",
      "추가 질문이나 요청이 있으시면 말씀해 주세요!\n"
     ]
    }
   ],
   "source": [
    "import matplotlib.pyplot as plt\n",
    "import seaborn as sns\n",
    "\n",
    "# 입력 값 정의 \n",
    "inputs = {\n",
    "    \"messages\": [\n",
    "        (\"user\", \"seaborn을 사용하여 승객 클래스(Pclass)별 생존율을 시각화해주세요.\"),\n",
    "        (\"user\", \"막대 그래프를 사용하고, x축은 Pclass, y축은 생존율로 설정해주세요.\"),\n",
    "        ]\n",
    "    }\n",
    "\n",
    "# 에이전트의 응답을 스트리밍 방식으로 출력  \n",
    "config = {\"recursion_limit\": 10}  \n",
    "for s in agent.stream(inputs, config=config, stream_mode=\"values\"):\n",
    "    message = s[\"messages\"][-1]\n",
    "    if isinstance(message, tuple):\n",
    "        print(message)\n",
    "    else:\n",
    "        message.pretty_print()"
   ]
  },
  {
   "cell_type": "markdown",
   "metadata": {},
   "source": [
    "# 7-48"
   ]
  },
  {
   "cell_type": "code",
   "execution_count": 137,
   "metadata": {},
   "outputs": [
    {
     "data": {
      "image/jpeg": "[encoded data removed]",
      "text/plain": [
       "<IPython.core.display.Image object>"
      ]
     },
     "metadata": {},
     "output_type": "display_data"
    }
   ],
   "source": [
    "# Tool 정의\n",
    "repl_tool = Tool(\n",
    "    name=\"python_repl_with_visualization\",\n",
    "    func=python_repl.run,\n",
    "    description=\"\"\"Python 명령을 실행하고 시각화하는 도구입니다. \n",
    "    복잡한 계산, pandas로 처리하기 어려운 작업, \n",
    "    또는 데이터 시각화에 사용합니다. \n",
    "    Matplotlib이나 Seaborn을 사용한 시각화 코드를 실행하면 이미지가 생성됩니다.\"\"\"\n",
    ")\n",
    "\n",
    "# 도구 목록 생성\n",
    "tools = [pandas_tool, repl_tool]\n",
    "\n",
    "# LLM 모델 인스턴스 생성\n",
    "model = ChatOpenAI(model=\"gpt-4o-mini\")\n",
    "\n",
    "# 시스템 프롬프트 정의 \n",
    "prompt = \"\"\"\n",
    "데이터셋을 분석하는 데이터 과학자 도우미입니다. \n",
    "데이터를 가져오는 작업과 분석 작업은 pandas_agent 도구를 사용합니다. \n",
    "파이썬 코드 실행과 시각화 작업은 python_repl_with_visualization 도구를 사용합니다. \n",
    "답변에 대한 추론 과정과 근거에 대해서 설명하고 최종 답변을 출력합니다.\n",
    "\"\"\"\n",
    "\n",
    "# LLM에 도구 바인딩하여 ReAct 에이전트 생성 \n",
    "agent = create_react_agent(model, tools=tools, state_modifier=prompt)\n",
    "\n",
    "# 에이전트 그래프 구조를 시각화 \n",
    "display(Image(agent.get_graph().draw_mermaid_png()))"
   ]
  },
  {
   "cell_type": "markdown",
   "metadata": {},
   "source": [
    "# 7-49"
   ]
  },
  {
   "cell_type": "code",
   "execution_count": 138,
   "metadata": {},
   "outputs": [
    {
     "name": "stdout",
     "output_type": "stream",
     "text": [
      "================================\u001b[1m Human Message \u001b[0m=================================\n",
      "\n",
      "막대 그래프를 사용하고, x축은 Pclass, y축은 생존율로 설정해주세요.\n",
      "==================================\u001b[1m Ai Message \u001b[0m==================================\n",
      "Tool Calls:\n",
      "  pandas_agent (call_7DivpmL6f98Mb2nq2BxLvHbW)\n",
      " Call ID: call_7DivpmL6f98Mb2nq2BxLvHbW\n",
      "  Args:\n",
      "    __arg1: df.groupby('Pclass')['Survived'].mean()\n",
      "=================================\u001b[1m Tool Message \u001b[0m=================================\n",
      "Name: pandas_agent\n",
      "\n",
      "{'input': \"df.groupby('Pclass')['Survived'].mean()\", 'output': 'The mean survival rates by passenger class (Pclass) are as follows:\\n\\n- Pclass 1: 0.629630 (approximately 63%)\\n- Pclass 2: 0.472826 (approximately 47%)\\n- Pclass 3: 0.244353 (approximately 24%)', 'intermediate_steps': [(ToolAgentAction(tool='python_repl_ast', tool_input={'query': \"df.groupby('Pclass')['Survived'].mean()\"}, log='\\nInvoking: `python_repl_ast` with `{\\'query\\': \"df.groupby(\\'Pclass\\')[\\'Survived\\'].mean()\"}`\\n\\n\\n', message_log=[AIMessageChunk(content='', additional_kwargs={'tool_calls': [{'index': 0, 'id': 'call_6vwC7ROag1uxTzcmYvCjImQ1', 'function': {'arguments': '{\"query\":\"df.groupby(\\'Pclass\\')[\\'Survived\\'].mean()\"}', 'name': 'python_repl_ast'}, 'type': 'function'}]}, response_metadata={'finish_reason': 'tool_calls', 'model_name': 'gpt-4o-mini-2024-07-18', 'system_fingerprint': 'fp_482c22a7bc'}, id='run-cb187189-eb66-4454-a359-176eb8e05466', tool_calls=[{'name': 'python_repl_ast', 'args': {'query': \"df.groupby('Pclass')['Survived'].mean()\"}, 'id': 'call_6vwC7ROag1uxTzcmYvCjImQ1', 'type': 'tool_call'}], tool_call_chunks=[{'name': 'python_repl_ast', 'args': '{\"query\":\"df.groupby(\\'Pclass\\')[\\'Survived\\'].mean()\"}', 'id': 'call_6vwC7ROag1uxTzcmYvCjImQ1', 'index': 0, 'type': 'tool_call_chunk'}])], tool_call_id='call_6vwC7ROag1uxTzcmYvCjImQ1'), Pclass\n",
      "1    0.629630\n",
      "2    0.472826\n",
      "3    0.244353\n",
      "Name: Survived, dtype: float64)]}\n"
     ]
    },
    {
     "data": {
      "image/png": "[encoded data removed]",
      "text/plain": [
       "<Figure size 800x500 with 1 Axes>"
      ]
     },
     "metadata": {},
     "output_type": "display_data"
    },
    {
     "name": "stdout",
     "output_type": "stream",
     "text": [
      "==================================\u001b[1m Ai Message \u001b[0m==================================\n",
      "Tool Calls:\n",
      "  python_repl_with_visualization (call_4cqJgqFOGoOccG2XfNTXoKXI)\n",
      " Call ID: call_4cqJgqFOGoOccG2XfNTXoKXI\n",
      "  Args:\n",
      "    __arg1: import matplotlib.pyplot as plt\n",
      "import pandas as pd\n",
      "\n",
      "# 생존율 데이터\n",
      "pclass_survival_rates = {1: 0.629630, 2: 0.472826, 3: 0.244353}\n",
      "\n",
      "# 데이터프레임으로 변환\n",
      "survival_df = pd.DataFrame(list(pclass_survival_rates.items()), columns=['Pclass', 'Survival Rate'])\n",
      "\n",
      "# 막대 그래프 생성\n",
      "plt.figure(figsize=(8, 5))\n",
      "plt.bar(survival_df['Pclass'], survival_df['Survival Rate'], color=['blue', 'orange', 'green'])\n",
      "plt.xlabel('Pclass')\n",
      "plt.ylabel('Survival Rate')\n",
      "plt.title('Survival Rate by Passenger Class (Pclass)')\n",
      "plt.xticks(survival_df['Pclass'])\n",
      "plt.ylim(0, 1)\n",
      "plt.grid(axis='y')\n",
      "plt.show()\n",
      "=================================\u001b[1m Tool Message \u001b[0m=================================\n",
      "Name: python_repl_with_visualization\n",
      "\n",
      "\n",
      "==================================\u001b[1m Ai Message \u001b[0m==================================\n",
      "\n",
      "생존율을 클래스(Pclass)별로 나타낸 막대 그래프를 생성했습니다. 아래 그래프에서 각 클래스에 따른 생존율을 확인할 수 있습니다:\n",
      "\n",
      "- 1등급(Pclass 1): 약 63%\n",
      "- 2등급(Pclass 2): 약 47%\n",
      "- 3등급(Pclass 3): 약 24%\n",
      "\n",
      "그래프에서 볼 수 있듯이, 1등급 승객의 생존율이 가장 높고, 3등급 승객의 생존율은 가장 낮습니다.\n"
     ]
    }
   ],
   "source": [
    "# 입력 값 정의 \n",
    "inputs = {\n",
    "    \"messages\": [\n",
    "        (\"user\", \"승객 클래스(Pclass)별 생존율을 시각화해주세요.\"),\n",
    "        (\"user\", \"막대 그래프를 사용하고, x축은 Pclass, y축은 생존율로 설정해주세요.\"),\n",
    "        ]\n",
    "    }\n",
    "\n",
    "# 에이전트의 응답을 스트리밍 방식으로 출력  \n",
    "config = {\"recursion_limit\": 10}  \n",
    "for s in agent.stream(inputs, config=config, stream_mode=\"values\"):\n",
    "    message = s[\"messages\"][-1]\n",
    "    if isinstance(message, tuple):\n",
    "        print(message)\n",
    "    else:\n",
    "        message.pretty_print()"
   ]
  },
  {
   "cell_type": "markdown",
   "metadata": {},
   "source": [
    "# 7-50"
   ]
  },
  {
   "cell_type": "code",
   "execution_count": 139,
   "metadata": {},
   "outputs": [
    {
     "data": {
      "text/plain": [
       "[HumanMessage(content='승객 클래스(Pclass)별 생존율을 시각화해주세요.', additional_kwargs={}, response_metadata={}, id='07beca6b-ef62-4c13-b696-d3a998b03aba'),\n",
       " HumanMessage(content='막대 그래프를 사용하고, x축은 Pclass, y축은 생존율로 설정해주세요.', additional_kwargs={}, response_metadata={}, id='8a8080b6-f187-40b5-9bf1-5173d948447a'),\n",
       " AIMessage(content='', additional_kwargs={'tool_calls': [{'id': 'call_7DivpmL6f98Mb2nq2BxLvHbW', 'function': {'arguments': '{\"__arg1\":\"df.groupby(\\'Pclass\\')[\\'Survived\\'].mean()\"}', 'name': 'pandas_agent'}, 'type': 'function'}], 'refusal': None}, response_metadata={'token_usage': {'completion_tokens': 28, 'prompt_tokens': 289, 'total_tokens': 317, 'completion_tokens_details': {'reasoning_tokens': 0}, 'prompt_tokens_details': {'cached_tokens': 0}}, 'model_name': 'gpt-4o-mini-2024-07-18', 'system_fingerprint': 'fp_482c22a7bc', 'finish_reason': 'tool_calls', 'logprobs': None}, id='run-ae3a4447-779a-4e50-9025-d7925b06f196-0', tool_calls=[{'name': 'pandas_agent', 'args': {'__arg1': \"df.groupby('Pclass')['Survived'].mean()\"}, 'id': 'call_7DivpmL6f98Mb2nq2BxLvHbW', 'type': 'tool_call'}], usage_metadata={'input_tokens': 289, 'output_tokens': 28, 'total_tokens': 317}),\n",
       " ToolMessage(content='{\\'input\\': \"df.groupby(\\'Pclass\\')[\\'Survived\\'].mean()\", \\'output\\': \\'The mean survival rates by passenger class (Pclass) are as follows:\\\\n\\\\n- Pclass 1: 0.629630 (approximately 63%)\\\\n- Pclass 2: 0.472826 (approximately 47%)\\\\n- Pclass 3: 0.244353 (approximately 24%)\\', \\'intermediate_steps\\': [(ToolAgentAction(tool=\\'python_repl_ast\\', tool_input={\\'query\\': \"df.groupby(\\'Pclass\\')[\\'Survived\\'].mean()\"}, log=\\'\\\\nInvoking: `python_repl_ast` with `{\\\\\\'query\\\\\\': \"df.groupby(\\\\\\'Pclass\\\\\\')[\\\\\\'Survived\\\\\\'].mean()\"}`\\\\n\\\\n\\\\n\\', message_log=[AIMessageChunk(content=\\'\\', additional_kwargs={\\'tool_calls\\': [{\\'index\\': 0, \\'id\\': \\'call_6vwC7ROag1uxTzcmYvCjImQ1\\', \\'function\\': {\\'arguments\\': \\'{\"query\":\"df.groupby(\\\\\\'Pclass\\\\\\')[\\\\\\'Survived\\\\\\'].mean()\"}\\', \\'name\\': \\'python_repl_ast\\'}, \\'type\\': \\'function\\'}]}, response_metadata={\\'finish_reason\\': \\'tool_calls\\', \\'model_name\\': \\'gpt-4o-mini-2024-07-18\\', \\'system_fingerprint\\': \\'fp_482c22a7bc\\'}, id=\\'run-cb187189-eb66-4454-a359-176eb8e05466\\', tool_calls=[{\\'name\\': \\'python_repl_ast\\', \\'args\\': {\\'query\\': \"df.groupby(\\'Pclass\\')[\\'Survived\\'].mean()\"}, \\'id\\': \\'call_6vwC7ROag1uxTzcmYvCjImQ1\\', \\'type\\': \\'tool_call\\'}], tool_call_chunks=[{\\'name\\': \\'python_repl_ast\\', \\'args\\': \\'{\"query\":\"df.groupby(\\\\\\'Pclass\\\\\\')[\\\\\\'Survived\\\\\\'].mean()\"}\\', \\'id\\': \\'call_6vwC7ROag1uxTzcmYvCjImQ1\\', \\'index\\': 0, \\'type\\': \\'tool_call_chunk\\'}])], tool_call_id=\\'call_6vwC7ROag1uxTzcmYvCjImQ1\\'), Pclass\\n1    0.629630\\n2    0.472826\\n3    0.244353\\nName: Survived, dtype: float64)]}', name='pandas_agent', id='5081222a-e378-4518-b7c9-6d8a8bc2fd3f', tool_call_id='call_7DivpmL6f98Mb2nq2BxLvHbW'),\n",
       " AIMessage(content='', additional_kwargs={'tool_calls': [{'id': 'call_4cqJgqFOGoOccG2XfNTXoKXI', 'function': {'arguments': '{\"__arg1\":\"import matplotlib.pyplot as plt\\\\nimport pandas as pd\\\\n\\\\n# 생존율 데이터\\\\npclass_survival_rates = {1: 0.629630, 2: 0.472826, 3: 0.244353}\\\\n\\\\n# 데이터프레임으로 변환\\\\nsurvival_df = pd.DataFrame(list(pclass_survival_rates.items()), columns=[\\'Pclass\\', \\'Survival Rate\\'])\\\\n\\\\n# 막대 그래프 생성\\\\nplt.figure(figsize=(8, 5))\\\\nplt.bar(survival_df[\\'Pclass\\'], survival_df[\\'Survival Rate\\'], color=[\\'blue\\', \\'orange\\', \\'green\\'])\\\\nplt.xlabel(\\'Pclass\\')\\\\nplt.ylabel(\\'Survival Rate\\')\\\\nplt.title(\\'Survival Rate by Passenger Class (Pclass)\\')\\\\nplt.xticks(survival_df[\\'Pclass\\'])\\\\nplt.ylim(0, 1)\\\\nplt.grid(axis=\\'y\\')\\\\nplt.show()\"}', 'name': 'python_repl_with_visualization'}, 'type': 'function'}], 'refusal': None}, response_metadata={'token_usage': {'completion_tokens': 223, 'prompt_tokens': 850, 'total_tokens': 1073, 'completion_tokens_details': {'reasoning_tokens': 0}, 'prompt_tokens_details': {'cached_tokens': 0}}, 'model_name': 'gpt-4o-mini-2024-07-18', 'system_fingerprint': 'fp_482c22a7bc', 'finish_reason': 'tool_calls', 'logprobs': None}, id='run-8a3bb94c-ef46-4b05-8b62-3cc323c18636-0', tool_calls=[{'name': 'python_repl_with_visualization', 'args': {'__arg1': \"import matplotlib.pyplot as plt\\nimport pandas as pd\\n\\n# 생존율 데이터\\npclass_survival_rates = {1: 0.629630, 2: 0.472826, 3: 0.244353}\\n\\n# 데이터프레임으로 변환\\nsurvival_df = pd.DataFrame(list(pclass_survival_rates.items()), columns=['Pclass', 'Survival Rate'])\\n\\n# 막대 그래프 생성\\nplt.figure(figsize=(8, 5))\\nplt.bar(survival_df['Pclass'], survival_df['Survival Rate'], color=['blue', 'orange', 'green'])\\nplt.xlabel('Pclass')\\nplt.ylabel('Survival Rate')\\nplt.title('Survival Rate by Passenger Class (Pclass)')\\nplt.xticks(survival_df['Pclass'])\\nplt.ylim(0, 1)\\nplt.grid(axis='y')\\nplt.show()\"}, 'id': 'call_4cqJgqFOGoOccG2XfNTXoKXI', 'type': 'tool_call'}], usage_metadata={'input_tokens': 850, 'output_tokens': 223, 'total_tokens': 1073}),\n",
       " ToolMessage(content='', name='python_repl_with_visualization', id='149b4459-7342-4257-a784-26ba6ab87f4f', tool_call_id='call_4cqJgqFOGoOccG2XfNTXoKXI'),\n",
       " AIMessage(content='생존율을 클래스(Pclass)별로 나타낸 막대 그래프를 생성했습니다. 아래 그래프에서 각 클래스에 따른 생존율을 확인할 수 있습니다:\\n\\n- 1등급(Pclass 1): 약 63%\\n- 2등급(Pclass 2): 약 47%\\n- 3등급(Pclass 3): 약 24%\\n\\n그래프에서 볼 수 있듯이, 1등급 승객의 생존율이 가장 높고, 3등급 승객의 생존율은 가장 낮습니다.', additional_kwargs={'refusal': None}, response_metadata={'token_usage': {'completion_tokens': 119, 'prompt_tokens': 1085, 'total_tokens': 1204, 'completion_tokens_details': {'reasoning_tokens': 0}, 'prompt_tokens_details': {'cached_tokens': 1024}}, 'model_name': 'gpt-4o-mini-2024-07-18', 'system_fingerprint': 'fp_482c22a7bc', 'finish_reason': 'stop', 'logprobs': None}, id='run-f337b1b7-2270-4ec8-92a8-491a5338cb6c-0', usage_metadata={'input_tokens': 1085, 'output_tokens': 119, 'total_tokens': 1204})]"
      ]
     },
     "execution_count": 139,
     "metadata": {},
     "output_type": "execute_result"
    }
   ],
   "source": [
    "# 에이전트의 대화 메시지 목록을 출력 \n",
    "s[\"messages\"]"
   ]
  },
  {
   "cell_type": "markdown",
   "metadata": {},
   "source": [
    "# 7-51"
   ]
  },
  {
   "cell_type": "code",
   "execution_count": 141,
   "metadata": {},
   "outputs": [
    {
     "data": {
      "text/plain": [
       "[{'name': 'python_repl_with_visualization',\n",
       "  'args': {'__arg1': \"import matplotlib.pyplot as plt\\nimport pandas as pd\\n\\n# 생존율 데이터\\npclass_survival_rates = {1: 0.629630, 2: 0.472826, 3: 0.244353}\\n\\n# 데이터프레임으로 변환\\nsurvival_df = pd.DataFrame(list(pclass_survival_rates.items()), columns=['Pclass', 'Survival Rate'])\\n\\n# 막대 그래프 생성\\nplt.figure(figsize=(8, 5))\\nplt.bar(survival_df['Pclass'], survival_df['Survival Rate'], color=['blue', 'orange', 'green'])\\nplt.xlabel('Pclass')\\nplt.ylabel('Survival Rate')\\nplt.title('Survival Rate by Passenger Class (Pclass)')\\nplt.xticks(survival_df['Pclass'])\\nplt.ylim(0, 1)\\nplt.grid(axis='y')\\nplt.show()\"},\n",
       "  'id': 'call_4cqJgqFOGoOccG2XfNTXoKXI',\n",
       "  'type': 'tool_call'}]"
      ]
     },
     "execution_count": 141,
     "metadata": {},
     "output_type": "execute_result"
    }
   ],
   "source": [
    "# 에이전트의 도구 호출 내역을 확인 \n",
    "s[\"messages\"][-3].tool_calls"
   ]
  },
  {
   "cell_type": "markdown",
   "metadata": {},
   "source": [
    "# 7-52"
   ]
  },
  {
   "cell_type": "code",
   "execution_count": 142,
   "metadata": {},
   "outputs": [
    {
     "data": {
      "image/png": "[encoded data removed]",
      "text/plain": [
       "<Figure size 800x500 with 1 Axes>"
      ]
     },
     "metadata": {},
     "output_type": "display_data"
    },
    {
     "data": {
      "text/plain": [
       "ToolMessage(content='', name='python_repl_with_visualization', tool_call_id='call_4cqJgqFOGoOccG2XfNTXoKXI')"
      ]
     },
     "execution_count": 142,
     "metadata": {},
     "output_type": "execute_result"
    }
   ],
   "source": [
    "# 도구 호출 내역을 입력하여 도구 실행 \n",
    "repl_tool.invoke(s[\"messages\"][-3].tool_calls[0])"
   ]
  }
 ],
 "metadata": {
  "kernelspec": {
   "display_name": "langchain-book-AlsLlHcI-py3.11",
   "language": "python",
   "name": "python3"
  },
  "language_info": {
   "codemirror_mode": {
    "name": "ipython",
    "version": 3
   },
   "file_extension": ".py",
   "mimetype": "text/x-python",
   "name": "python",
   "nbconvert_exporter": "python",
   "pygments_lexer": "ipython3",
   "version": "3.11.8"
  }
 },
 "nbformat": 4,
 "nbformat_minor": 2
}
